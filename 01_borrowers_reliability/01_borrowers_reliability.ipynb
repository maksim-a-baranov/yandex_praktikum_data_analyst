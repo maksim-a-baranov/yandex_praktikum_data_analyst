{
 "cells": [
  {
   "cell_type": "markdown",
   "metadata": {},
   "source": [
    "# Исследование надёжности заёмщиков"
   ]
  },
  {
   "cell_type": "markdown",
   "metadata": {},
   "source": [
    "## Оглавление\n",
    "<a id = \"index\"></a>"
   ]
  },
  {
   "cell_type": "markdown",
   "metadata": {},
   "source": [
    "1. [Задание](#task)\n",
    "1. [Настройка окружения](#env)\n",
    "1. [Загрузка и первичное изучение данных](#first_look)\n",
    "1. [Подготовка данных](#etl)\n",
    "1. [Исследовательский анализ данных](#eda)\n",
    "1. [Главные гипотезы](#main_hypotheses)\n",
    "1. [Выводы и рекомендации](#conclusion)"
   ]
  },
  {
   "cell_type": "markdown",
   "metadata": {},
   "source": [
    "## Задание\n",
    "<a id = \"task\"></a>\n",
    "[В оглавление](#index)"
   ]
  },
  {
   "cell_type": "markdown",
   "metadata": {},
   "source": [
    "Заказчик — кредитный отдел банка. Нужно разобраться, влияет ли семейное положение и количество детей клиента на факт погашения кредита в срок. Входные данные от банка — статистика о платёжеспособности клиентов.\n",
    "\n",
    "Результаты исследования будут учтены при построении модели **кредитного скоринга** — специальной системы, которая оценивает способность потенциального заёмщика вернуть кредит банку."
   ]
  },
  {
   "cell_type": "markdown",
   "metadata": {},
   "source": [
    "## Настройка окружения\n",
    "<a id = \"env\"></a>\n",
    "[В оглавление](#index)"
   ]
  },
  {
   "cell_type": "code",
   "execution_count": 1,
   "metadata": {},
   "outputs": [
    {
     "name": "stdout",
     "output_type": "stream",
     "text": [
      "Requirement already satisfied: pymystem3 in /Users/maksim/opt/anaconda3/lib/python3.7/site-packages (0.2.0)\n",
      "Requirement already satisfied: requests in /Users/maksim/opt/anaconda3/lib/python3.7/site-packages (from pymystem3) (2.24.0)\n",
      "Requirement already satisfied: idna<3,>=2.5 in /Users/maksim/opt/anaconda3/lib/python3.7/site-packages (from requests->pymystem3) (2.10)\n",
      "Requirement already satisfied: chardet<4,>=3.0.2 in /Users/maksim/opt/anaconda3/lib/python3.7/site-packages (from requests->pymystem3) (3.0.4)\n",
      "Requirement already satisfied: certifi>=2017.4.17 in /Users/maksim/opt/anaconda3/lib/python3.7/site-packages (from requests->pymystem3) (2020.6.20)\n",
      "Requirement already satisfied: urllib3!=1.25.0,!=1.25.1,<1.26,>=1.21.1 in /Users/maksim/opt/anaconda3/lib/python3.7/site-packages (from requests->pymystem3) (1.25.9)\n",
      "\u001b[33mWARNING: You are using pip version 20.2.2; however, version 20.2.3 is available.\n",
      "You should consider upgrading via the '/Users/maksim/opt/anaconda3/bin/python -m pip install --upgrade pip' command.\u001b[0m\n",
      "Note: you may need to restart the kernel to use updated packages.\n"
     ]
    }
   ],
   "source": [
    "pip install pymystem3"
   ]
  },
  {
   "cell_type": "code",
   "execution_count": 11,
   "metadata": {},
   "outputs": [],
   "source": [
    "import pandas as pd\n",
    "from collections import Counter\n",
    "\n",
    "from pymystem3 import Mystem\n",
    "m = Mystem()\n",
    "\n",
    "# отображение одного знака после запятой\n",
    "pd.options.display.float_format = '{:,.1f}'.format"
   ]
  },
  {
   "cell_type": "markdown",
   "metadata": {},
   "source": [
    "## Загрузка и первичное изучение данных\n",
    "<a id = \"first_look\"></a>\n",
    "[В оглавление](#index)"
   ]
  },
  {
   "cell_type": "code",
   "execution_count": 3,
   "metadata": {},
   "outputs": [],
   "source": [
    "df = pd.read_csv('data.csv')"
   ]
  },
  {
   "cell_type": "code",
   "execution_count": 4,
   "metadata": {},
   "outputs": [
    {
     "name": "stdout",
     "output_type": "stream",
     "text": [
      "<class 'pandas.core.frame.DataFrame'>\n",
      "RangeIndex: 21525 entries, 0 to 21524\n",
      "Data columns (total 12 columns):\n",
      " #   Column            Non-Null Count  Dtype  \n",
      "---  ------            --------------  -----  \n",
      " 0   children          21525 non-null  int64  \n",
      " 1   days_employed     19351 non-null  float64\n",
      " 2   dob_years         21525 non-null  int64  \n",
      " 3   education         21525 non-null  object \n",
      " 4   education_id      21525 non-null  int64  \n",
      " 5   family_status     21525 non-null  object \n",
      " 6   family_status_id  21525 non-null  int64  \n",
      " 7   gender            21525 non-null  object \n",
      " 8   income_type       21525 non-null  object \n",
      " 9   debt              21525 non-null  int64  \n",
      " 10  total_income      19351 non-null  float64\n",
      " 11  purpose           21525 non-null  object \n",
      "dtypes: float64(2), int64(5), object(5)\n",
      "memory usage: 2.0+ MB\n"
     ]
    }
   ],
   "source": [
    "df.info()"
   ]
  },
  {
   "cell_type": "code",
   "execution_count": 5,
   "metadata": {},
   "outputs": [
    {
     "data": {
      "text/html": [
       "<div>\n",
       "<style scoped>\n",
       "    .dataframe tbody tr th:only-of-type {\n",
       "        vertical-align: middle;\n",
       "    }\n",
       "\n",
       "    .dataframe tbody tr th {\n",
       "        vertical-align: top;\n",
       "    }\n",
       "\n",
       "    .dataframe thead th {\n",
       "        text-align: right;\n",
       "    }\n",
       "</style>\n",
       "<table border=\"1\" class=\"dataframe\">\n",
       "  <thead>\n",
       "    <tr style=\"text-align: right;\">\n",
       "      <th></th>\n",
       "      <th>children</th>\n",
       "      <th>days_employed</th>\n",
       "      <th>dob_years</th>\n",
       "      <th>education</th>\n",
       "      <th>education_id</th>\n",
       "      <th>family_status</th>\n",
       "      <th>family_status_id</th>\n",
       "      <th>gender</th>\n",
       "      <th>income_type</th>\n",
       "      <th>debt</th>\n",
       "      <th>total_income</th>\n",
       "      <th>purpose</th>\n",
       "    </tr>\n",
       "  </thead>\n",
       "  <tbody>\n",
       "    <tr>\n",
       "      <th>0</th>\n",
       "      <td>1</td>\n",
       "      <td>-8437.673028</td>\n",
       "      <td>42</td>\n",
       "      <td>высшее</td>\n",
       "      <td>0</td>\n",
       "      <td>женат / замужем</td>\n",
       "      <td>0</td>\n",
       "      <td>F</td>\n",
       "      <td>сотрудник</td>\n",
       "      <td>0</td>\n",
       "      <td>253875.639453</td>\n",
       "      <td>покупка жилья</td>\n",
       "    </tr>\n",
       "    <tr>\n",
       "      <th>1</th>\n",
       "      <td>1</td>\n",
       "      <td>-4024.803754</td>\n",
       "      <td>36</td>\n",
       "      <td>среднее</td>\n",
       "      <td>1</td>\n",
       "      <td>женат / замужем</td>\n",
       "      <td>0</td>\n",
       "      <td>F</td>\n",
       "      <td>сотрудник</td>\n",
       "      <td>0</td>\n",
       "      <td>112080.014102</td>\n",
       "      <td>приобретение автомобиля</td>\n",
       "    </tr>\n",
       "    <tr>\n",
       "      <th>2</th>\n",
       "      <td>0</td>\n",
       "      <td>-5623.422610</td>\n",
       "      <td>33</td>\n",
       "      <td>Среднее</td>\n",
       "      <td>1</td>\n",
       "      <td>женат / замужем</td>\n",
       "      <td>0</td>\n",
       "      <td>M</td>\n",
       "      <td>сотрудник</td>\n",
       "      <td>0</td>\n",
       "      <td>145885.952297</td>\n",
       "      <td>покупка жилья</td>\n",
       "    </tr>\n",
       "    <tr>\n",
       "      <th>3</th>\n",
       "      <td>3</td>\n",
       "      <td>-4124.747207</td>\n",
       "      <td>32</td>\n",
       "      <td>среднее</td>\n",
       "      <td>1</td>\n",
       "      <td>женат / замужем</td>\n",
       "      <td>0</td>\n",
       "      <td>M</td>\n",
       "      <td>сотрудник</td>\n",
       "      <td>0</td>\n",
       "      <td>267628.550329</td>\n",
       "      <td>дополнительное образование</td>\n",
       "    </tr>\n",
       "    <tr>\n",
       "      <th>4</th>\n",
       "      <td>0</td>\n",
       "      <td>340266.072047</td>\n",
       "      <td>53</td>\n",
       "      <td>среднее</td>\n",
       "      <td>1</td>\n",
       "      <td>гражданский брак</td>\n",
       "      <td>1</td>\n",
       "      <td>F</td>\n",
       "      <td>пенсионер</td>\n",
       "      <td>0</td>\n",
       "      <td>158616.077870</td>\n",
       "      <td>сыграть свадьбу</td>\n",
       "    </tr>\n",
       "  </tbody>\n",
       "</table>\n",
       "</div>"
      ],
      "text/plain": [
       "   children  days_employed  dob_years education  education_id  \\\n",
       "0         1   -8437.673028         42    высшее             0   \n",
       "1         1   -4024.803754         36   среднее             1   \n",
       "2         0   -5623.422610         33   Среднее             1   \n",
       "3         3   -4124.747207         32   среднее             1   \n",
       "4         0  340266.072047         53   среднее             1   \n",
       "\n",
       "      family_status  family_status_id gender income_type  debt   total_income  \\\n",
       "0   женат / замужем                 0      F   сотрудник     0  253875.639453   \n",
       "1   женат / замужем                 0      F   сотрудник     0  112080.014102   \n",
       "2   женат / замужем                 0      M   сотрудник     0  145885.952297   \n",
       "3   женат / замужем                 0      M   сотрудник     0  267628.550329   \n",
       "4  гражданский брак                 1      F   пенсионер     0  158616.077870   \n",
       "\n",
       "                      purpose  \n",
       "0               покупка жилья  \n",
       "1     приобретение автомобиля  \n",
       "2               покупка жилья  \n",
       "3  дополнительное образование  \n",
       "4             сыграть свадьбу  "
      ]
     },
     "execution_count": 5,
     "metadata": {},
     "output_type": "execute_result"
    }
   ],
   "source": [
    "df.head()"
   ]
  },
  {
   "cell_type": "markdown",
   "metadata": {},
   "source": [
    "### Вывод по разделу\n",
    "\n",
    "1. Требуется заполнение пропусков. Пропуски по столбцам **days_employed**,  **total_income** похожи на неслучайные, т.к. пропущенно одинаковое кол-во строк.\n",
    "2. Типы данных подходят для анализа и перевод в иные типы не требуется. Обнаружены некорректные данные как минимум по столбцу 'days_employed'. Требуется детальный анализ состава данных по каждому столбцу.\n",
    "3. Детальный анализ и выводы по каждому столбцу приведены в соответствующих шагах ниже. "
   ]
  },
  {
   "cell_type": "markdown",
   "metadata": {},
   "source": [
    "## Подготовка данных\n",
    "<a id = \"etl\"></a>\n",
    "[В оглавление](#index)"
   ]
  },
  {
   "cell_type": "markdown",
   "metadata": {},
   "source": [
    "- Необходимо вести возрастные категории до этапа обработки пропусков. С учётом возрастных категорий обработка пропусков будет выполнена точнее. \n",
    "- Для ввода возрастных категорий необходимо провести анализ столбца ВОЗРАСТА и при необходимости исправить данные. "
   ]
  },
  {
   "cell_type": "markdown",
   "metadata": {},
   "source": [
    "#### Столбец 'income_type'"
   ]
  },
  {
   "cell_type": "code",
   "execution_count": 6,
   "metadata": {},
   "outputs": [
    {
     "data": {
      "text/plain": [
       "сотрудник          11119\n",
       "компаньон           5085\n",
       "пенсионер           3856\n",
       "госслужащий         1459\n",
       "безработный            2\n",
       "предприниматель        2\n",
       "в декрете              1\n",
       "студент                1\n",
       "Name: income_type, dtype: int64"
      ]
     },
     "execution_count": 6,
     "metadata": {},
     "output_type": "execute_result"
    }
   ],
   "source": [
    "df['income_type'].value_counts()"
   ]
  },
  {
   "cell_type": "markdown",
   "metadata": {},
   "source": [
    "__Выводы:__ \n",
    "* \"компаньон\" — это семейное положение, поэтому нужно изменить на \"безработный\", \n",
    "* \"в декрете\" — это временный статус работающего, поэтому нужно изменить на \"сотрудник\"."
   ]
  },
  {
   "cell_type": "code",
   "execution_count": 7,
   "metadata": {},
   "outputs": [],
   "source": [
    "# изменение \"компаньон\" на \"безработный\"\n",
    "df.loc[df['income_type'] == 'компаньон', 'income_type'] = 'безработный'\n",
    "#df['income_type'] = df['income_type'].replace('компаньон', 'безработный')"
   ]
  },
  {
   "cell_type": "code",
   "execution_count": 8,
   "metadata": {},
   "outputs": [],
   "source": [
    "# изменение \"в декрете\" на \"сотрудник\"\n",
    "df.loc[df['income_type'] == 'в декрете', 'income_type'] = 'сотрудник'\n",
    "#df['income_type'] = df['income_type'].replace('в декрете', 'сотрудник')"
   ]
  },
  {
   "cell_type": "code",
   "execution_count": 12,
   "metadata": {},
   "outputs": [
    {
     "data": {
      "text/plain": [
       "сотрудник          11120\n",
       "безработный         5087\n",
       "пенсионер           3856\n",
       "госслужащий         1459\n",
       "предприниматель        2\n",
       "студент                1\n",
       "Name: income_type, dtype: int64"
      ]
     },
     "execution_count": 12,
     "metadata": {},
     "output_type": "execute_result"
    }
   ],
   "source": [
    "# проверка после изменений\n",
    "df['income_type'].value_counts()"
   ]
  },
  {
   "cell_type": "markdown",
   "metadata": {},
   "source": [
    "#### Столбец 'dob_years'"
   ]
  },
  {
   "cell_type": "code",
   "execution_count": 13,
   "metadata": {},
   "outputs": [
    {
     "data": {
      "text/plain": [
       "count   21,525.0\n",
       "mean        43.3\n",
       "std         12.6\n",
       "min          0.0\n",
       "25%         33.0\n",
       "50%         42.0\n",
       "75%         53.0\n",
       "max         75.0\n",
       "Name: dob_years, dtype: float64"
      ]
     },
     "execution_count": 13,
     "metadata": {},
     "output_type": "execute_result"
    }
   ],
   "source": [
    "# проверка нулевого возраста или несовершеннолетия заёмщиков\n",
    "df['dob_years'].describe()"
   ]
  },
  {
   "cell_type": "markdown",
   "metadata": {},
   "source": [
    "__Выводы:__\n",
    "* Аномально высокого возраста заёмщиков нет. \n",
    "* Нулевой возраст недопустим. Необходимо заменить нулевой возраст средним в зависимости от ТИПА ЗАНЯТОСТИ."
   ]
  },
  {
   "cell_type": "code",
   "execution_count": 14,
   "metadata": {},
   "outputs": [
    {
     "data": {
      "text/plain": [
       "0      пенсионер\n",
       "1      сотрудник\n",
       "2    безработный\n",
       "3    госслужащий\n",
       "Name: income_type, dtype: object"
      ]
     },
     "execution_count": 14,
     "metadata": {},
     "output_type": "execute_result"
    }
   ],
   "source": [
    "# создание временного вспомогательного словаря заёмщиков с нулевым возрастом по ТИПУ ЗАНЯТОСТИ\n",
    "income_type_dict = df[df['dob_years'] == 0]['income_type']\n",
    "income_type_dict = income_type_dict.drop_duplicates().reset_index(drop = True)\n",
    "income_type_dict"
   ]
  },
  {
   "cell_type": "code",
   "execution_count": 22,
   "metadata": {},
   "outputs": [],
   "source": [
    "# замена нулевого возраста средним в зависимости от ТИПА ЗАНЯТОСТИ\n",
    "for income_type in income_type_dict:\n",
    "    median_age = df[(df['income_type'] == income_type) & \n",
    "                    (df['dob_years'] != 0)]['dob_years'].median()\n",
    "    df.loc[(df['income_type'] == income_type) & \n",
    "           (df['dob_years'] == 0), 'dob_years'] = median_age\n",
    "    \n",
    "df['dob_years'] = df['dob_years'].astype(\"int\")"
   ]
  },
  {
   "cell_type": "code",
   "execution_count": 23,
   "metadata": {},
   "outputs": [
    {
     "data": {
      "text/plain": [
       "19     14\n",
       "20     51\n",
       "21    111\n",
       "22    183\n",
       "23    254\n",
       "Name: dob_years, dtype: int64"
      ]
     },
     "execution_count": 23,
     "metadata": {},
     "output_type": "execute_result"
    }
   ],
   "source": [
    "# проверка наличия нулевого возраста после изменений\n",
    "df['dob_years'].value_counts().sort_index().head()"
   ]
  },
  {
   "cell_type": "code",
   "execution_count": 24,
   "metadata": {},
   "outputs": [],
   "source": [
    "# категоризация возраста (на основе Крылов А.А. Глава 15. Возрастные периоды развития человека)\n",
    "def age_group(age):\n",
    "    if age < 18:\n",
    "        return 'несовершеннолетний'\n",
    "    if age >= 18 and  age <= 25:\n",
    "        return 'молодой'\n",
    "    elif age > 25 and age <= 40:\n",
    "        return 'средний'\n",
    "    elif age > 40 and age <= 65:\n",
    "        return 'выше среднего'\n",
    "    else:\n",
    "        return 'пожилой'\n",
    "\n",
    "df['age_group'] = df['dob_years'].apply(age_group)"
   ]
  },
  {
   "cell_type": "code",
   "execution_count": 25,
   "metadata": {},
   "outputs": [
    {
     "data": {
      "text/plain": [
       "0    выше среднего\n",
       "1          средний\n",
       "2          молодой\n",
       "3          пожилой\n",
       "Name: age_group, dtype: object"
      ]
     },
     "execution_count": 25,
     "metadata": {},
     "output_type": "execute_result"
    }
   ],
   "source": [
    "# создание вспомогательного словаря ВОЗРАСТНЫХ ГРУПП\n",
    "age_group_dict = df['age_group']\n",
    "age_group_dict = age_group_dict.drop_duplicates().reset_index(drop = True)\n",
    "age_group_dict"
   ]
  },
  {
   "cell_type": "markdown",
   "metadata": {},
   "source": [
    "### Обработка пропусков"
   ]
  },
  {
   "cell_type": "code",
   "execution_count": 26,
   "metadata": {},
   "outputs": [
    {
     "data": {
      "text/plain": [
       "children               0\n",
       "days_employed       2174\n",
       "dob_years              0\n",
       "education              0\n",
       "education_id           0\n",
       "family_status          0\n",
       "family_status_id       0\n",
       "gender                 0\n",
       "income_type            0\n",
       "debt                   0\n",
       "total_income        2174\n",
       "purpose                0\n",
       "age_group              0\n",
       "dtype: int64"
      ]
     },
     "execution_count": 26,
     "metadata": {},
     "output_type": "execute_result"
    }
   ],
   "source": [
    "df.isnull().sum()"
   ]
  },
  {
   "cell_type": "code",
   "execution_count": 27,
   "metadata": {},
   "outputs": [
    {
     "data": {
      "text/plain": [
       "income_type\n",
       "безработный         508\n",
       "госслужащий         147\n",
       "пенсионер           413\n",
       "предприниматель       1\n",
       "сотрудник          1105\n",
       "студент               0\n",
       "Name: days_employed, dtype: int64"
      ]
     },
     "execution_count": 27,
     "metadata": {},
     "output_type": "execute_result"
    }
   ],
   "source": [
    "# проверка пропущенных значений СТАЖА по типу занятости\n",
    "df['days_employed'].isnull().groupby(df['income_type']).sum().astype('int')"
   ]
  },
  {
   "cell_type": "code",
   "execution_count": 28,
   "metadata": {},
   "outputs": [
    {
     "data": {
      "text/plain": [
       "income_type\n",
       "безработный         508\n",
       "госслужащий         147\n",
       "пенсионер           413\n",
       "предприниматель       1\n",
       "сотрудник          1105\n",
       "студент               0\n",
       "Name: total_income, dtype: int64"
      ]
     },
     "execution_count": 28,
     "metadata": {},
     "output_type": "execute_result"
    }
   ],
   "source": [
    "# проверка пропущенных значений ДОХОДА по типу занятости\n",
    "df['total_income'].isnull().groupby(df['income_type']).sum().astype('int')"
   ]
  },
  {
   "cell_type": "markdown",
   "metadata": {},
   "source": [
    "- Количество пропущенных записей по СТАЖУ и ДОХОДУ одинаково по одним и тем же группам занятости.\n",
    "- Пропущенные значения СТАЖА и ДОХОДА по группам \"госслужащий\", \"компаньон\", \"пенсионер\", \"сотрудник\" необходимо заполнить медианными значениями по ТИПУ ЗАНЯТОСТИ (и ВОЗРАСТНОЙ ГРУППЕ).\n",
    "- Необходимо отдельно проверить запись ПРЕДПРИНИМАТЕЛЬ."
   ]
  },
  {
   "cell_type": "markdown",
   "metadata": {},
   "source": [
    "__Обработка пропусков по записи ПРЕДПРИНИМАТЕЛЬ__ "
   ]
  },
  {
   "cell_type": "code",
   "execution_count": 29,
   "metadata": {},
   "outputs": [
    {
     "data": {
      "text/html": [
       "<div>\n",
       "<style scoped>\n",
       "    .dataframe tbody tr th:only-of-type {\n",
       "        vertical-align: middle;\n",
       "    }\n",
       "\n",
       "    .dataframe tbody tr th {\n",
       "        vertical-align: top;\n",
       "    }\n",
       "\n",
       "    .dataframe thead th {\n",
       "        text-align: right;\n",
       "    }\n",
       "</style>\n",
       "<table border=\"1\" class=\"dataframe\">\n",
       "  <thead>\n",
       "    <tr style=\"text-align: right;\">\n",
       "      <th></th>\n",
       "      <th>children</th>\n",
       "      <th>days_employed</th>\n",
       "      <th>dob_years</th>\n",
       "      <th>education</th>\n",
       "      <th>education_id</th>\n",
       "      <th>family_status</th>\n",
       "      <th>family_status_id</th>\n",
       "      <th>gender</th>\n",
       "      <th>income_type</th>\n",
       "      <th>debt</th>\n",
       "      <th>total_income</th>\n",
       "      <th>purpose</th>\n",
       "      <th>age_group</th>\n",
       "    </tr>\n",
       "  </thead>\n",
       "  <tbody>\n",
       "    <tr>\n",
       "      <th>5936</th>\n",
       "      <td>0</td>\n",
       "      <td>nan</td>\n",
       "      <td>58</td>\n",
       "      <td>высшее</td>\n",
       "      <td>0</td>\n",
       "      <td>женат / замужем</td>\n",
       "      <td>0</td>\n",
       "      <td>M</td>\n",
       "      <td>предприниматель</td>\n",
       "      <td>0</td>\n",
       "      <td>nan</td>\n",
       "      <td>покупка жилой недвижимости</td>\n",
       "      <td>выше среднего</td>\n",
       "    </tr>\n",
       "  </tbody>\n",
       "</table>\n",
       "</div>"
      ],
      "text/plain": [
       "      children  days_employed  dob_years education  education_id  \\\n",
       "5936         0            nan         58    высшее             0   \n",
       "\n",
       "        family_status  family_status_id gender      income_type  debt  \\\n",
       "5936  женат / замужем                 0      M  предприниматель     0   \n",
       "\n",
       "      total_income                     purpose      age_group  \n",
       "5936           nan  покупка жилой недвижимости  выше среднего  "
      ]
     },
     "execution_count": 29,
     "metadata": {},
     "output_type": "execute_result"
    }
   ],
   "source": [
    "# запись ПРЕДПРИНИМАТЕЛЬ без дохода и стажа\n",
    "df[(df['income_type'] == 'предприниматель') & \n",
    "   (df['days_employed'].isnull())]"
   ]
  },
  {
   "cell_type": "markdown",
   "metadata": {},
   "source": [
    "Запись ПРЕДПРИНИМАТЕЛЬ с пропущенными значениями СТАЖА и ДОХОДА содержит информацию о семейном положении, детях и возврате кредита. При этом медиану СТАЖА и ДОХОДА по группе ПРЕДПРИНИМАТЕЛЬ считать некорректно, т.к. с таким ТИПОМ ЗАНЯТОСТИ всего две записи. Принято решение об удалении записи."
   ]
  },
  {
   "cell_type": "code",
   "execution_count": 30,
   "metadata": {},
   "outputs": [],
   "source": [
    "# удаление записи ПРЕДПРИНИМАТЕЛЬ без дохода и стажа\n",
    "df.drop(df[(df['income_type'] == 'предприниматель') & (df['days_employed'].isnull())].index , inplace = True)"
   ]
  },
  {
   "cell_type": "code",
   "execution_count": 31,
   "metadata": {},
   "outputs": [],
   "source": [
    "# Также по данной записи пропущенные значения можно заполнить нулями.\n",
    "\n",
    "# заполнение пропущенных значений по записи ПРЕДПРИНИМАТЕЛЬ без дохода и стажа\n",
    "#df.loc[(df['income_type'] == 'предприниматель') & (df['days_employed'].isnull()), 'days_employed'] = 0\n",
    "#df.loc[(df['income_type'] == 'предприниматель') & (df['total_income'].isnull()), 'total_income'] = 0"
   ]
  },
  {
   "cell_type": "markdown",
   "metadata": {},
   "source": [
    "#### Обработка пропусков по столбцу 'days_employed'"
   ]
  },
  {
   "cell_type": "code",
   "execution_count": 32,
   "metadata": {},
   "outputs": [],
   "source": [
    "# создание временного вспомогательного словаря\n",
    "income_type_dict = df[df['days_employed'].isnull()]['income_type']\n",
    "income_type_dict = income_type_dict.drop_duplicates().reset_index(drop = True)\n",
    "\n",
    "# замена пропущенного стажа — средним в зависимости от ТИПА ЗАНЯТОСТИ и ВОЗРАСТНОЙ ГРУППЫ\n",
    "for income_type in income_type_dict:\n",
    "    for age_group in age_group_dict:\n",
    "        mean_days_employed = df[(df['income_type'] == income_type) & \n",
    "                                (df['age_group'] == age_group) & \n",
    "                                (df['days_employed'].isnull() == False)]['days_employed'].mean()\n",
    "        df.loc[(df['income_type'] == income_type) & \n",
    "               (df['age_group'] == age_group) & \n",
    "               (df['days_employed'].isnull() == True) , 'days_employed'] = mean_days_employed"
   ]
  },
  {
   "cell_type": "markdown",
   "metadata": {},
   "source": [
    "#### Обработка пропусков по столбцу \"total_income\" "
   ]
  },
  {
   "cell_type": "code",
   "execution_count": 33,
   "metadata": {},
   "outputs": [
    {
     "data": {
      "text/plain": [
       "20,667.3    1\n",
       "21,205.3    1\n",
       "21,367.6    1\n",
       "21,695.1    1\n",
       "21,895.6    1\n",
       "Name: total_income, dtype: int64"
      ]
     },
     "execution_count": 33,
     "metadata": {},
     "output_type": "execute_result"
    }
   ],
   "source": [
    "# проверка отрицательного дохода\n",
    "df['total_income'].value_counts().sort_index().head()"
   ]
  },
  {
   "cell_type": "code",
   "execution_count": 34,
   "metadata": {},
   "outputs": [
    {
     "data": {
      "text/plain": [
       "1,711,309.3    1\n",
       "1,715,018.4    1\n",
       "1,726,276.0    1\n",
       "2,200,852.2    1\n",
       "2,265,604.0    1\n",
       "Name: total_income, dtype: int64"
      ]
     },
     "execution_count": 34,
     "metadata": {},
     "output_type": "execute_result"
    }
   ],
   "source": [
    "# проверка аномально высокго дохода\n",
    "df['total_income'].value_counts().sort_index().tail()"
   ]
  },
  {
   "cell_type": "markdown",
   "metadata": {},
   "source": [
    "Артефактов в ДОХОДАХ не обнаружено."
   ]
  },
  {
   "cell_type": "code",
   "execution_count": 35,
   "metadata": {},
   "outputs": [],
   "source": [
    "# создание временного вспомогательного словаря ТИПОВ ЗАНЯТОСТИ с пропущенными значениями ДОХОДА\n",
    "income_type_dict = df[df['total_income'].isnull()]['income_type']\n",
    "income_type_dict = income_type_dict.drop_duplicates().reset_index(drop = True)\n",
    "\n",
    "# замена пропущенного дохода — медианным в зависимости от ТИПА ЗАНЯТОСТИ и ВОЗРАСТА\n",
    "for income_type in income_type_dict:\n",
    "    for age_group in age_group_dict:\n",
    "        median_total_income = df[(df['income_type'] == income_type) & \n",
    "                                 (df['age_group'] == age_group) & \n",
    "                                 (df['total_income'].isnull() == False)]['total_income'].median()\n",
    "        df.loc[(df['income_type'] == income_type) & \n",
    "               (df['age_group'] == age_group) & \n",
    "               (df['total_income'].isnull() == True) , 'total_income'] = median_total_income"
   ]
  },
  {
   "cell_type": "markdown",
   "metadata": {},
   "source": [
    "#### Проверка обработки пропусков"
   ]
  },
  {
   "cell_type": "code",
   "execution_count": 36,
   "metadata": {},
   "outputs": [
    {
     "data": {
      "text/plain": [
       "children            0\n",
       "days_employed       0\n",
       "dob_years           0\n",
       "education           0\n",
       "education_id        0\n",
       "family_status       0\n",
       "family_status_id    0\n",
       "gender              0\n",
       "income_type         0\n",
       "debt                0\n",
       "total_income        0\n",
       "purpose             0\n",
       "age_group           0\n",
       "dtype: int64"
      ]
     },
     "execution_count": 36,
     "metadata": {},
     "output_type": "execute_result"
    }
   ],
   "source": [
    "df.isnull().sum()"
   ]
  },
  {
   "cell_type": "markdown",
   "metadata": {},
   "source": [
    "Количество пропусков по столбцам **days_employed**,  **total_income** одинаковое.  Вероятно они возникли при объединении нескольких баз данных. Необходимо сообщить разработчикам."
   ]
  },
  {
   "cell_type": "markdown",
   "metadata": {},
   "source": [
    "### Замена типа данных\n",
    "\n",
    "Типы данных подходят для анализа и перевод не требуется. Требуется изменение самих данных."
   ]
  },
  {
   "cell_type": "markdown",
   "metadata": {},
   "source": [
    "#### Столбец 'gender'"
   ]
  },
  {
   "cell_type": "code",
   "execution_count": 37,
   "metadata": {},
   "outputs": [
    {
     "data": {
      "text/plain": [
       "F      14236\n",
       "M       7287\n",
       "XNA        1\n",
       "Name: gender, dtype: int64"
      ]
     },
     "execution_count": 37,
     "metadata": {},
     "output_type": "execute_result"
    }
   ],
   "source": [
    "df['gender'].value_counts()"
   ]
  },
  {
   "cell_type": "code",
   "execution_count": 38,
   "metadata": {},
   "outputs": [
    {
     "data": {
      "text/html": [
       "<div>\n",
       "<style scoped>\n",
       "    .dataframe tbody tr th:only-of-type {\n",
       "        vertical-align: middle;\n",
       "    }\n",
       "\n",
       "    .dataframe tbody tr th {\n",
       "        vertical-align: top;\n",
       "    }\n",
       "\n",
       "    .dataframe thead th {\n",
       "        text-align: right;\n",
       "    }\n",
       "</style>\n",
       "<table border=\"1\" class=\"dataframe\">\n",
       "  <thead>\n",
       "    <tr style=\"text-align: right;\">\n",
       "      <th></th>\n",
       "      <th>children</th>\n",
       "      <th>days_employed</th>\n",
       "      <th>dob_years</th>\n",
       "      <th>education</th>\n",
       "      <th>education_id</th>\n",
       "      <th>family_status</th>\n",
       "      <th>family_status_id</th>\n",
       "      <th>gender</th>\n",
       "      <th>income_type</th>\n",
       "      <th>debt</th>\n",
       "      <th>total_income</th>\n",
       "      <th>purpose</th>\n",
       "      <th>age_group</th>\n",
       "    </tr>\n",
       "  </thead>\n",
       "  <tbody>\n",
       "    <tr>\n",
       "      <th>10701</th>\n",
       "      <td>0</td>\n",
       "      <td>-2,358.6</td>\n",
       "      <td>24</td>\n",
       "      <td>неоконченное высшее</td>\n",
       "      <td>2</td>\n",
       "      <td>гражданский брак</td>\n",
       "      <td>1</td>\n",
       "      <td>XNA</td>\n",
       "      <td>безработный</td>\n",
       "      <td>0</td>\n",
       "      <td>203,905.2</td>\n",
       "      <td>покупка недвижимости</td>\n",
       "      <td>молодой</td>\n",
       "    </tr>\n",
       "  </tbody>\n",
       "</table>\n",
       "</div>"
      ],
      "text/plain": [
       "       children  days_employed  dob_years            education  education_id  \\\n",
       "10701         0       -2,358.6         24  неоконченное высшее             2   \n",
       "\n",
       "          family_status  family_status_id gender  income_type  debt  \\\n",
       "10701  гражданский брак                 1    XNA  безработный     0   \n",
       "\n",
       "       total_income               purpose age_group  \n",
       "10701     203,905.2  покупка недвижимости   молодой  "
      ]
     },
     "execution_count": 38,
     "metadata": {},
     "output_type": "execute_result"
    }
   ],
   "source": [
    "df[(df['gender'] == 'XNA')]"
   ]
  },
  {
   "cell_type": "markdown",
   "metadata": {},
   "source": [
    "* В РФ пока нет возможности указать иной пол кроме М или Ж, поэтому неуказанный/неизвестный пол считается за опечатку. Единичную запись можно удалить, так как заёмщик с неизвестным полом только один.\n",
    "* Пол указан на английском языке, в то время как остальные данные на русском. Принято решение о приведении к единому стилю выборки."
   ]
  },
  {
   "cell_type": "code",
   "execution_count": 39,
   "metadata": {},
   "outputs": [],
   "source": [
    "# удаление записей с неизвестным/неуказанным полом\n",
    "df.drop(df[df['gender'] == 'XNA'].index , inplace = True)\n",
    "\n",
    "# корректировка названий полов\n",
    "df.loc[df['gender'] == \"F\", 'gender'] = 'Ж'\n",
    "df.loc[df['gender'] == \"M\", 'gender'] = 'М'"
   ]
  },
  {
   "cell_type": "code",
   "execution_count": 40,
   "metadata": {},
   "outputs": [
    {
     "data": {
      "text/plain": [
       "Ж    14236\n",
       "М     7287\n",
       "Name: gender, dtype: int64"
      ]
     },
     "execution_count": 40,
     "metadata": {},
     "output_type": "execute_result"
    }
   ],
   "source": [
    "# проверка\n",
    "df['gender'].value_counts()"
   ]
  },
  {
   "cell_type": "markdown",
   "metadata": {},
   "source": [
    "#### Столбец 'days_employed'"
   ]
  },
  {
   "cell_type": "code",
   "execution_count": 41,
   "metadata": {},
   "outputs": [
    {
     "data": {
      "text/plain": [
       "income_type\n",
       "безработный         -1951\n",
       "госслужащий         -3395\n",
       "пенсионер          364993\n",
       "предприниматель      -520\n",
       "сотрудник           -2328\n",
       "студент              -578\n",
       "Name: days_employed, dtype: int64"
      ]
     },
     "execution_count": 41,
     "metadata": {},
     "output_type": "execute_result"
    }
   ],
   "source": [
    "# проверка среднего стажа работы по типу занятости\n",
    "(df.groupby('income_type')['days_employed'].mean()).astype('int64')"
   ]
  },
  {
   "cell_type": "code",
   "execution_count": 42,
   "metadata": {},
   "outputs": [
    {
     "data": {
      "text/plain": [
       "income_type\n",
       "безработный         -5\n",
       "госслужащий         -9\n",
       "пенсионер          999\n",
       "предприниматель     -1\n",
       "сотрудник           -6\n",
       "студент             -1\n",
       "Name: days_employed, dtype: int64"
      ]
     },
     "execution_count": 42,
     "metadata": {},
     "output_type": "execute_result"
    }
   ],
   "source": [
    "# проверка среднего стажа работы по типу занятости в годах\n",
    "(df.groupby('income_type')['days_employed'].mean()/365).astype('int64')"
   ]
  },
  {
   "cell_type": "markdown",
   "metadata": {},
   "source": [
    "- Модули отрицательных значений стажа похожи на реальный стаж работы — __их нужно обратить__.\n",
    "- У пенсионеров скорее всего в столбце СТАЖ возникло аномальное значение вместо реального стажа. Экспресс-гипотеза, что указаны года со сбитым форматом не подтвердилась, т.к. появились отрицательные значения года начала работа. __Принято решение: для пенсионеров указать  стаж с учётом начала работы в 20 лет и до пенсии: для женщин — 55 лет, для мужчин — 60 лет.__"
   ]
  },
  {
   "cell_type": "markdown",
   "metadata": {},
   "source": [
    "#### Корректировка СТАЖА для всех, кроме пенсионеров"
   ]
  },
  {
   "cell_type": "code",
   "execution_count": 43,
   "metadata": {},
   "outputs": [],
   "source": [
    "# обращение отрицательных значений\n",
    "df.loc[df['income_type'] != 'пенсионер', 'days_employed'] = df.loc[df['income_type'] != 'пенсионер', 'days_employed'].abs()"
   ]
  },
  {
   "cell_type": "markdown",
   "metadata": {},
   "source": [
    "#### Корректировка СТАЖА для пенсионеров"
   ]
  },
  {
   "cell_type": "code",
   "execution_count": 44,
   "metadata": {},
   "outputs": [],
   "source": [
    "# замена СТАЖА по пенсионерам-женщинам\n",
    "df.loc[(df['income_type'] == 'пенсионер') & (df['gender'] == 'Ж'), 'days_employed'] = 35*365\n",
    "\n",
    "# замена СТАЖА по пенсионерам-мужчинам\n",
    "df.loc[(df['income_type'] == 'пенсионер') & (df['gender'] == 'М'), 'days_employed'] = 40*365"
   ]
  },
  {
   "cell_type": "markdown",
   "metadata": {},
   "source": [
    "### Перевод дней стажа в целочисленный вид "
   ]
  },
  {
   "cell_type": "code",
   "execution_count": 45,
   "metadata": {},
   "outputs": [],
   "source": [
    "df['days_employed'] = df['days_employed'].astype('int64')"
   ]
  },
  {
   "cell_type": "markdown",
   "metadata": {},
   "source": [
    "- Типы данных подходят для анализа и перевод не требуется.\n",
    "- Необходимо проработать с разработчиками причины некорректного заполенения СТАЖА:\n",
    "    * отрицательного для всех, кроме пенсионеров;\n",
    "    * аномального для пенсионеров."
   ]
  },
  {
   "cell_type": "code",
   "execution_count": 46,
   "metadata": {},
   "outputs": [
    {
     "data": {
      "text/plain": [
       "children              int64\n",
       "days_employed         int64\n",
       "dob_years             int64\n",
       "education            object\n",
       "education_id          int64\n",
       "family_status        object\n",
       "family_status_id      int64\n",
       "gender               object\n",
       "income_type          object\n",
       "debt                  int64\n",
       "total_income        float64\n",
       "purpose              object\n",
       "age_group            object\n",
       "dtype: object"
      ]
     },
     "execution_count": 46,
     "metadata": {},
     "output_type": "execute_result"
    }
   ],
   "source": [
    "df.dtypes"
   ]
  },
  {
   "cell_type": "markdown",
   "metadata": {},
   "source": [
    "#### Столбец 'children'"
   ]
  },
  {
   "cell_type": "code",
   "execution_count": 47,
   "metadata": {},
   "outputs": [
    {
     "data": {
      "text/plain": [
       " 0     14147\n",
       " 1      4818\n",
       " 2      2055\n",
       " 3       330\n",
       " 20       76\n",
       "-1        47\n",
       " 4        41\n",
       " 5         9\n",
       "Name: children, dtype: int64"
      ]
     },
     "execution_count": 47,
     "metadata": {},
     "output_type": "execute_result"
    }
   ],
   "source": [
    "# проверка дубликатов по столбцу ДЕТИ\n",
    "df['children'].value_counts()"
   ]
  },
  {
   "cell_type": "markdown",
   "metadata": {},
   "source": [
    "Присутствуют артефакты — отрицательные значения и у 76 заёмщиков ровно по 20 детей :\n",
    "* Отрицательные значения детей: вряд ли это умершие дети, поэтому считается за опечатку. Группу заёмщиколв стоит обеденить с группой, у кого 1 ребёнок.\n",
    "* Выбивающееся значение \"20 детей\": скорее всего опечатка, так как после 5 детей идёт сразу 20 и нет промежуточных значений, а само значение \"20 детей\" встречается не один раз. Группу заёмщиков стоит объеденить к группой, у кого 2 ребёнка."
   ]
  },
  {
   "cell_type": "code",
   "execution_count": 48,
   "metadata": {},
   "outputs": [],
   "source": [
    "# корректировка отрицательных значений детей\n",
    "df.loc[df['children'] == -1, 'children'] = 1"
   ]
  },
  {
   "cell_type": "code",
   "execution_count": 49,
   "metadata": {},
   "outputs": [],
   "source": [
    "# корректировка значений \"20 детей\"\n",
    "df.loc[df['children'] == 20, 'children'] = 2"
   ]
  },
  {
   "cell_type": "code",
   "execution_count": 50,
   "metadata": {},
   "outputs": [
    {
     "data": {
      "text/plain": [
       "0    14147\n",
       "1     4865\n",
       "2     2131\n",
       "3      330\n",
       "4       41\n",
       "5        9\n",
       "Name: children, dtype: int64"
      ]
     },
     "execution_count": 50,
     "metadata": {},
     "output_type": "execute_result"
    }
   ],
   "source": [
    "# проверка\n",
    "df['children'].value_counts()"
   ]
  },
  {
   "cell_type": "markdown",
   "metadata": {},
   "source": [
    "#### Столбец 'education'"
   ]
  },
  {
   "cell_type": "code",
   "execution_count": 51,
   "metadata": {},
   "outputs": [
    {
     "data": {
      "text/plain": [
       "среднее                13750\n",
       "высшее                  4717\n",
       "СРЕДНЕЕ                  772\n",
       "Среднее                  711\n",
       "неоконченное высшее      667\n",
       "ВЫСШЕЕ                   274\n",
       "Высшее                   268\n",
       "начальное                250\n",
       "Неоконченное высшее       47\n",
       "НЕОКОНЧЕННОЕ ВЫСШЕЕ       29\n",
       "НАЧАЛЬНОЕ                 17\n",
       "Начальное                 15\n",
       "ученая степень             4\n",
       "УЧЕНАЯ СТЕПЕНЬ             1\n",
       "Ученая степень             1\n",
       "Name: education, dtype: int64"
      ]
     },
     "execution_count": 51,
     "metadata": {},
     "output_type": "execute_result"
    }
   ],
   "source": [
    "df['education'].value_counts()"
   ]
  },
  {
   "cell_type": "code",
   "execution_count": 52,
   "metadata": {},
   "outputs": [
    {
     "data": {
      "text/plain": [
       "1    15233\n",
       "0     5259\n",
       "2      743\n",
       "3      282\n",
       "4        6\n",
       "Name: education_id, dtype: int64"
      ]
     },
     "execution_count": 52,
     "metadata": {},
     "output_type": "execute_result"
    }
   ],
   "source": [
    "df['education_id'].value_counts()"
   ]
  },
  {
   "cell_type": "markdown",
   "metadata": {},
   "source": [
    "Данные заполнены несистемно — требуется приведние в строчный вид."
   ]
  },
  {
   "cell_type": "code",
   "execution_count": 53,
   "metadata": {},
   "outputs": [],
   "source": [
    "# df.duplicated"
   ]
  },
  {
   "cell_type": "code",
   "execution_count": 54,
   "metadata": {},
   "outputs": [],
   "source": [
    "# приведение к строчному виду\n",
    "df['education'] = df['education'].str.lower()"
   ]
  },
  {
   "cell_type": "code",
   "execution_count": 55,
   "metadata": {},
   "outputs": [
    {
     "name": "stdout",
     "output_type": "stream",
     "text": [
      "OK\n"
     ]
    }
   ],
   "source": [
    "# проверка\n",
    "if df['education'].value_counts().sum() == df['education_id'].value_counts().sum():\n",
    "    print('OK')"
   ]
  },
  {
   "cell_type": "markdown",
   "metadata": {},
   "source": [
    "#### Столбец 'family_status'"
   ]
  },
  {
   "cell_type": "code",
   "execution_count": 56,
   "metadata": {},
   "outputs": [
    {
     "data": {
      "text/plain": [
       "женат / замужем          12379\n",
       "гражданский брак          4176\n",
       "Не женат / не замужем     2813\n",
       "в разводе                 1195\n",
       "вдовец / вдова             960\n",
       "Name: family_status, dtype: int64"
      ]
     },
     "execution_count": 56,
     "metadata": {},
     "output_type": "execute_result"
    }
   ],
   "source": [
    "df['family_status'].value_counts()"
   ]
  },
  {
   "cell_type": "code",
   "execution_count": 57,
   "metadata": {},
   "outputs": [
    {
     "data": {
      "text/plain": [
       "0    12379\n",
       "1     4176\n",
       "4     2813\n",
       "3     1195\n",
       "2      960\n",
       "Name: family_status_id, dtype: int64"
      ]
     },
     "execution_count": 57,
     "metadata": {},
     "output_type": "execute_result"
    }
   ],
   "source": [
    "df['family_status_id'].value_counts()"
   ]
  },
  {
   "cell_type": "markdown",
   "metadata": {},
   "source": [
    "* Данные требуют приведния в строчный вид с привязкой к соответствующему идентификатору.\n",
    "* Согласно Семейному кодексу РФ, незарегистрированное совместное проживание мужчины и женщины,т.е. __гражданский брак__, не порождает брачных прав и обязанностей, в части не касаемой детей.\n",
    "* Перевод категории \"гражданский брак\" в \"не женат / не замужем\" следует обсудить с юр. отделом."
   ]
  },
  {
   "cell_type": "code",
   "execution_count": 58,
   "metadata": {},
   "outputs": [],
   "source": [
    "# приведение к строчному виду\n",
    "df['family_status'] = df['family_status'].str.lower()"
   ]
  },
  {
   "cell_type": "code",
   "execution_count": 59,
   "metadata": {},
   "outputs": [
    {
     "name": "stdout",
     "output_type": "stream",
     "text": [
      "OK\n"
     ]
    }
   ],
   "source": [
    "# проверка\n",
    "if df['family_status'].value_counts().sum() == df['family_status_id'].value_counts().sum():\n",
    "    print('OK')"
   ]
  },
  {
   "cell_type": "markdown",
   "metadata": {},
   "source": [
    "#### Столбец 'debt'"
   ]
  },
  {
   "cell_type": "code",
   "execution_count": 60,
   "metadata": {},
   "outputs": [
    {
     "data": {
      "text/plain": [
       "0    19782\n",
       "1     1741\n",
       "Name: debt, dtype: int64"
      ]
     },
     "execution_count": 60,
     "metadata": {},
     "output_type": "execute_result"
    }
   ],
   "source": [
    "df['debt'].value_counts().sort_index().head()"
   ]
  },
  {
   "cell_type": "markdown",
   "metadata": {},
   "source": [
    "Данные в порядке, дополнительных действий не требуется."
   ]
  },
  {
   "cell_type": "markdown",
   "metadata": {},
   "source": [
    "### Обработка дубликатов"
   ]
  },
  {
   "cell_type": "code",
   "execution_count": 61,
   "metadata": {},
   "outputs": [
    {
     "data": {
      "text/plain": [
       "71"
      ]
     },
     "execution_count": 61,
     "metadata": {},
     "output_type": "execute_result"
    }
   ],
   "source": [
    "df.duplicated().sum()"
   ]
  },
  {
   "cell_type": "code",
   "execution_count": 62,
   "metadata": {},
   "outputs": [
    {
     "data": {
      "text/html": [
       "<div>\n",
       "<style scoped>\n",
       "    .dataframe tbody tr th:only-of-type {\n",
       "        vertical-align: middle;\n",
       "    }\n",
       "\n",
       "    .dataframe tbody tr th {\n",
       "        vertical-align: top;\n",
       "    }\n",
       "\n",
       "    .dataframe thead th {\n",
       "        text-align: right;\n",
       "    }\n",
       "</style>\n",
       "<table border=\"1\" class=\"dataframe\">\n",
       "  <thead>\n",
       "    <tr style=\"text-align: right;\">\n",
       "      <th></th>\n",
       "      <th>children</th>\n",
       "      <th>days_employed</th>\n",
       "      <th>dob_years</th>\n",
       "      <th>education</th>\n",
       "      <th>education_id</th>\n",
       "      <th>family_status</th>\n",
       "      <th>family_status_id</th>\n",
       "      <th>gender</th>\n",
       "      <th>income_type</th>\n",
       "      <th>debt</th>\n",
       "      <th>total_income</th>\n",
       "      <th>purpose</th>\n",
       "      <th>age_group</th>\n",
       "    </tr>\n",
       "  </thead>\n",
       "  <tbody>\n",
       "    <tr>\n",
       "      <th>2849</th>\n",
       "      <td>0</td>\n",
       "      <td>2982</td>\n",
       "      <td>41</td>\n",
       "      <td>среднее</td>\n",
       "      <td>1</td>\n",
       "      <td>женат / замужем</td>\n",
       "      <td>0</td>\n",
       "      <td>Ж</td>\n",
       "      <td>сотрудник</td>\n",
       "      <td>0</td>\n",
       "      <td>143,303.0</td>\n",
       "      <td>покупка жилья для семьи</td>\n",
       "      <td>выше среднего</td>\n",
       "    </tr>\n",
       "    <tr>\n",
       "      <th>3290</th>\n",
       "      <td>0</td>\n",
       "      <td>12775</td>\n",
       "      <td>58</td>\n",
       "      <td>среднее</td>\n",
       "      <td>1</td>\n",
       "      <td>гражданский брак</td>\n",
       "      <td>1</td>\n",
       "      <td>Ж</td>\n",
       "      <td>пенсионер</td>\n",
       "      <td>0</td>\n",
       "      <td>121,697.6</td>\n",
       "      <td>сыграть свадьбу</td>\n",
       "      <td>выше среднего</td>\n",
       "    </tr>\n",
       "    <tr>\n",
       "      <th>4182</th>\n",
       "      <td>1</td>\n",
       "      <td>1878</td>\n",
       "      <td>34</td>\n",
       "      <td>высшее</td>\n",
       "      <td>0</td>\n",
       "      <td>гражданский брак</td>\n",
       "      <td>1</td>\n",
       "      <td>Ж</td>\n",
       "      <td>сотрудник</td>\n",
       "      <td>0</td>\n",
       "      <td>144,087.7</td>\n",
       "      <td>свадьба</td>\n",
       "      <td>средний</td>\n",
       "    </tr>\n",
       "    <tr>\n",
       "      <th>4851</th>\n",
       "      <td>0</td>\n",
       "      <td>12775</td>\n",
       "      <td>60</td>\n",
       "      <td>среднее</td>\n",
       "      <td>1</td>\n",
       "      <td>гражданский брак</td>\n",
       "      <td>1</td>\n",
       "      <td>Ж</td>\n",
       "      <td>пенсионер</td>\n",
       "      <td>0</td>\n",
       "      <td>121,697.6</td>\n",
       "      <td>свадьба</td>\n",
       "      <td>выше среднего</td>\n",
       "    </tr>\n",
       "    <tr>\n",
       "      <th>5557</th>\n",
       "      <td>0</td>\n",
       "      <td>12775</td>\n",
       "      <td>58</td>\n",
       "      <td>среднее</td>\n",
       "      <td>1</td>\n",
       "      <td>гражданский брак</td>\n",
       "      <td>1</td>\n",
       "      <td>Ж</td>\n",
       "      <td>пенсионер</td>\n",
       "      <td>0</td>\n",
       "      <td>121,697.6</td>\n",
       "      <td>сыграть свадьбу</td>\n",
       "      <td>выше среднего</td>\n",
       "    </tr>\n",
       "    <tr>\n",
       "      <th>...</th>\n",
       "      <td>...</td>\n",
       "      <td>...</td>\n",
       "      <td>...</td>\n",
       "      <td>...</td>\n",
       "      <td>...</td>\n",
       "      <td>...</td>\n",
       "      <td>...</td>\n",
       "      <td>...</td>\n",
       "      <td>...</td>\n",
       "      <td>...</td>\n",
       "      <td>...</td>\n",
       "      <td>...</td>\n",
       "      <td>...</td>\n",
       "    </tr>\n",
       "    <tr>\n",
       "      <th>20702</th>\n",
       "      <td>0</td>\n",
       "      <td>12775</td>\n",
       "      <td>64</td>\n",
       "      <td>среднее</td>\n",
       "      <td>1</td>\n",
       "      <td>женат / замужем</td>\n",
       "      <td>0</td>\n",
       "      <td>Ж</td>\n",
       "      <td>пенсионер</td>\n",
       "      <td>0</td>\n",
       "      <td>121,697.6</td>\n",
       "      <td>дополнительное образование</td>\n",
       "      <td>выше среднего</td>\n",
       "    </tr>\n",
       "    <tr>\n",
       "      <th>21032</th>\n",
       "      <td>0</td>\n",
       "      <td>12775</td>\n",
       "      <td>60</td>\n",
       "      <td>среднее</td>\n",
       "      <td>1</td>\n",
       "      <td>женат / замужем</td>\n",
       "      <td>0</td>\n",
       "      <td>Ж</td>\n",
       "      <td>пенсионер</td>\n",
       "      <td>0</td>\n",
       "      <td>121,697.6</td>\n",
       "      <td>заняться образованием</td>\n",
       "      <td>выше среднего</td>\n",
       "    </tr>\n",
       "    <tr>\n",
       "      <th>21132</th>\n",
       "      <td>0</td>\n",
       "      <td>2982</td>\n",
       "      <td>47</td>\n",
       "      <td>среднее</td>\n",
       "      <td>1</td>\n",
       "      <td>женат / замужем</td>\n",
       "      <td>0</td>\n",
       "      <td>Ж</td>\n",
       "      <td>сотрудник</td>\n",
       "      <td>0</td>\n",
       "      <td>143,303.0</td>\n",
       "      <td>ремонт жилью</td>\n",
       "      <td>выше среднего</td>\n",
       "    </tr>\n",
       "    <tr>\n",
       "      <th>21281</th>\n",
       "      <td>1</td>\n",
       "      <td>1878</td>\n",
       "      <td>30</td>\n",
       "      <td>высшее</td>\n",
       "      <td>0</td>\n",
       "      <td>женат / замужем</td>\n",
       "      <td>0</td>\n",
       "      <td>Ж</td>\n",
       "      <td>сотрудник</td>\n",
       "      <td>0</td>\n",
       "      <td>144,087.7</td>\n",
       "      <td>покупка коммерческой недвижимости</td>\n",
       "      <td>средний</td>\n",
       "    </tr>\n",
       "    <tr>\n",
       "      <th>21415</th>\n",
       "      <td>0</td>\n",
       "      <td>12775</td>\n",
       "      <td>54</td>\n",
       "      <td>среднее</td>\n",
       "      <td>1</td>\n",
       "      <td>женат / замужем</td>\n",
       "      <td>0</td>\n",
       "      <td>Ж</td>\n",
       "      <td>пенсионер</td>\n",
       "      <td>0</td>\n",
       "      <td>121,697.6</td>\n",
       "      <td>операции с жильем</td>\n",
       "      <td>выше среднего</td>\n",
       "    </tr>\n",
       "  </tbody>\n",
       "</table>\n",
       "<p>71 rows × 13 columns</p>\n",
       "</div>"
      ],
      "text/plain": [
       "       children  days_employed  dob_years education  education_id  \\\n",
       "2849          0           2982         41   среднее             1   \n",
       "3290          0          12775         58   среднее             1   \n",
       "4182          1           1878         34    высшее             0   \n",
       "4851          0          12775         60   среднее             1   \n",
       "5557          0          12775         58   среднее             1   \n",
       "...         ...            ...        ...       ...           ...   \n",
       "20702         0          12775         64   среднее             1   \n",
       "21032         0          12775         60   среднее             1   \n",
       "21132         0           2982         47   среднее             1   \n",
       "21281         1           1878         30    высшее             0   \n",
       "21415         0          12775         54   среднее             1   \n",
       "\n",
       "          family_status  family_status_id gender income_type  debt  \\\n",
       "2849    женат / замужем                 0      Ж   сотрудник     0   \n",
       "3290   гражданский брак                 1      Ж   пенсионер     0   \n",
       "4182   гражданский брак                 1      Ж   сотрудник     0   \n",
       "4851   гражданский брак                 1      Ж   пенсионер     0   \n",
       "5557   гражданский брак                 1      Ж   пенсионер     0   \n",
       "...                 ...               ...    ...         ...   ...   \n",
       "20702   женат / замужем                 0      Ж   пенсионер     0   \n",
       "21032   женат / замужем                 0      Ж   пенсионер     0   \n",
       "21132   женат / замужем                 0      Ж   сотрудник     0   \n",
       "21281   женат / замужем                 0      Ж   сотрудник     0   \n",
       "21415   женат / замужем                 0      Ж   пенсионер     0   \n",
       "\n",
       "       total_income                            purpose      age_group  \n",
       "2849      143,303.0            покупка жилья для семьи  выше среднего  \n",
       "3290      121,697.6                    сыграть свадьбу  выше среднего  \n",
       "4182      144,087.7                            свадьба        средний  \n",
       "4851      121,697.6                            свадьба  выше среднего  \n",
       "5557      121,697.6                    сыграть свадьбу  выше среднего  \n",
       "...             ...                                ...            ...  \n",
       "20702     121,697.6         дополнительное образование  выше среднего  \n",
       "21032     121,697.6              заняться образованием  выше среднего  \n",
       "21132     143,303.0                       ремонт жилью  выше среднего  \n",
       "21281     144,087.7  покупка коммерческой недвижимости        средний  \n",
       "21415     121,697.6                  операции с жильем  выше среднего  \n",
       "\n",
       "[71 rows x 13 columns]"
      ]
     },
     "execution_count": 62,
     "metadata": {},
     "output_type": "execute_result"
    }
   ],
   "source": [
    "df[df.duplicated() == True]\n",
    "\n",
    "#df = df.drop_duplicates().reset_index()"
   ]
  },
  {
   "cell_type": "code",
   "execution_count": 63,
   "metadata": {},
   "outputs": [],
   "source": [
    "df = df.drop_duplicates().reset_index()"
   ]
  },
  {
   "cell_type": "markdown",
   "metadata": {},
   "source": [
    "### Вывод\n",
    "\n",
    "Возникновение дубликатов связано с ошибками при ручном вводе информации и в отдельных случаях заполенением информацией, неподходящей по смыслу. Необходимо проработать данный вопрос с персоналом, ответственным за непосредственный ввод данных."
   ]
  },
  {
   "cell_type": "code",
   "execution_count": 64,
   "metadata": {},
   "outputs": [
    {
     "data": {
      "text/plain": [
       "0"
      ]
     },
     "execution_count": 64,
     "metadata": {},
     "output_type": "execute_result"
    }
   ],
   "source": [
    "df.duplicated().sum()"
   ]
  },
  {
   "cell_type": "markdown",
   "metadata": {},
   "source": [
    "### Лемматизация"
   ]
  },
  {
   "cell_type": "code",
   "execution_count": 65,
   "metadata": {},
   "outputs": [],
   "source": [
    "# создание пустого словаря лемм\n",
    "lemmas_dict_temp = []"
   ]
  },
  {
   "cell_type": "code",
   "execution_count": 66,
   "metadata": {},
   "outputs": [],
   "source": [
    "# выборка уникальных целей получения кредита\n",
    "purpose_dict = df['purpose'].unique()"
   ]
  },
  {
   "cell_type": "code",
   "execution_count": 67,
   "metadata": {},
   "outputs": [
    {
     "name": "stdout",
     "output_type": "stream",
     "text": [
      "Counter({'покупка': 10, 'недвижимость': 10, 'автомобиль': 9, 'образование': 9, 'жилье': 7, 'с': 5, 'операция': 4, 'на': 4, 'свой': 4, 'свадьба': 3, 'строительство': 3, 'получение': 3, 'высокий': 3, 'дополнительный': 2, 'для': 2, 'коммерческий': 2, 'жилой': 2, 'заниматься': 2, 'сделка': 2, 'приобретение': 1, 'сыграть': 1, 'проведение': 1, 'семья': 1, 'собственный': 1, 'подержать': 1, 'со': 1, 'подержанный': 1, 'профильный': 1, 'сдача': 1, 'ремонт': 1})\n"
     ]
    }
   ],
   "source": [
    "# лемматизация целей получения кредита \n",
    "for purpose in purpose_dict:\n",
    "    lemmas = m.lemmatize(purpose)\n",
    "    for l in lemmas:\n",
    "        if l !=' ' and l != '\\n':\n",
    "            lemmas_dict_temp.append(l)\n",
    "\n",
    "print(Counter(lemmas_dict_temp))\n",
    "\n",
    "# удаление дубликатов в словаре целей получения кредита\n",
    "lemmas_dict_temp = list(dict.fromkeys(Counter(lemmas_dict_temp)))"
   ]
  },
  {
   "cell_type": "code",
   "execution_count": 68,
   "metadata": {},
   "outputs": [
    {
     "data": {
      "text/plain": [
       "[['недвижимость', 'операция с недвижимостью'],\n",
       " ['автомобиль', 'покупка автомобиля'],\n",
       " ['образование', 'образование'],\n",
       " ['жилье', 'операция с недвижимостью'],\n",
       " ['свадьба', 'свадьба']]"
      ]
     },
     "execution_count": 68,
     "metadata": {},
     "output_type": "execute_result"
    }
   ],
   "source": [
    "# формирование основного словаря целей получения кредита для будущей категоризации\n",
    "lemmas_dict = [\n",
    "    ['недвижимость', 'операция с недвижимостью'],\n",
    "    ['автомобиль', 'покупка автомобиля'], \n",
    "    ['образование', 'образование'],\n",
    "    ['жилье', 'операция с недвижимостью'],\n",
    "    ['свадьба', 'свадьба']]\n",
    "lemmas_dict"
   ]
  },
  {
   "cell_type": "markdown",
   "metadata": {},
   "source": [
    "### Вывод"
   ]
  },
  {
   "cell_type": "markdown",
   "metadata": {},
   "source": [
    "Основные цели получения кредита:\n",
    "* операция с недвижимостью,\n",
    "* покупка автомобиля,\n",
    "* образование,\n",
    "* свадьба."
   ]
  },
  {
   "cell_type": "markdown",
   "metadata": {},
   "source": [
    "### Категоризация данных"
   ]
  },
  {
   "cell_type": "markdown",
   "metadata": {},
   "source": [
    "#### По уровню дохода "
   ]
  },
  {
   "cell_type": "markdown",
   "metadata": {},
   "source": [
    "__ОТРАБОТКА ЗАМЕЧАНИЯ:__ За основу категоризации взят подход из исследования Центр стратификационных исследований ИСП НИУ ВШЭ \"Модели стратификации российского общества по доходам: подходы и результаты\" по медианному разделению выборки:\n",
    "* очень низкий <= 0,5 Median\n",
    "* 0,5 Median < низкий <= 0,75 Median     \n",
    "* 0,75 Median < средний <= 1,25 Median\n",
    "* 1,25 Median < выше среднего <= 2 Median\n",
    "* 2 Median < высокий <= 4 Median\n",
    "* очень высокий <= 0,5 Median"
   ]
  },
  {
   "cell_type": "code",
   "execution_count": 69,
   "metadata": {},
   "outputs": [],
   "source": [
    "median = df['total_income'].median()"
   ]
  },
  {
   "cell_type": "code",
   "execution_count": 70,
   "metadata": {},
   "outputs": [],
   "source": [
    "def total_income_group(total_income):\n",
    "    if total_income <= median*0.5:\n",
    "        return 'очень низкий'\n",
    "    elif total_income > median*0.5 and total_income <= median*0.75:\n",
    "        return 'низкий'\n",
    "    elif total_income > median*0.75 and total_income <= median*1.25:\n",
    "        return 'средний'\n",
    "    elif total_income > median*1.25 and total_income <= median*2:\n",
    "        return 'выше среднего'\n",
    "    elif total_income > median*2 and total_income <= median*4:\n",
    "        return 'высокий'\n",
    "    else:\n",
    "        return 'очень высокий'"
   ]
  },
  {
   "cell_type": "markdown",
   "metadata": {},
   "source": [
    "### Учтено."
   ]
  },
  {
   "cell_type": "code",
   "execution_count": 71,
   "metadata": {},
   "outputs": [],
   "source": [
    "# добавление нового столбца уровня дохода\n",
    "df['total_income_group'] = df['total_income'].apply(total_income_group)"
   ]
  },
  {
   "cell_type": "markdown",
   "metadata": {},
   "source": [
    "#### По цели получения кредита"
   ]
  },
  {
   "cell_type": "code",
   "execution_count": 72,
   "metadata": {},
   "outputs": [],
   "source": [
    "# подпропрограмма \n",
    "def purpose_type_group(purpose):\n",
    "\n",
    "# лемматизация цели получения кредита\n",
    "    lemmas = m.lemmatize(purpose)\n",
    "\n",
    "#  сравнение лемм со значениями из словаря лемм\n",
    "    for l in lemmas:\n",
    "        for l_dict in lemmas_dict:\n",
    "            if l_dict[0] == l:\n",
    "                return l_dict[1]"
   ]
  },
  {
   "cell_type": "code",
   "execution_count": 73,
   "metadata": {},
   "outputs": [],
   "source": [
    "# категоризация по цели получения кредита \n",
    "df['purpose_type'] = df['purpose'].apply(purpose_type_group)"
   ]
  },
  {
   "cell_type": "markdown",
   "metadata": {},
   "source": [
    "### Вывод\n",
    "\n"
   ]
  },
  {
   "cell_type": "markdown",
   "metadata": {},
   "source": [
    "## Проверка гипотез\n",
    "<a id = \"main_hypotheses\"></a>\n",
    "[В оглавление](#index)"
   ]
  },
  {
   "cell_type": "code",
   "execution_count": 74,
   "metadata": {},
   "outputs": [
    {
     "data": {
      "text/html": [
       "<div>\n",
       "<style scoped>\n",
       "    .dataframe tbody tr th:only-of-type {\n",
       "        vertical-align: middle;\n",
       "    }\n",
       "\n",
       "    .dataframe tbody tr th {\n",
       "        vertical-align: top;\n",
       "    }\n",
       "\n",
       "    .dataframe thead th {\n",
       "        text-align: right;\n",
       "    }\n",
       "</style>\n",
       "<table border=\"1\" class=\"dataframe\">\n",
       "  <thead>\n",
       "    <tr style=\"text-align: right;\">\n",
       "      <th>total_income_group</th>\n",
       "      <th>высокий</th>\n",
       "      <th>выше среднего</th>\n",
       "      <th>низкий</th>\n",
       "      <th>очень высокий</th>\n",
       "      <th>очень низкий</th>\n",
       "      <th>средний</th>\n",
       "    </tr>\n",
       "    <tr>\n",
       "      <th>income_type</th>\n",
       "      <th></th>\n",
       "      <th></th>\n",
       "      <th></th>\n",
       "      <th></th>\n",
       "      <th></th>\n",
       "      <th></th>\n",
       "    </tr>\n",
       "  </thead>\n",
       "  <tbody>\n",
       "    <tr>\n",
       "      <th>безработный</th>\n",
       "      <td>639.0</td>\n",
       "      <td>1,440.0</td>\n",
       "      <td>604.0</td>\n",
       "      <td>70.0</td>\n",
       "      <td>153.0</td>\n",
       "      <td>2,173.0</td>\n",
       "    </tr>\n",
       "    <tr>\n",
       "      <th>госслужащий</th>\n",
       "      <td>123.0</td>\n",
       "      <td>329.0</td>\n",
       "      <td>253.0</td>\n",
       "      <td>7.0</td>\n",
       "      <td>100.0</td>\n",
       "      <td>645.0</td>\n",
       "    </tr>\n",
       "    <tr>\n",
       "      <th>пенсионер</th>\n",
       "      <td>144.0</td>\n",
       "      <td>578.0</td>\n",
       "      <td>914.0</td>\n",
       "      <td>10.0</td>\n",
       "      <td>598.0</td>\n",
       "      <td>1,585.0</td>\n",
       "    </tr>\n",
       "    <tr>\n",
       "      <th>предприниматель</th>\n",
       "      <td>1.0</td>\n",
       "      <td>nan</td>\n",
       "      <td>nan</td>\n",
       "      <td>nan</td>\n",
       "      <td>nan</td>\n",
       "      <td>nan</td>\n",
       "    </tr>\n",
       "    <tr>\n",
       "      <th>сотрудник</th>\n",
       "      <td>661.0</td>\n",
       "      <td>2,372.0</td>\n",
       "      <td>2,066.0</td>\n",
       "      <td>41.0</td>\n",
       "      <td>780.0</td>\n",
       "      <td>5,165.0</td>\n",
       "    </tr>\n",
       "    <tr>\n",
       "      <th>студент</th>\n",
       "      <td>nan</td>\n",
       "      <td>nan</td>\n",
       "      <td>1.0</td>\n",
       "      <td>nan</td>\n",
       "      <td>nan</td>\n",
       "      <td>nan</td>\n",
       "    </tr>\n",
       "  </tbody>\n",
       "</table>\n",
       "</div>"
      ],
      "text/plain": [
       "total_income_group  высокий  выше среднего  низкий  очень высокий  \\\n",
       "income_type                                                         \n",
       "безработный           639.0        1,440.0   604.0           70.0   \n",
       "госслужащий           123.0          329.0   253.0            7.0   \n",
       "пенсионер             144.0          578.0   914.0           10.0   \n",
       "предприниматель         1.0            nan     nan            nan   \n",
       "сотрудник             661.0        2,372.0 2,066.0           41.0   \n",
       "студент                 nan            nan     1.0            nan   \n",
       "\n",
       "total_income_group  очень низкий  средний  \n",
       "income_type                                \n",
       "безработный                153.0  2,173.0  \n",
       "госслужащий                100.0    645.0  \n",
       "пенсионер                  598.0  1,585.0  \n",
       "предприниматель              nan      nan  \n",
       "сотрудник                  780.0  5,165.0  \n",
       "студент                      nan      nan  "
      ]
     },
     "execution_count": 74,
     "metadata": {},
     "output_type": "execute_result"
    }
   ],
   "source": [
    "# основная информация о доходах заёмщиков в выборке\n",
    "df.pivot_table(index=['income_type'], columns='total_income_group', values='total_income', aggfunc='count')"
   ]
  },
  {
   "cell_type": "markdown",
   "metadata": {},
   "source": [
    "- У многих официально безработных доход средний и выше среднего. Скорее всего это самозянятые.\n",
    "- У более чем половины пенсионеров также доход средний и выше среднего, скорее всего они продолжают работать и смогут отдавать кредит, но при выдаче нового нужно учитывать возраст. "
   ]
  },
  {
   "cell_type": "markdown",
   "metadata": {},
   "source": [
    "### Зависимость между наличием детей и возвратом кредита в срок"
   ]
  },
  {
   "cell_type": "code",
   "execution_count": 75,
   "metadata": {},
   "outputs": [
    {
     "name": "stdout",
     "output_type": "stream",
     "text": [
      "children\n",
      "4   0.1\n",
      "2   0.1\n",
      "1   0.1\n",
      "3   0.1\n",
      "0   0.1\n",
      "5   0.0\n",
      "Name: debt, dtype: float64\n"
     ]
    }
   ],
   "source": [
    "# расчёт доли заёмщиков, просрочивших возрат долга, в зависимости от КОЛИЧЕСТВА ДЕТЕЙ\n",
    "print(df.groupby(['children'])['debt'].mean().sort_values(ascending = False))"
   ]
  },
  {
   "cell_type": "markdown",
   "metadata": {},
   "source": [
    "- Заёмщики без детей в среднем наиболее дисциплинированы из всех, имеющих доход — только 7,5 % просрочили возврат кредита. \n",
    "- Заёмщики с 4 детьми наименее дисциплинированы — 9,8 % просрочили возврат кредита. Странно, всего один ребёнок, а такая разница с заёмщиками с 5 детьми."
   ]
  },
  {
   "cell_type": "code",
   "execution_count": 76,
   "metadata": {},
   "outputs": [
    {
     "data": {
      "text/html": [
       "<div>\n",
       "<style scoped>\n",
       "    .dataframe tbody tr th:only-of-type {\n",
       "        vertical-align: middle;\n",
       "    }\n",
       "\n",
       "    .dataframe tbody tr th {\n",
       "        vertical-align: top;\n",
       "    }\n",
       "\n",
       "    .dataframe thead th {\n",
       "        text-align: right;\n",
       "    }\n",
       "</style>\n",
       "<table border=\"1\" class=\"dataframe\">\n",
       "  <thead>\n",
       "    <tr style=\"text-align: right;\">\n",
       "      <th>income_type</th>\n",
       "      <th>безработный</th>\n",
       "      <th>госслужащий</th>\n",
       "      <th>пенсионер</th>\n",
       "      <th>предприниматель</th>\n",
       "      <th>сотрудник</th>\n",
       "      <th>студент</th>\n",
       "    </tr>\n",
       "    <tr>\n",
       "      <th>children</th>\n",
       "      <th></th>\n",
       "      <th></th>\n",
       "      <th></th>\n",
       "      <th></th>\n",
       "      <th></th>\n",
       "      <th></th>\n",
       "    </tr>\n",
       "  </thead>\n",
       "  <tbody>\n",
       "    <tr>\n",
       "      <th>0</th>\n",
       "      <td>0.1</td>\n",
       "      <td>0.1</td>\n",
       "      <td>0.1</td>\n",
       "      <td>0.0</td>\n",
       "      <td>0.1</td>\n",
       "      <td>0.0</td>\n",
       "    </tr>\n",
       "    <tr>\n",
       "      <th>1</th>\n",
       "      <td>0.1</td>\n",
       "      <td>0.1</td>\n",
       "      <td>0.0</td>\n",
       "      <td>nan</td>\n",
       "      <td>0.1</td>\n",
       "      <td>nan</td>\n",
       "    </tr>\n",
       "    <tr>\n",
       "      <th>2</th>\n",
       "      <td>0.1</td>\n",
       "      <td>0.0</td>\n",
       "      <td>0.1</td>\n",
       "      <td>nan</td>\n",
       "      <td>0.1</td>\n",
       "      <td>nan</td>\n",
       "    </tr>\n",
       "    <tr>\n",
       "      <th>3</th>\n",
       "      <td>0.1</td>\n",
       "      <td>0.1</td>\n",
       "      <td>0.2</td>\n",
       "      <td>nan</td>\n",
       "      <td>0.1</td>\n",
       "      <td>nan</td>\n",
       "    </tr>\n",
       "    <tr>\n",
       "      <th>4</th>\n",
       "      <td>0.0</td>\n",
       "      <td>0.0</td>\n",
       "      <td>0.0</td>\n",
       "      <td>nan</td>\n",
       "      <td>0.1</td>\n",
       "      <td>nan</td>\n",
       "    </tr>\n",
       "    <tr>\n",
       "      <th>5</th>\n",
       "      <td>0.0</td>\n",
       "      <td>0.0</td>\n",
       "      <td>nan</td>\n",
       "      <td>nan</td>\n",
       "      <td>0.0</td>\n",
       "      <td>nan</td>\n",
       "    </tr>\n",
       "  </tbody>\n",
       "</table>\n",
       "</div>"
      ],
      "text/plain": [
       "income_type  безработный  госслужащий  пенсионер  предприниматель  сотрудник  \\\n",
       "children                                                                       \n",
       "0                    0.1          0.1        0.1              0.0        0.1   \n",
       "1                    0.1          0.1        0.0              nan        0.1   \n",
       "2                    0.1          0.0        0.1              nan        0.1   \n",
       "3                    0.1          0.1        0.2              nan        0.1   \n",
       "4                    0.0          0.0        0.0              nan        0.1   \n",
       "5                    0.0          0.0        nan              nan        0.0   \n",
       "\n",
       "income_type  студент  \n",
       "children              \n",
       "0                0.0  \n",
       "1                nan  \n",
       "2                nan  \n",
       "3                nan  \n",
       "4                nan  \n",
       "5                nan  "
      ]
     },
     "execution_count": 76,
     "metadata": {},
     "output_type": "execute_result"
    }
   ],
   "source": [
    "# расчёт доли заёмщиков, просрочивших возрат долга, в зависимости от КОЛИЧЕСТВА ДЕТЕЙ\n",
    "df.pivot_table(index=['children'], columns='income_type', values='debt', aggfunc='mean')"
   ]
  },
  {
   "cell_type": "markdown",
   "metadata": {},
   "source": [
    "- У безработных и госслужащих факт возврата кредита вовремя в целом несильно зависит от количества детей — около 7 %.\n",
    "- У пенсионеров и сотрудников с увеличением количества детей растет доля невозврата кредита вовремя — до 17 и 13 % соответственно.\n",
    "- Заёмщики с 5 детьми всегда возвращали долги вовремя. Видимо планы завести 5 детей подкреплены финансовой базой, которая в свою очередь достигается с хорошим навыком финансовой грамотности."
   ]
  },
  {
   "cell_type": "markdown",
   "metadata": {},
   "source": [
    "### Зависимость между семейным положением и возвратом кредита в срок"
   ]
  },
  {
   "cell_type": "code",
   "execution_count": 77,
   "metadata": {},
   "outputs": [
    {
     "name": "stdout",
     "output_type": "stream",
     "text": [
      "family_status\n",
      "не женат / не замужем   0.1\n",
      "гражданский брак        0.1\n",
      "женат / замужем         0.1\n",
      "в разводе               0.1\n",
      "вдовец / вдова          0.1\n",
      "Name: debt, dtype: float64\n"
     ]
    }
   ],
   "source": [
    "# расчёт доли заёмщиков, просрочивших возрат долга, в зависимости от СЕМЕЙНОГО ПОЛОЖЕНИЯ\n",
    "print(df.groupby(['family_status'])['debt'].mean().sort_values(ascending = False))"
   ]
  },
  {
   "cell_type": "code",
   "execution_count": 78,
   "metadata": {},
   "outputs": [
    {
     "data": {
      "text/html": [
       "<div>\n",
       "<style scoped>\n",
       "    .dataframe tbody tr th:only-of-type {\n",
       "        vertical-align: middle;\n",
       "    }\n",
       "\n",
       "    .dataframe tbody tr th {\n",
       "        vertical-align: top;\n",
       "    }\n",
       "\n",
       "    .dataframe thead th {\n",
       "        text-align: right;\n",
       "    }\n",
       "</style>\n",
       "<table border=\"1\" class=\"dataframe\">\n",
       "  <thead>\n",
       "    <tr style=\"text-align: right;\">\n",
       "      <th>family_status</th>\n",
       "      <th>в разводе</th>\n",
       "      <th>вдовец / вдова</th>\n",
       "      <th>гражданский брак</th>\n",
       "      <th>женат / замужем</th>\n",
       "      <th>не женат / не замужем</th>\n",
       "    </tr>\n",
       "    <tr>\n",
       "      <th>children</th>\n",
       "      <th></th>\n",
       "      <th></th>\n",
       "      <th></th>\n",
       "      <th></th>\n",
       "      <th></th>\n",
       "    </tr>\n",
       "  </thead>\n",
       "  <tbody>\n",
       "    <tr>\n",
       "      <th>0</th>\n",
       "      <td>0.1</td>\n",
       "      <td>0.1</td>\n",
       "      <td>0.1</td>\n",
       "      <td>0.1</td>\n",
       "      <td>0.1</td>\n",
       "    </tr>\n",
       "    <tr>\n",
       "      <th>1</th>\n",
       "      <td>0.1</td>\n",
       "      <td>0.1</td>\n",
       "      <td>0.1</td>\n",
       "      <td>0.1</td>\n",
       "      <td>0.1</td>\n",
       "    </tr>\n",
       "    <tr>\n",
       "      <th>2</th>\n",
       "      <td>0.1</td>\n",
       "      <td>0.1</td>\n",
       "      <td>0.1</td>\n",
       "      <td>0.1</td>\n",
       "      <td>0.1</td>\n",
       "    </tr>\n",
       "    <tr>\n",
       "      <th>3</th>\n",
       "      <td>0.1</td>\n",
       "      <td>0.0</td>\n",
       "      <td>0.1</td>\n",
       "      <td>0.1</td>\n",
       "      <td>0.1</td>\n",
       "    </tr>\n",
       "    <tr>\n",
       "      <th>4</th>\n",
       "      <td>0.0</td>\n",
       "      <td>0.0</td>\n",
       "      <td>0.0</td>\n",
       "      <td>0.1</td>\n",
       "      <td>0.5</td>\n",
       "    </tr>\n",
       "    <tr>\n",
       "      <th>5</th>\n",
       "      <td>nan</td>\n",
       "      <td>nan</td>\n",
       "      <td>0.0</td>\n",
       "      <td>0.0</td>\n",
       "      <td>nan</td>\n",
       "    </tr>\n",
       "  </tbody>\n",
       "</table>\n",
       "</div>"
      ],
      "text/plain": [
       "family_status  в разводе  вдовец / вдова  гражданский брак  женат / замужем  \\\n",
       "children                                                                      \n",
       "0                    0.1             0.1               0.1              0.1   \n",
       "1                    0.1             0.1               0.1              0.1   \n",
       "2                    0.1             0.1               0.1              0.1   \n",
       "3                    0.1             0.0               0.1              0.1   \n",
       "4                    0.0             0.0               0.0              0.1   \n",
       "5                    nan             nan               0.0              0.0   \n",
       "\n",
       "family_status  не женат / не замужем  \n",
       "children                              \n",
       "0                                0.1  \n",
       "1                                0.1  \n",
       "2                                0.1  \n",
       "3                                0.1  \n",
       "4                                0.5  \n",
       "5                                nan  "
      ]
     },
     "execution_count": 78,
     "metadata": {},
     "output_type": "execute_result"
    }
   ],
   "source": [
    "# расчёт доли заёмщиков, просрочивших возрат долга, в зависимости от СЕМЕЙНОГО ПОЛОЖЕНИЯ\n",
    "df.pivot_table(index=['children'], columns='family_status', values='debt', aggfunc='mean')"
   ]
  },
  {
   "cell_type": "markdown",
   "metadata": {},
   "source": [
    "* Распределение зависимости невозврата кредита в срок от СЕМЕЙНОГО ПОЛОЖЕНИЯ довольно плавное — __с увеличением количества детей растёт риск невозврата кредита вовремя.__\n",
    "* Вдовцы наиболее финансово дисциплинированны — в среднем просрочили возврат кредита 6,6 %. Не женатые/не замужние наименее дисциплинированны — 9,7 % невозвратов.\n",
    "* __В зоне риска группы, живущие без партнёра.__"
   ]
  },
  {
   "cell_type": "markdown",
   "metadata": {},
   "source": [
    "### Зависимость между уровнем дохода и возвратом кредита в срок"
   ]
  },
  {
   "cell_type": "code",
   "execution_count": 79,
   "metadata": {},
   "outputs": [
    {
     "name": "stdout",
     "output_type": "stream",
     "text": [
      "total_income_group\n",
      "средний         0.1\n",
      "низкий          0.1\n",
      "выше среднего   0.1\n",
      "высокий         0.1\n",
      "очень низкий    0.1\n",
      "очень высокий   0.1\n",
      "Name: debt, dtype: float64\n"
     ]
    }
   ],
   "source": [
    "# расчёт доли заёмщиков, просрочивших возрат долга, в зависимости от УРОВНЯ ДОХОДОВ\n",
    "print(df.groupby(['total_income_group'])['debt'].mean().sort_values(ascending = False))"
   ]
  },
  {
   "cell_type": "code",
   "execution_count": 80,
   "metadata": {},
   "outputs": [
    {
     "data": {
      "text/html": [
       "<div>\n",
       "<style scoped>\n",
       "    .dataframe tbody tr th:only-of-type {\n",
       "        vertical-align: middle;\n",
       "    }\n",
       "\n",
       "    .dataframe tbody tr th {\n",
       "        vertical-align: top;\n",
       "    }\n",
       "\n",
       "    .dataframe thead th {\n",
       "        text-align: right;\n",
       "    }\n",
       "</style>\n",
       "<table border=\"1\" class=\"dataframe\">\n",
       "  <thead>\n",
       "    <tr style=\"text-align: right;\">\n",
       "      <th>total_income_group</th>\n",
       "      <th>высокий</th>\n",
       "      <th>выше среднего</th>\n",
       "      <th>низкий</th>\n",
       "      <th>очень высокий</th>\n",
       "      <th>очень низкий</th>\n",
       "      <th>средний</th>\n",
       "    </tr>\n",
       "    <tr>\n",
       "      <th>children</th>\n",
       "      <th></th>\n",
       "      <th></th>\n",
       "      <th></th>\n",
       "      <th></th>\n",
       "      <th></th>\n",
       "      <th></th>\n",
       "    </tr>\n",
       "  </thead>\n",
       "  <tbody>\n",
       "    <tr>\n",
       "      <th>0</th>\n",
       "      <td>0.1</td>\n",
       "      <td>0.1</td>\n",
       "      <td>0.1</td>\n",
       "      <td>0.1</td>\n",
       "      <td>0.1</td>\n",
       "      <td>0.1</td>\n",
       "    </tr>\n",
       "    <tr>\n",
       "      <th>1</th>\n",
       "      <td>0.1</td>\n",
       "      <td>0.1</td>\n",
       "      <td>0.1</td>\n",
       "      <td>0.0</td>\n",
       "      <td>0.1</td>\n",
       "      <td>0.1</td>\n",
       "    </tr>\n",
       "    <tr>\n",
       "      <th>2</th>\n",
       "      <td>0.1</td>\n",
       "      <td>0.1</td>\n",
       "      <td>0.1</td>\n",
       "      <td>0.1</td>\n",
       "      <td>0.1</td>\n",
       "      <td>0.1</td>\n",
       "    </tr>\n",
       "    <tr>\n",
       "      <th>3</th>\n",
       "      <td>0.1</td>\n",
       "      <td>0.0</td>\n",
       "      <td>0.1</td>\n",
       "      <td>0.0</td>\n",
       "      <td>0.2</td>\n",
       "      <td>0.1</td>\n",
       "    </tr>\n",
       "    <tr>\n",
       "      <th>4</th>\n",
       "      <td>0.0</td>\n",
       "      <td>0.3</td>\n",
       "      <td>0.2</td>\n",
       "      <td>nan</td>\n",
       "      <td>nan</td>\n",
       "      <td>0.0</td>\n",
       "    </tr>\n",
       "    <tr>\n",
       "      <th>5</th>\n",
       "      <td>nan</td>\n",
       "      <td>0.0</td>\n",
       "      <td>0.0</td>\n",
       "      <td>nan</td>\n",
       "      <td>0.0</td>\n",
       "      <td>0.0</td>\n",
       "    </tr>\n",
       "  </tbody>\n",
       "</table>\n",
       "</div>"
      ],
      "text/plain": [
       "total_income_group  высокий  выше среднего  низкий  очень высокий  \\\n",
       "children                                                            \n",
       "0                       0.1            0.1     0.1            0.1   \n",
       "1                       0.1            0.1     0.1            0.0   \n",
       "2                       0.1            0.1     0.1            0.1   \n",
       "3                       0.1            0.0     0.1            0.0   \n",
       "4                       0.0            0.3     0.2            nan   \n",
       "5                       nan            0.0     0.0            nan   \n",
       "\n",
       "total_income_group  очень низкий  средний  \n",
       "children                                   \n",
       "0                            0.1      0.1  \n",
       "1                            0.1      0.1  \n",
       "2                            0.1      0.1  \n",
       "3                            0.2      0.1  \n",
       "4                            nan      0.0  \n",
       "5                            0.0      0.0  "
      ]
     },
     "execution_count": 80,
     "metadata": {},
     "output_type": "execute_result"
    }
   ],
   "source": [
    "# расчёт доли заёмщиков, просрочивших возрат долга, в зависимости от УРОВНЯ ДОХОДОВ\n",
    "df.pivot_table(index=['children'], columns='total_income_group', values='debt', aggfunc='mean')"
   ]
  },
  {
   "cell_type": "markdown",
   "metadata": {},
   "source": [
    "- __Обнаружена зависимость:__ по всем группам с ростом количества детей до 2 включительно растёт доля невозврата кредита в срок. При этом  если детей более 2, то уровень невозврата снижается. Похоже на нормальное распределение, \n",
    "- В результатах есть артефакты по уровню невозврата кредитов в срок:\n",
    "    * в группе с высоким доходом и 4 детьми  — 28,6 %\n",
    "    * в группе с очень низким доходом и 3 детьми — 22,7 %.\n",
    "Для уточнения результатов целесообразно провести анализ более широкой выборки."
   ]
  },
  {
   "cell_type": "markdown",
   "metadata": {},
   "source": [
    "### Влияние цели кредита на его возврат в срок"
   ]
  },
  {
   "cell_type": "code",
   "execution_count": 81,
   "metadata": {},
   "outputs": [
    {
     "name": "stdout",
     "output_type": "stream",
     "text": [
      "purpose_type\n",
      "покупка автомобиля         0.1\n",
      "образование                0.1\n",
      "свадьба                    0.1\n",
      "операция с недвижимостью   0.1\n",
      "Name: debt, dtype: float64\n"
     ]
    }
   ],
   "source": [
    "# расчёт доли заёмщиков, просрочивших возрат долга, в зависимости от ЦЕЛИ КРЕДИТА\n",
    "print(df.groupby(['purpose_type'])['debt'].mean().sort_values(ascending = False))"
   ]
  },
  {
   "cell_type": "code",
   "execution_count": 82,
   "metadata": {},
   "outputs": [
    {
     "data": {
      "text/html": [
       "<div>\n",
       "<style scoped>\n",
       "    .dataframe tbody tr th:only-of-type {\n",
       "        vertical-align: middle;\n",
       "    }\n",
       "\n",
       "    .dataframe tbody tr th {\n",
       "        vertical-align: top;\n",
       "    }\n",
       "\n",
       "    .dataframe thead th {\n",
       "        text-align: right;\n",
       "    }\n",
       "</style>\n",
       "<table border=\"1\" class=\"dataframe\">\n",
       "  <thead>\n",
       "    <tr style=\"text-align: right;\">\n",
       "      <th>purpose_type</th>\n",
       "      <th>образование</th>\n",
       "      <th>операция с недвижимостью</th>\n",
       "      <th>покупка автомобиля</th>\n",
       "      <th>свадьба</th>\n",
       "    </tr>\n",
       "    <tr>\n",
       "      <th>income_type</th>\n",
       "      <th></th>\n",
       "      <th></th>\n",
       "      <th></th>\n",
       "      <th></th>\n",
       "    </tr>\n",
       "  </thead>\n",
       "  <tbody>\n",
       "    <tr>\n",
       "      <th>безработный</th>\n",
       "      <td>0.1</td>\n",
       "      <td>0.1</td>\n",
       "      <td>0.1</td>\n",
       "      <td>0.1</td>\n",
       "    </tr>\n",
       "    <tr>\n",
       "      <th>госслужащий</th>\n",
       "      <td>0.1</td>\n",
       "      <td>0.0</td>\n",
       "      <td>0.1</td>\n",
       "      <td>0.0</td>\n",
       "    </tr>\n",
       "    <tr>\n",
       "      <th>пенсионер</th>\n",
       "      <td>0.1</td>\n",
       "      <td>0.0</td>\n",
       "      <td>0.1</td>\n",
       "      <td>0.1</td>\n",
       "    </tr>\n",
       "    <tr>\n",
       "      <th>предприниматель</th>\n",
       "      <td>nan</td>\n",
       "      <td>nan</td>\n",
       "      <td>nan</td>\n",
       "      <td>0.0</td>\n",
       "    </tr>\n",
       "    <tr>\n",
       "      <th>сотрудник</th>\n",
       "      <td>0.1</td>\n",
       "      <td>0.1</td>\n",
       "      <td>0.1</td>\n",
       "      <td>0.1</td>\n",
       "    </tr>\n",
       "    <tr>\n",
       "      <th>студент</th>\n",
       "      <td>nan</td>\n",
       "      <td>0.0</td>\n",
       "      <td>nan</td>\n",
       "      <td>nan</td>\n",
       "    </tr>\n",
       "  </tbody>\n",
       "</table>\n",
       "</div>"
      ],
      "text/plain": [
       "purpose_type     образование  операция с недвижимостью  покупка автомобиля  \\\n",
       "income_type                                                                  \n",
       "безработный              0.1                       0.1                 0.1   \n",
       "госслужащий              0.1                       0.0                 0.1   \n",
       "пенсионер                0.1                       0.0                 0.1   \n",
       "предприниматель          nan                       nan                 nan   \n",
       "сотрудник                0.1                       0.1                 0.1   \n",
       "студент                  nan                       0.0                 nan   \n",
       "\n",
       "purpose_type     свадьба  \n",
       "income_type               \n",
       "безработный          0.1  \n",
       "госслужащий          0.0  \n",
       "пенсионер            0.1  \n",
       "предприниматель      0.0  \n",
       "сотрудник            0.1  \n",
       "студент              nan  "
      ]
     },
     "execution_count": 82,
     "metadata": {},
     "output_type": "execute_result"
    }
   ],
   "source": [
    "# расчёт доли заёмщиков, просрочивших возрат долга, в зависимости от ЦЕЛИ КРЕДИТА\n",
    "df.pivot_table(index=['income_type'], columns='purpose_type', values='debt', aggfunc='mean')"
   ]
  },
  {
   "cell_type": "markdown",
   "metadata": {},
   "source": [
    "* Распределение зависимости невозврата кредита в срок от ЦЕЛИ КРЕДИТА довольно плавное. Выбивающихся значений нет.\n",
    "* Кредиты на операции с недвижимостью стараются выплачивать вовремя — наименьшая просрочка 7,2 % случаев.\n",
    "* Заёмщики, покупающие автомобиль, наименее финансово дисциплинированны — 9,3 % невозвратов."
   ]
  },
  {
   "cell_type": "markdown",
   "metadata": {},
   "source": [
    "## Выводы и рекомендации\n",
    "<a id = \"conclusion\"></a>\n",
    "[В оглавление](#index)"
   ]
  },
  {
   "cell_type": "markdown",
   "metadata": {},
   "source": [
    "* Семейное положение и количество детей клиента на факт погашения кредита в срок влияет __несистемно__. При выдаче кредита необходимо руководствоваться комплексными метриками. Мне кажется, что эффективнее детализировать все обозначенные метрики с учётом УРОВНЯ ДОХОДА.\n",
    "* Аномально выская доля невозврата кредитов в срок наблюбдается у групп с высоким доходом и 4 детьми  — 28,6 % и с очень низким доходом и 3 детьми — 22,7 %. Операционному персоналу в отделениях банков необходимо тщательнее проверять финансовое обеспечение потенциальных заёмщиков в группе риска.\n",
    "* В представленной выборке заёмщиков присутствуют неслучайные аномалии: количество пропущенных строк по СТАЖУ и УРОВНЮ ДОХОДОВ одинаковое и распределены между записями с разным ИСТОЧНИКОМ ДОХОДОВ. __Необходимо отработать эту аномалию пропусков по компетенции.__\n",
    "* В части записей ПЕНСИОНЕРЫ наблюдается иная аномалия — некорректный стаж. В данном исследовании эти данные непосредственно не используются, но проблему необходимо решить до следующего обращения к выборке. __Необходимо отработать аномалию завышенного стажа у пенсионеров по компетенции.__"
   ]
  },
  {
   "cell_type": "code",
   "execution_count": null,
   "metadata": {},
   "outputs": [],
   "source": []
  }
 ],
 "metadata": {
  "kernelspec": {
   "display_name": "Python 3",
   "language": "python",
   "name": "python3"
  },
  "language_info": {
   "codemirror_mode": {
    "name": "ipython",
    "version": 3
   },
   "file_extension": ".py",
   "mimetype": "text/x-python",
   "name": "python",
   "nbconvert_exporter": "python",
   "pygments_lexer": "ipython3",
   "version": "3.7.7"
  }
 },
 "nbformat": 4,
 "nbformat_minor": 2
}
