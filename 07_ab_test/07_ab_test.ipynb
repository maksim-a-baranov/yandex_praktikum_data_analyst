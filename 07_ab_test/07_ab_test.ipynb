{
 "cells": [
  {
   "cell_type": "markdown",
   "metadata": {},
   "source": [
    "<div style=\"border:solid orange 2px; padding: 20px\"> <h7 style=\"color:black; margin-bottom:20px\">Привет! Меня зовут Миша, я буду проводить ревью на этом спринте. \n",
    "Мои комментарии и замечания далее по тексту помечены различными цветами:\n",
    "    \n",
    "---    \n",
    "<div class=\"alert alert-block alert-danger\">\n",
    "Критическое замечание, которые следует исправить.\n",
    "</div> \n",
    "    \n",
    "---\n",
    "    \n",
    "<div class=\"alert alert-block alert-warning\">\n",
    "Замечание\\совет на будущее.\n",
    "</div>\n",
    "    \n",
    "---\n",
    "    \n",
    "<div class=\"alert alert-block alert-success\">\n",
    "Когда всё сделано правильно.\n",
    "</div>\n",
    "    \n",
    "---\n",
    "    \n",
    "Удачи!\n",
    "    \n",
    "p.s.: не удаляй комментарии ревьюера, если предстоит что то доработать в проекте.</h7>"
   ]
  },
  {
   "cell_type": "markdown",
   "metadata": {},
   "source": [
    "<div class=\"alert alert-block alert-success\">\n",
    "<b>Комментарии от ревьюера:</b>\n",
    "\n",
    "ИТог ревью - ты проделал отличную работу! По всем пунктам получены корректные ответы. Понравилась структура твоей работы, стиль и оформление кода - было легко проверять. Развернутые выводы делают этот проект еще интереснее. Молодец! Успехов в далньейшем обучении\n",
    "</div>\n",
    "    \n",
    "---"
   ]
  },
  {
   "cell_type": "markdown",
   "metadata": {},
   "source": [
    "# Принятие решений в бизнесе на основе данных"
   ]
  },
  {
   "cell_type": "markdown",
   "metadata": {},
   "source": [
    "## Содержание"
   ]
  },
  {
   "cell_type": "markdown",
   "metadata": {},
   "source": [
    "1. [Задание](#task)\n",
    "1. [Описание данных](#data_description)\n",
    "1. [Импорт библиотек и общая предустановка](#import)\n",
    "1. [Общее изучение данных](#first_look)\n",
    "1. [Подготовка данных](#etl)\n",
    "1. [Приоритизация гипотез](#hypotheses)\n",
    "1. [Обработка результатов A/B-теста](#test_results_preparation)\n",
    "1. [Анализ A/B-теста](#test_results_analysis)\n",
    "1. [Расчет статистической значимости](#stat)\n",
    "1. [Решение по результатам теста](#conclusion)"
   ]
  },
  {
   "cell_type": "markdown",
   "metadata": {},
   "source": [
    "## Задание\n",
    "<a id = \"task\"></a>"
   ]
  },
  {
   "cell_type": "markdown",
   "metadata": {},
   "source": [
    "__Необходимо для увеличения выручку интернет-магазина:__\n",
    "- приоритизировать гипотезы,\n",
    "- запустить A/B-тест,\n",
    "- проанализировать результаты."
   ]
  },
  {
   "cell_type": "markdown",
   "metadata": {},
   "source": [
    "## Описание данных\n",
    "<a id = \"data_description\"></a>"
   ]
  },
  {
   "cell_type": "markdown",
   "metadata": {},
   "source": [
    "В файле /datasets/hypothesis.csv 9 гипотез по увеличению выручки интернет-магазина с указанными параметрами Reach, Impact, Confidence, Effort."
   ]
  },
  {
   "cell_type": "markdown",
   "metadata": {},
   "source": [
    "Таблица __hypothesis__\n",
    "- Hypothesis — краткое описание гипотезы\n",
    "- Reach — охват пользователей по 10-балльной шкале\n",
    "- Impact — влияние на пользователей по 10-балльной шкале\n",
    "- Confidence — уверенность в гипотезе по 10-балльной шкале\n",
    "- Efforts — затраты ресурсов на проверку гипотезы по 10-балльной шкале. Чем больше значение Efforts, тем дороже проверка гипотезы\n",
    "\n",
    "Таблица __orders__\n",
    "- transactionId — идентификатор заказа\n",
    "- visitorId — идентификатор пользователя, совершившего заказ\n",
    "- date — дата, когда был совершён заказ\n",
    "- revenue — выручка заказа\n",
    "- group — группа A/B-теста, в которую попал заказ\n",
    "\n",
    "Таблица __visitors__\n",
    "- date — дата\n",
    "- group — группа A/B-теста\n",
    "- visitors — количество пользователей в указанную дату в указанной группе A/B-теста"
   ]
  },
  {
   "cell_type": "markdown",
   "metadata": {},
   "source": [
    "## Импорт библиотек и глобальная предустановка\n",
    "<a id = \"import\"></a>"
   ]
  },
  {
   "cell_type": "code",
   "execution_count": 1,
   "metadata": {},
   "outputs": [],
   "source": [
    "import pandas as pd\n",
    "import numpy as np\n",
    "import scipy.stats as st\n",
    "import datetime as dt\n",
    "import math as mth\n",
    "\n",
    "import seaborn as sns\n",
    "sns.set(style=\"whitegrid\")\n",
    "\n",
    "import warnings\n",
    "\n",
    "import matplotlib.pyplot as plt\n",
    "\n",
    "%matplotlib inline\n",
    "\n",
    "# отключение предупреждений Anaconda\n",
    "warnings.simplefilter('ignore')\n",
    "\n",
    "from pylab import rcParams\n",
    "\n",
    "# размер графиков по умолчанию\n",
    "rcParams['figure.figsize'] = 16, 8\n",
    "\n",
    "title_font = {'size':'16', 'color':'black', 'weight':'bold',\n",
    "              'verticalalignment':'bottom'}\n",
    "\n",
    "axis_font = {'size':'14', 'weight':'bold'}\n",
    "\n",
    "# отображение одного знака после запятой\n",
    "pd.options.display.float_format = '{:,.1f}'.format"
   ]
  },
  {
   "cell_type": "markdown",
   "metadata": {},
   "source": [
    "## Общее изучение данных\n",
    "<a id = \"first_look\"></a>"
   ]
  },
  {
   "cell_type": "code",
   "execution_count": 2,
   "metadata": {},
   "outputs": [],
   "source": [
    "try:\n",
    "    hypothesis = pd.read_csv('/datasets/hypothesis.csv')\n",
    "except:\n",
    "    hypothesis = pd.read_csv('/Users/maksim/Documents/Data Analysis/Яндекс.Практикум Аналитик данных/8. Принятие решений в бизнесе на основе данных/hypothesis.csv')"
   ]
  },
  {
   "cell_type": "code",
   "execution_count": 3,
   "metadata": {},
   "outputs": [],
   "source": [
    "try:\n",
    "    orders = pd.read_csv('/datasets/orders.csv')\n",
    "except:\n",
    "    orders = pd.read_csv('/Users/maksim/Documents/Data Analysis/Яндекс.Практикум Аналитик данных/8. Принятие решений в бизнесе на основе данных/orders.csv')"
   ]
  },
  {
   "cell_type": "code",
   "execution_count": 4,
   "metadata": {},
   "outputs": [],
   "source": [
    "try:\n",
    "    visitors = pd.read_csv('/datasets/visitors.csv')\n",
    "except:\n",
    "    visitors = pd.read_csv('/Users/maksim/Documents/Data Analysis/Яндекс.Практикум Аналитик данных/8. Принятие решений в бизнесе на основе данных/visitors.csv')"
   ]
  },
  {
   "cell_type": "code",
   "execution_count": 5,
   "metadata": {},
   "outputs": [
    {
     "name": "stdout",
     "output_type": "stream",
     "text": [
      "<class 'pandas.core.frame.DataFrame'>\n",
      "RangeIndex: 9 entries, 0 to 8\n",
      "Data columns (total 5 columns):\n",
      "Hypothesis    9 non-null object\n",
      "Reach         9 non-null int64\n",
      "Impact        9 non-null int64\n",
      "Confidence    9 non-null int64\n",
      "Efforts       9 non-null int64\n",
      "dtypes: int64(4), object(1)\n",
      "memory usage: 488.0+ bytes\n"
     ]
    }
   ],
   "source": [
    "hypothesis.info()"
   ]
  },
  {
   "cell_type": "code",
   "execution_count": 6,
   "metadata": {},
   "outputs": [
    {
     "data": {
      "text/html": [
       "<div>\n",
       "<style scoped>\n",
       "    .dataframe tbody tr th:only-of-type {\n",
       "        vertical-align: middle;\n",
       "    }\n",
       "\n",
       "    .dataframe tbody tr th {\n",
       "        vertical-align: top;\n",
       "    }\n",
       "\n",
       "    .dataframe thead th {\n",
       "        text-align: right;\n",
       "    }\n",
       "</style>\n",
       "<table border=\"1\" class=\"dataframe\">\n",
       "  <thead>\n",
       "    <tr style=\"text-align: right;\">\n",
       "      <th></th>\n",
       "      <th>Hypothesis</th>\n",
       "      <th>Reach</th>\n",
       "      <th>Impact</th>\n",
       "      <th>Confidence</th>\n",
       "      <th>Efforts</th>\n",
       "    </tr>\n",
       "  </thead>\n",
       "  <tbody>\n",
       "    <tr>\n",
       "      <td>0</td>\n",
       "      <td>Добавить два новых канала привлечения трафика,...</td>\n",
       "      <td>3</td>\n",
       "      <td>10</td>\n",
       "      <td>8</td>\n",
       "      <td>6</td>\n",
       "    </tr>\n",
       "    <tr>\n",
       "      <td>1</td>\n",
       "      <td>Запустить собственную службу доставки, что сок...</td>\n",
       "      <td>2</td>\n",
       "      <td>5</td>\n",
       "      <td>4</td>\n",
       "      <td>10</td>\n",
       "    </tr>\n",
       "    <tr>\n",
       "      <td>2</td>\n",
       "      <td>Добавить блоки рекомендаций товаров на сайт ин...</td>\n",
       "      <td>8</td>\n",
       "      <td>3</td>\n",
       "      <td>7</td>\n",
       "      <td>3</td>\n",
       "    </tr>\n",
       "    <tr>\n",
       "      <td>3</td>\n",
       "      <td>Изменить структура категорий, что увеличит кон...</td>\n",
       "      <td>8</td>\n",
       "      <td>3</td>\n",
       "      <td>3</td>\n",
       "      <td>8</td>\n",
       "    </tr>\n",
       "    <tr>\n",
       "      <td>4</td>\n",
       "      <td>Изменить цвет фона главной страницы, чтобы уве...</td>\n",
       "      <td>3</td>\n",
       "      <td>1</td>\n",
       "      <td>1</td>\n",
       "      <td>1</td>\n",
       "    </tr>\n",
       "    <tr>\n",
       "      <td>5</td>\n",
       "      <td>Добавить страницу отзывов клиентов о магазине,...</td>\n",
       "      <td>3</td>\n",
       "      <td>2</td>\n",
       "      <td>2</td>\n",
       "      <td>3</td>\n",
       "    </tr>\n",
       "    <tr>\n",
       "      <td>6</td>\n",
       "      <td>Показать на главной странице баннеры с актуаль...</td>\n",
       "      <td>5</td>\n",
       "      <td>3</td>\n",
       "      <td>8</td>\n",
       "      <td>3</td>\n",
       "    </tr>\n",
       "    <tr>\n",
       "      <td>7</td>\n",
       "      <td>Добавить форму подписки на все основные страни...</td>\n",
       "      <td>10</td>\n",
       "      <td>7</td>\n",
       "      <td>8</td>\n",
       "      <td>5</td>\n",
       "    </tr>\n",
       "    <tr>\n",
       "      <td>8</td>\n",
       "      <td>Запустить акцию, дающую скидку на товар в день...</td>\n",
       "      <td>1</td>\n",
       "      <td>9</td>\n",
       "      <td>9</td>\n",
       "      <td>5</td>\n",
       "    </tr>\n",
       "  </tbody>\n",
       "</table>\n",
       "</div>"
      ],
      "text/plain": [
       "                                          Hypothesis  Reach  Impact  \\\n",
       "0  Добавить два новых канала привлечения трафика,...      3      10   \n",
       "1  Запустить собственную службу доставки, что сок...      2       5   \n",
       "2  Добавить блоки рекомендаций товаров на сайт ин...      8       3   \n",
       "3  Изменить структура категорий, что увеличит кон...      8       3   \n",
       "4  Изменить цвет фона главной страницы, чтобы уве...      3       1   \n",
       "5  Добавить страницу отзывов клиентов о магазине,...      3       2   \n",
       "6  Показать на главной странице баннеры с актуаль...      5       3   \n",
       "7  Добавить форму подписки на все основные страни...     10       7   \n",
       "8  Запустить акцию, дающую скидку на товар в день...      1       9   \n",
       "\n",
       "   Confidence  Efforts  \n",
       "0           8        6  \n",
       "1           4       10  \n",
       "2           7        3  \n",
       "3           3        8  \n",
       "4           1        1  \n",
       "5           2        3  \n",
       "6           8        3  \n",
       "7           8        5  \n",
       "8           9        5  "
      ]
     },
     "execution_count": 6,
     "metadata": {},
     "output_type": "execute_result"
    }
   ],
   "source": [
    "hypothesis"
   ]
  },
  {
   "cell_type": "markdown",
   "metadata": {},
   "source": [
    "- В таблице __hypothesis__ пропусков нет. \n",
    "- Необходимо привести заголовки в строчный вид."
   ]
  },
  {
   "cell_type": "code",
   "execution_count": 7,
   "metadata": {},
   "outputs": [
    {
     "name": "stdout",
     "output_type": "stream",
     "text": [
      "<class 'pandas.core.frame.DataFrame'>\n",
      "RangeIndex: 1197 entries, 0 to 1196\n",
      "Data columns (total 5 columns):\n",
      "transactionId    1197 non-null int64\n",
      "visitorId        1197 non-null int64\n",
      "date             1197 non-null object\n",
      "revenue          1197 non-null int64\n",
      "group            1197 non-null object\n",
      "dtypes: int64(3), object(2)\n",
      "memory usage: 46.9+ KB\n"
     ]
    }
   ],
   "source": [
    "orders.info()"
   ]
  },
  {
   "cell_type": "code",
   "execution_count": 8,
   "metadata": {},
   "outputs": [
    {
     "data": {
      "text/html": [
       "<div>\n",
       "<style scoped>\n",
       "    .dataframe tbody tr th:only-of-type {\n",
       "        vertical-align: middle;\n",
       "    }\n",
       "\n",
       "    .dataframe tbody tr th {\n",
       "        vertical-align: top;\n",
       "    }\n",
       "\n",
       "    .dataframe thead th {\n",
       "        text-align: right;\n",
       "    }\n",
       "</style>\n",
       "<table border=\"1\" class=\"dataframe\">\n",
       "  <thead>\n",
       "    <tr style=\"text-align: right;\">\n",
       "      <th></th>\n",
       "      <th>transactionId</th>\n",
       "      <th>visitorId</th>\n",
       "      <th>date</th>\n",
       "      <th>revenue</th>\n",
       "      <th>group</th>\n",
       "    </tr>\n",
       "  </thead>\n",
       "  <tbody>\n",
       "    <tr>\n",
       "      <td>175</td>\n",
       "      <td>1223645875</td>\n",
       "      <td>3123255051</td>\n",
       "      <td>2019-08-02</td>\n",
       "      <td>3040</td>\n",
       "      <td>A</td>\n",
       "    </tr>\n",
       "    <tr>\n",
       "      <td>1063</td>\n",
       "      <td>842507644</td>\n",
       "      <td>3170292896</td>\n",
       "      <td>2019-08-11</td>\n",
       "      <td>1190</td>\n",
       "      <td>B</td>\n",
       "    </tr>\n",
       "    <tr>\n",
       "      <td>675</td>\n",
       "      <td>2658936877</td>\n",
       "      <td>1230306981</td>\n",
       "      <td>2019-08-09</td>\n",
       "      <td>6440</td>\n",
       "      <td>B</td>\n",
       "    </tr>\n",
       "    <tr>\n",
       "      <td>435</td>\n",
       "      <td>2430683444</td>\n",
       "      <td>2378935119</td>\n",
       "      <td>2019-08-28</td>\n",
       "      <td>20450</td>\n",
       "      <td>B</td>\n",
       "    </tr>\n",
       "    <tr>\n",
       "      <td>74</td>\n",
       "      <td>3721196264</td>\n",
       "      <td>249864742</td>\n",
       "      <td>2019-08-16</td>\n",
       "      <td>780</td>\n",
       "      <td>B</td>\n",
       "    </tr>\n",
       "    <tr>\n",
       "      <td>1005</td>\n",
       "      <td>2156491846</td>\n",
       "      <td>2592727107</td>\n",
       "      <td>2019-08-10</td>\n",
       "      <td>100</td>\n",
       "      <td>A</td>\n",
       "    </tr>\n",
       "    <tr>\n",
       "      <td>399</td>\n",
       "      <td>1853288890</td>\n",
       "      <td>4171878080</td>\n",
       "      <td>2019-08-28</td>\n",
       "      <td>9990</td>\n",
       "      <td>B</td>\n",
       "    </tr>\n",
       "    <tr>\n",
       "      <td>1196</td>\n",
       "      <td>3936777065</td>\n",
       "      <td>2108080724</td>\n",
       "      <td>2019-08-15</td>\n",
       "      <td>202740</td>\n",
       "      <td>B</td>\n",
       "    </tr>\n",
       "    <tr>\n",
       "      <td>479</td>\n",
       "      <td>1651227034</td>\n",
       "      <td>2927087541</td>\n",
       "      <td>2019-08-24</td>\n",
       "      <td>2190</td>\n",
       "      <td>B</td>\n",
       "    </tr>\n",
       "    <tr>\n",
       "      <td>71</td>\n",
       "      <td>3679129301</td>\n",
       "      <td>8300375</td>\n",
       "      <td>2019-08-01</td>\n",
       "      <td>10510</td>\n",
       "      <td>B</td>\n",
       "    </tr>\n",
       "  </tbody>\n",
       "</table>\n",
       "</div>"
      ],
      "text/plain": [
       "      transactionId   visitorId        date  revenue group\n",
       "175      1223645875  3123255051  2019-08-02     3040     A\n",
       "1063      842507644  3170292896  2019-08-11     1190     B\n",
       "675      2658936877  1230306981  2019-08-09     6440     B\n",
       "435      2430683444  2378935119  2019-08-28    20450     B\n",
       "74       3721196264   249864742  2019-08-16      780     B\n",
       "1005     2156491846  2592727107  2019-08-10      100     A\n",
       "399      1853288890  4171878080  2019-08-28     9990     B\n",
       "1196     3936777065  2108080724  2019-08-15   202740     B\n",
       "479      1651227034  2927087541  2019-08-24     2190     B\n",
       "71       3679129301     8300375  2019-08-01    10510     B"
      ]
     },
     "execution_count": 8,
     "metadata": {},
     "output_type": "execute_result"
    }
   ],
   "source": [
    "orders.sample(10)"
   ]
  },
  {
   "cell_type": "markdown",
   "metadata": {},
   "source": [
    "- В таблице __orders__ пропусков нет.\n",
    "- Необходимо привести заголовки в строчный вид и заполнить пробелы подчеркиванием.\n",
    "- Необходимо преобразование столбца __date__ во временной формат."
   ]
  },
  {
   "cell_type": "code",
   "execution_count": 9,
   "metadata": {},
   "outputs": [
    {
     "name": "stdout",
     "output_type": "stream",
     "text": [
      "<class 'pandas.core.frame.DataFrame'>\n",
      "RangeIndex: 62 entries, 0 to 61\n",
      "Data columns (total 3 columns):\n",
      "date        62 non-null object\n",
      "group       62 non-null object\n",
      "visitors    62 non-null int64\n",
      "dtypes: int64(1), object(2)\n",
      "memory usage: 1.6+ KB\n"
     ]
    }
   ],
   "source": [
    "visitors.info()"
   ]
  },
  {
   "cell_type": "code",
   "execution_count": 10,
   "metadata": {},
   "outputs": [
    {
     "data": {
      "text/html": [
       "<div>\n",
       "<style scoped>\n",
       "    .dataframe tbody tr th:only-of-type {\n",
       "        vertical-align: middle;\n",
       "    }\n",
       "\n",
       "    .dataframe tbody tr th {\n",
       "        vertical-align: top;\n",
       "    }\n",
       "\n",
       "    .dataframe thead th {\n",
       "        text-align: right;\n",
       "    }\n",
       "</style>\n",
       "<table border=\"1\" class=\"dataframe\">\n",
       "  <thead>\n",
       "    <tr style=\"text-align: right;\">\n",
       "      <th></th>\n",
       "      <th>date</th>\n",
       "      <th>group</th>\n",
       "      <th>visitors</th>\n",
       "    </tr>\n",
       "  </thead>\n",
       "  <tbody>\n",
       "    <tr>\n",
       "      <td>16</td>\n",
       "      <td>2019-08-17</td>\n",
       "      <td>A</td>\n",
       "      <td>412</td>\n",
       "    </tr>\n",
       "    <tr>\n",
       "      <td>53</td>\n",
       "      <td>2019-08-23</td>\n",
       "      <td>B</td>\n",
       "      <td>546</td>\n",
       "    </tr>\n",
       "    <tr>\n",
       "      <td>4</td>\n",
       "      <td>2019-08-05</td>\n",
       "      <td>A</td>\n",
       "      <td>756</td>\n",
       "    </tr>\n",
       "    <tr>\n",
       "      <td>18</td>\n",
       "      <td>2019-08-19</td>\n",
       "      <td>A</td>\n",
       "      <td>502</td>\n",
       "    </tr>\n",
       "    <tr>\n",
       "      <td>28</td>\n",
       "      <td>2019-08-29</td>\n",
       "      <td>A</td>\n",
       "      <td>577</td>\n",
       "    </tr>\n",
       "    <tr>\n",
       "      <td>50</td>\n",
       "      <td>2019-08-20</td>\n",
       "      <td>B</td>\n",
       "      <td>560</td>\n",
       "    </tr>\n",
       "    <tr>\n",
       "      <td>25</td>\n",
       "      <td>2019-08-26</td>\n",
       "      <td>A</td>\n",
       "      <td>722</td>\n",
       "    </tr>\n",
       "    <tr>\n",
       "      <td>9</td>\n",
       "      <td>2019-08-10</td>\n",
       "      <td>A</td>\n",
       "      <td>406</td>\n",
       "    </tr>\n",
       "    <tr>\n",
       "      <td>29</td>\n",
       "      <td>2019-08-30</td>\n",
       "      <td>A</td>\n",
       "      <td>490</td>\n",
       "    </tr>\n",
       "    <tr>\n",
       "      <td>54</td>\n",
       "      <td>2019-08-24</td>\n",
       "      <td>B</td>\n",
       "      <td>378</td>\n",
       "    </tr>\n",
       "  </tbody>\n",
       "</table>\n",
       "</div>"
      ],
      "text/plain": [
       "          date group  visitors\n",
       "16  2019-08-17     A       412\n",
       "53  2019-08-23     B       546\n",
       "4   2019-08-05     A       756\n",
       "18  2019-08-19     A       502\n",
       "28  2019-08-29     A       577\n",
       "50  2019-08-20     B       560\n",
       "25  2019-08-26     A       722\n",
       "9   2019-08-10     A       406\n",
       "29  2019-08-30     A       490\n",
       "54  2019-08-24     B       378"
      ]
     },
     "execution_count": 10,
     "metadata": {},
     "output_type": "execute_result"
    }
   ],
   "source": [
    "visitors.sample(10)"
   ]
  },
  {
   "cell_type": "markdown",
   "metadata": {},
   "source": [
    "- В таблице __visitors__ пропусков нет.\n",
    "- Необходим перевод столбца __date__ во временной формат."
   ]
  },
  {
   "cell_type": "markdown",
   "metadata": {},
   "source": [
    "### Промежуточный вывод\n",
    "\n",
    "- В датафреймах пропусков нет.\n",
    "- Названия столбцов содержат прописные символы. Их необходимо перевести в строчный вид.\n",
    "- Необходим перевод во временной формат соответствующих столбцов во всех датафреймах."
   ]
  },
  {
   "cell_type": "markdown",
   "metadata": {},
   "source": [
    "<div class=\"alert alert-block alert-warning\">\n",
    "<b>Комментарии от ревьюера:</b>\n",
    "\n",
    "На данном этапе всё хорошо. Ты загрузил данные и посмотрел их содержимое. Провел первичную проверку. Идем дальше\n",
    "</div>\n",
    "    \n",
    "---"
   ]
  },
  {
   "cell_type": "markdown",
   "metadata": {},
   "source": [
    "## Подготовка данных\n",
    "<a id = \"etl\"></a>"
   ]
  },
  {
   "cell_type": "markdown",
   "metadata": {},
   "source": [
    "##### Переименование столбцов"
   ]
  },
  {
   "cell_type": "code",
   "execution_count": 11,
   "metadata": {},
   "outputs": [],
   "source": [
    "# обработка заголовков\n",
    "hypothesis.columns = hypothesis.columns.str.lower()"
   ]
  },
  {
   "cell_type": "markdown",
   "metadata": {},
   "source": [
    "##### Преобразование данных в столбцах во временной формат"
   ]
  },
  {
   "cell_type": "code",
   "execution_count": 12,
   "metadata": {},
   "outputs": [],
   "source": [
    "orders['date'] = pd.to_datetime(orders['date'], format='%Y-%m-%d')"
   ]
  },
  {
   "cell_type": "code",
   "execution_count": 13,
   "metadata": {},
   "outputs": [],
   "source": [
    "visitors['date'] = pd.to_datetime(visitors['date'], format='%Y-%m-%d')"
   ]
  },
  {
   "cell_type": "markdown",
   "metadata": {},
   "source": [
    "##### Проверка периода анализа"
   ]
  },
  {
   "cell_type": "markdown",
   "metadata": {},
   "source": [
    "Необходимо проверить, что во всех датафреймах один временной период для анализа."
   ]
  },
  {
   "cell_type": "code",
   "execution_count": 14,
   "metadata": {},
   "outputs": [
    {
     "data": {
      "text/plain": [
       "count                    1197\n",
       "unique                     31\n",
       "top       2019-08-05 00:00:00\n",
       "freq                       48\n",
       "first     2019-08-01 00:00:00\n",
       "last      2019-08-31 00:00:00\n",
       "Name: date, dtype: object"
      ]
     },
     "execution_count": 14,
     "metadata": {},
     "output_type": "execute_result"
    }
   ],
   "source": [
    "orders['date'].describe()"
   ]
  },
  {
   "cell_type": "code",
   "execution_count": 15,
   "metadata": {},
   "outputs": [
    {
     "data": {
      "text/plain": [
       "count                      62\n",
       "unique                     31\n",
       "top       2019-08-02 00:00:00\n",
       "freq                        2\n",
       "first     2019-08-01 00:00:00\n",
       "last      2019-08-31 00:00:00\n",
       "Name: date, dtype: object"
      ]
     },
     "execution_count": 15,
     "metadata": {},
     "output_type": "execute_result"
    }
   ],
   "source": [
    "visitors['date'].describe()"
   ]
  },
  {
   "cell_type": "markdown",
   "metadata": {},
   "source": [
    "В датафреймах один и тот же временной период для анализа."
   ]
  },
  {
   "cell_type": "markdown",
   "metadata": {},
   "source": [
    "___"
   ]
  },
  {
   "cell_type": "markdown",
   "metadata": {},
   "source": [
    "Проверка преобразований."
   ]
  },
  {
   "cell_type": "code",
   "execution_count": 16,
   "metadata": {},
   "outputs": [
    {
     "name": "stdout",
     "output_type": "stream",
     "text": [
      "<class 'pandas.core.frame.DataFrame'>\n",
      "RangeIndex: 1197 entries, 0 to 1196\n",
      "Data columns (total 5 columns):\n",
      "transactionId    1197 non-null int64\n",
      "visitorId        1197 non-null int64\n",
      "date             1197 non-null datetime64[ns]\n",
      "revenue          1197 non-null int64\n",
      "group            1197 non-null object\n",
      "dtypes: datetime64[ns](1), int64(3), object(1)\n",
      "memory usage: 46.9+ KB\n"
     ]
    }
   ],
   "source": [
    "orders.info()"
   ]
  },
  {
   "cell_type": "code",
   "execution_count": 17,
   "metadata": {},
   "outputs": [
    {
     "name": "stdout",
     "output_type": "stream",
     "text": [
      "<class 'pandas.core.frame.DataFrame'>\n",
      "RangeIndex: 62 entries, 0 to 61\n",
      "Data columns (total 3 columns):\n",
      "date        62 non-null datetime64[ns]\n",
      "group       62 non-null object\n",
      "visitors    62 non-null int64\n",
      "dtypes: datetime64[ns](1), int64(1), object(1)\n",
      "memory usage: 1.6+ KB\n"
     ]
    }
   ],
   "source": [
    "visitors.info()"
   ]
  },
  {
   "cell_type": "markdown",
   "metadata": {},
   "source": [
    "### Промежуточный вывод\n",
    "Данные успешно подготовлены: \n",
    "- заголовки переименованы, \n",
    "- значения переведены во временной формат."
   ]
  },
  {
   "cell_type": "markdown",
   "metadata": {},
   "source": [
    "<div class=\"alert alert-block alert-success\">\n",
    "<b>Комментарии от ревьюера:</b>\n",
    "\n",
    "Всё хорошо\n",
    "</div>\n",
    "    \n",
    "---"
   ]
  },
  {
   "cell_type": "markdown",
   "metadata": {},
   "source": [
    "## Приоритизация гипотез\n",
    "<a id = \"hypotheses\"></a>"
   ]
  },
  {
   "cell_type": "markdown",
   "metadata": {},
   "source": [
    "### Приоритизация по ICE"
   ]
  },
  {
   "cell_type": "code",
   "execution_count": 18,
   "metadata": {},
   "outputs": [
    {
     "data": {
      "text/html": [
       "<div>\n",
       "<style scoped>\n",
       "    .dataframe tbody tr th:only-of-type {\n",
       "        vertical-align: middle;\n",
       "    }\n",
       "\n",
       "    .dataframe tbody tr th {\n",
       "        vertical-align: top;\n",
       "    }\n",
       "\n",
       "    .dataframe thead th {\n",
       "        text-align: right;\n",
       "    }\n",
       "</style>\n",
       "<table border=\"1\" class=\"dataframe\">\n",
       "  <thead>\n",
       "    <tr style=\"text-align: right;\">\n",
       "      <th></th>\n",
       "      <th>hypothesis</th>\n",
       "      <th>ICE</th>\n",
       "    </tr>\n",
       "  </thead>\n",
       "  <tbody>\n",
       "    <tr>\n",
       "      <td>8</td>\n",
       "      <td>Запустить акцию, дающую скидку на товар в день...</td>\n",
       "      <td>16.2</td>\n",
       "    </tr>\n",
       "    <tr>\n",
       "      <td>0</td>\n",
       "      <td>Добавить два новых канала привлечения трафика,...</td>\n",
       "      <td>13.3</td>\n",
       "    </tr>\n",
       "    <tr>\n",
       "      <td>7</td>\n",
       "      <td>Добавить форму подписки на все основные страни...</td>\n",
       "      <td>11.2</td>\n",
       "    </tr>\n",
       "    <tr>\n",
       "      <td>6</td>\n",
       "      <td>Показать на главной странице баннеры с актуаль...</td>\n",
       "      <td>8.0</td>\n",
       "    </tr>\n",
       "    <tr>\n",
       "      <td>2</td>\n",
       "      <td>Добавить блоки рекомендаций товаров на сайт ин...</td>\n",
       "      <td>7.0</td>\n",
       "    </tr>\n",
       "    <tr>\n",
       "      <td>1</td>\n",
       "      <td>Запустить собственную службу доставки, что сок...</td>\n",
       "      <td>2.0</td>\n",
       "    </tr>\n",
       "    <tr>\n",
       "      <td>5</td>\n",
       "      <td>Добавить страницу отзывов клиентов о магазине,...</td>\n",
       "      <td>1.3</td>\n",
       "    </tr>\n",
       "    <tr>\n",
       "      <td>3</td>\n",
       "      <td>Изменить структура категорий, что увеличит кон...</td>\n",
       "      <td>1.1</td>\n",
       "    </tr>\n",
       "    <tr>\n",
       "      <td>4</td>\n",
       "      <td>Изменить цвет фона главной страницы, чтобы уве...</td>\n",
       "      <td>1.0</td>\n",
       "    </tr>\n",
       "  </tbody>\n",
       "</table>\n",
       "</div>"
      ],
      "text/plain": [
       "                                          hypothesis  ICE\n",
       "8  Запустить акцию, дающую скидку на товар в день... 16.2\n",
       "0  Добавить два новых канала привлечения трафика,... 13.3\n",
       "7  Добавить форму подписки на все основные страни... 11.2\n",
       "6  Показать на главной странице баннеры с актуаль...  8.0\n",
       "2  Добавить блоки рекомендаций товаров на сайт ин...  7.0\n",
       "1  Запустить собственную службу доставки, что сок...  2.0\n",
       "5  Добавить страницу отзывов клиентов о магазине,...  1.3\n",
       "3  Изменить структура категорий, что увеличит кон...  1.1\n",
       "4  Изменить цвет фона главной страницы, чтобы уве...  1.0"
      ]
     },
     "execution_count": 18,
     "metadata": {},
     "output_type": "execute_result"
    }
   ],
   "source": [
    "# расчет фреймворка ICE\n",
    "hypothesis['ICE'] = (hypothesis.impact * hypothesis.confidence) / hypothesis.efforts \n",
    "hypothesis[['hypothesis', 'ICE']].sort_values(by='ICE', ascending=False)"
   ]
  },
  {
   "cell_type": "markdown",
   "metadata": {},
   "source": [
    "По фреймворку ICE в тройке лидеров гипотезы 8, 0 и 7."
   ]
  },
  {
   "cell_type": "markdown",
   "metadata": {},
   "source": [
    "### Приоритизация по RICE"
   ]
  },
  {
   "cell_type": "code",
   "execution_count": 19,
   "metadata": {},
   "outputs": [
    {
     "data": {
      "text/html": [
       "<div>\n",
       "<style scoped>\n",
       "    .dataframe tbody tr th:only-of-type {\n",
       "        vertical-align: middle;\n",
       "    }\n",
       "\n",
       "    .dataframe tbody tr th {\n",
       "        vertical-align: top;\n",
       "    }\n",
       "\n",
       "    .dataframe thead th {\n",
       "        text-align: right;\n",
       "    }\n",
       "</style>\n",
       "<table border=\"1\" class=\"dataframe\">\n",
       "  <thead>\n",
       "    <tr style=\"text-align: right;\">\n",
       "      <th></th>\n",
       "      <th>hypothesis</th>\n",
       "      <th>RICE</th>\n",
       "    </tr>\n",
       "  </thead>\n",
       "  <tbody>\n",
       "    <tr>\n",
       "      <td>7</td>\n",
       "      <td>Добавить форму подписки на все основные страни...</td>\n",
       "      <td>112.0</td>\n",
       "    </tr>\n",
       "    <tr>\n",
       "      <td>2</td>\n",
       "      <td>Добавить блоки рекомендаций товаров на сайт ин...</td>\n",
       "      <td>56.0</td>\n",
       "    </tr>\n",
       "    <tr>\n",
       "      <td>0</td>\n",
       "      <td>Добавить два новых канала привлечения трафика,...</td>\n",
       "      <td>40.0</td>\n",
       "    </tr>\n",
       "    <tr>\n",
       "      <td>6</td>\n",
       "      <td>Показать на главной странице баннеры с актуаль...</td>\n",
       "      <td>40.0</td>\n",
       "    </tr>\n",
       "    <tr>\n",
       "      <td>8</td>\n",
       "      <td>Запустить акцию, дающую скидку на товар в день...</td>\n",
       "      <td>16.2</td>\n",
       "    </tr>\n",
       "    <tr>\n",
       "      <td>3</td>\n",
       "      <td>Изменить структура категорий, что увеличит кон...</td>\n",
       "      <td>9.0</td>\n",
       "    </tr>\n",
       "    <tr>\n",
       "      <td>1</td>\n",
       "      <td>Запустить собственную службу доставки, что сок...</td>\n",
       "      <td>4.0</td>\n",
       "    </tr>\n",
       "    <tr>\n",
       "      <td>5</td>\n",
       "      <td>Добавить страницу отзывов клиентов о магазине,...</td>\n",
       "      <td>4.0</td>\n",
       "    </tr>\n",
       "    <tr>\n",
       "      <td>4</td>\n",
       "      <td>Изменить цвет фона главной страницы, чтобы уве...</td>\n",
       "      <td>3.0</td>\n",
       "    </tr>\n",
       "  </tbody>\n",
       "</table>\n",
       "</div>"
      ],
      "text/plain": [
       "                                          hypothesis  RICE\n",
       "7  Добавить форму подписки на все основные страни... 112.0\n",
       "2  Добавить блоки рекомендаций товаров на сайт ин...  56.0\n",
       "0  Добавить два новых канала привлечения трафика,...  40.0\n",
       "6  Показать на главной странице баннеры с актуаль...  40.0\n",
       "8  Запустить акцию, дающую скидку на товар в день...  16.2\n",
       "3  Изменить структура категорий, что увеличит кон...   9.0\n",
       "1  Запустить собственную службу доставки, что сок...   4.0\n",
       "5  Добавить страницу отзывов клиентов о магазине,...   4.0\n",
       "4  Изменить цвет фона главной страницы, чтобы уве...   3.0"
      ]
     },
     "execution_count": 19,
     "metadata": {},
     "output_type": "execute_result"
    }
   ],
   "source": [
    "# расчет фреймворка RICE\n",
    "hypothesis['RICE'] = (hypothesis.reach * hypothesis.impact * hypothesis.confidence) / hypothesis.efforts\n",
    "hypothesis[['hypothesis', 'RICE']].sort_values(by='RICE', ascending=False)"
   ]
  },
  {
   "cell_type": "markdown",
   "metadata": {},
   "source": [
    "По фреймворку RICE в тройке лидеров гипотезы 7, 2 и 0. Гипотеза 7 вышла на первое место во фреймворке RICE из-за максимальной оценки параметра __reach__."
   ]
  },
  {
   "cell_type": "markdown",
   "metadata": {},
   "source": [
    "### Вывод по приоритизации гипотез"
   ]
  },
  {
   "cell_type": "code",
   "execution_count": 20,
   "metadata": {},
   "outputs": [
    {
     "data": {
      "text/html": [
       "<style  type=\"text/css\" >\n",
       "    #T_12f0b9e6_cd7a_11ea_8748_88e9fe50f393row0_col5 {\n",
       "            background-color:  #2b982b;\n",
       "            color:  #000000;\n",
       "        }    #T_12f0b9e6_cd7a_11ea_8748_88e9fe50f393row0_col6 {\n",
       "            background-color:  #98d498;\n",
       "            color:  #000000;\n",
       "        }    #T_12f0b9e6_cd7a_11ea_8748_88e9fe50f393row1_col5 {\n",
       "            background-color:  #d7f7d7;\n",
       "            color:  #000000;\n",
       "        }    #T_12f0b9e6_cd7a_11ea_8748_88e9fe50f393row1_col6 {\n",
       "            background-color:  #e4fee4;\n",
       "            color:  #000000;\n",
       "        }    #T_12f0b9e6_cd7a_11ea_8748_88e9fe50f393row2_col5 {\n",
       "            background-color:  #8bcd8b;\n",
       "            color:  #000000;\n",
       "        }    #T_12f0b9e6_cd7a_11ea_8748_88e9fe50f393row2_col6 {\n",
       "            background-color:  #76c176;\n",
       "            color:  #000000;\n",
       "        }    #T_12f0b9e6_cd7a_11ea_8748_88e9fe50f393row3_col5 {\n",
       "            background-color:  #e4fee4;\n",
       "            color:  #000000;\n",
       "        }    #T_12f0b9e6_cd7a_11ea_8748_88e9fe50f393row3_col6 {\n",
       "            background-color:  #d9f8d9;\n",
       "            color:  #000000;\n",
       "        }    #T_12f0b9e6_cd7a_11ea_8748_88e9fe50f393row4_col5 {\n",
       "            background-color:  #e5ffe5;\n",
       "            color:  #000000;\n",
       "        }    #T_12f0b9e6_cd7a_11ea_8748_88e9fe50f393row4_col6 {\n",
       "            background-color:  #e5ffe5;\n",
       "            color:  #000000;\n",
       "        }    #T_12f0b9e6_cd7a_11ea_8748_88e9fe50f393row5_col5 {\n",
       "            background-color:  #e1fde1;\n",
       "            color:  #000000;\n",
       "        }    #T_12f0b9e6_cd7a_11ea_8748_88e9fe50f393row5_col6 {\n",
       "            background-color:  #e4fee4;\n",
       "            color:  #000000;\n",
       "        }    #T_12f0b9e6_cd7a_11ea_8748_88e9fe50f393row6_col5 {\n",
       "            background-color:  #7cc57c;\n",
       "            color:  #000000;\n",
       "        }    #T_12f0b9e6_cd7a_11ea_8748_88e9fe50f393row6_col6 {\n",
       "            background-color:  #98d498;\n",
       "            color:  #000000;\n",
       "        }    #T_12f0b9e6_cd7a_11ea_8748_88e9fe50f393row7_col5 {\n",
       "            background-color:  #4caa4c;\n",
       "            color:  #000000;\n",
       "        }    #T_12f0b9e6_cd7a_11ea_8748_88e9fe50f393row7_col6 {\n",
       "            background-color:  #008000;\n",
       "            color:  #f1f1f1;\n",
       "        }    #T_12f0b9e6_cd7a_11ea_8748_88e9fe50f393row8_col5 {\n",
       "            background-color:  #008000;\n",
       "            color:  #f1f1f1;\n",
       "        }    #T_12f0b9e6_cd7a_11ea_8748_88e9fe50f393row8_col6 {\n",
       "            background-color:  #caf0ca;\n",
       "            color:  #000000;\n",
       "        }</style><table id=\"T_12f0b9e6_cd7a_11ea_8748_88e9fe50f393\" ><thead>    <tr>        <th class=\"blank level0\" ></th>        <th class=\"col_heading level0 col0\" >hypothesis</th>        <th class=\"col_heading level0 col1\" >reach</th>        <th class=\"col_heading level0 col2\" >impact</th>        <th class=\"col_heading level0 col3\" >confidence</th>        <th class=\"col_heading level0 col4\" >efforts</th>        <th class=\"col_heading level0 col5\" >ICE</th>        <th class=\"col_heading level0 col6\" >RICE</th>    </tr></thead><tbody>\n",
       "                <tr>\n",
       "                        <th id=\"T_12f0b9e6_cd7a_11ea_8748_88e9fe50f393level0_row0\" class=\"row_heading level0 row0\" >0</th>\n",
       "                        <td id=\"T_12f0b9e6_cd7a_11ea_8748_88e9fe50f393row0_col0\" class=\"data row0 col0\" >Добавить два новых канала привлечения трафика, что позволит привлекать на 30% больше пользователей</td>\n",
       "                        <td id=\"T_12f0b9e6_cd7a_11ea_8748_88e9fe50f393row0_col1\" class=\"data row0 col1\" >3</td>\n",
       "                        <td id=\"T_12f0b9e6_cd7a_11ea_8748_88e9fe50f393row0_col2\" class=\"data row0 col2\" >10</td>\n",
       "                        <td id=\"T_12f0b9e6_cd7a_11ea_8748_88e9fe50f393row0_col3\" class=\"data row0 col3\" >8</td>\n",
       "                        <td id=\"T_12f0b9e6_cd7a_11ea_8748_88e9fe50f393row0_col4\" class=\"data row0 col4\" >6</td>\n",
       "                        <td id=\"T_12f0b9e6_cd7a_11ea_8748_88e9fe50f393row0_col5\" class=\"data row0 col5\" >13.3</td>\n",
       "                        <td id=\"T_12f0b9e6_cd7a_11ea_8748_88e9fe50f393row0_col6\" class=\"data row0 col6\" >40.0</td>\n",
       "            </tr>\n",
       "            <tr>\n",
       "                        <th id=\"T_12f0b9e6_cd7a_11ea_8748_88e9fe50f393level0_row1\" class=\"row_heading level0 row1\" >1</th>\n",
       "                        <td id=\"T_12f0b9e6_cd7a_11ea_8748_88e9fe50f393row1_col0\" class=\"data row1 col0\" >Запустить собственную службу доставки, что сократит срок доставки заказов</td>\n",
       "                        <td id=\"T_12f0b9e6_cd7a_11ea_8748_88e9fe50f393row1_col1\" class=\"data row1 col1\" >2</td>\n",
       "                        <td id=\"T_12f0b9e6_cd7a_11ea_8748_88e9fe50f393row1_col2\" class=\"data row1 col2\" >5</td>\n",
       "                        <td id=\"T_12f0b9e6_cd7a_11ea_8748_88e9fe50f393row1_col3\" class=\"data row1 col3\" >4</td>\n",
       "                        <td id=\"T_12f0b9e6_cd7a_11ea_8748_88e9fe50f393row1_col4\" class=\"data row1 col4\" >10</td>\n",
       "                        <td id=\"T_12f0b9e6_cd7a_11ea_8748_88e9fe50f393row1_col5\" class=\"data row1 col5\" >2.0</td>\n",
       "                        <td id=\"T_12f0b9e6_cd7a_11ea_8748_88e9fe50f393row1_col6\" class=\"data row1 col6\" >4.0</td>\n",
       "            </tr>\n",
       "            <tr>\n",
       "                        <th id=\"T_12f0b9e6_cd7a_11ea_8748_88e9fe50f393level0_row2\" class=\"row_heading level0 row2\" >2</th>\n",
       "                        <td id=\"T_12f0b9e6_cd7a_11ea_8748_88e9fe50f393row2_col0\" class=\"data row2 col0\" >Добавить блоки рекомендаций товаров на сайт интернет магазина, чтобы повысить конверсию и средний чек заказа</td>\n",
       "                        <td id=\"T_12f0b9e6_cd7a_11ea_8748_88e9fe50f393row2_col1\" class=\"data row2 col1\" >8</td>\n",
       "                        <td id=\"T_12f0b9e6_cd7a_11ea_8748_88e9fe50f393row2_col2\" class=\"data row2 col2\" >3</td>\n",
       "                        <td id=\"T_12f0b9e6_cd7a_11ea_8748_88e9fe50f393row2_col3\" class=\"data row2 col3\" >7</td>\n",
       "                        <td id=\"T_12f0b9e6_cd7a_11ea_8748_88e9fe50f393row2_col4\" class=\"data row2 col4\" >3</td>\n",
       "                        <td id=\"T_12f0b9e6_cd7a_11ea_8748_88e9fe50f393row2_col5\" class=\"data row2 col5\" >7.0</td>\n",
       "                        <td id=\"T_12f0b9e6_cd7a_11ea_8748_88e9fe50f393row2_col6\" class=\"data row2 col6\" >56.0</td>\n",
       "            </tr>\n",
       "            <tr>\n",
       "                        <th id=\"T_12f0b9e6_cd7a_11ea_8748_88e9fe50f393level0_row3\" class=\"row_heading level0 row3\" >3</th>\n",
       "                        <td id=\"T_12f0b9e6_cd7a_11ea_8748_88e9fe50f393row3_col0\" class=\"data row3 col0\" >Изменить структура категорий, что увеличит конверсию, т.к. пользователи быстрее найдут нужный товар</td>\n",
       "                        <td id=\"T_12f0b9e6_cd7a_11ea_8748_88e9fe50f393row3_col1\" class=\"data row3 col1\" >8</td>\n",
       "                        <td id=\"T_12f0b9e6_cd7a_11ea_8748_88e9fe50f393row3_col2\" class=\"data row3 col2\" >3</td>\n",
       "                        <td id=\"T_12f0b9e6_cd7a_11ea_8748_88e9fe50f393row3_col3\" class=\"data row3 col3\" >3</td>\n",
       "                        <td id=\"T_12f0b9e6_cd7a_11ea_8748_88e9fe50f393row3_col4\" class=\"data row3 col4\" >8</td>\n",
       "                        <td id=\"T_12f0b9e6_cd7a_11ea_8748_88e9fe50f393row3_col5\" class=\"data row3 col5\" >1.1</td>\n",
       "                        <td id=\"T_12f0b9e6_cd7a_11ea_8748_88e9fe50f393row3_col6\" class=\"data row3 col6\" >9.0</td>\n",
       "            </tr>\n",
       "            <tr>\n",
       "                        <th id=\"T_12f0b9e6_cd7a_11ea_8748_88e9fe50f393level0_row4\" class=\"row_heading level0 row4\" >4</th>\n",
       "                        <td id=\"T_12f0b9e6_cd7a_11ea_8748_88e9fe50f393row4_col0\" class=\"data row4 col0\" >Изменить цвет фона главной страницы, чтобы увеличить вовлеченность пользователей</td>\n",
       "                        <td id=\"T_12f0b9e6_cd7a_11ea_8748_88e9fe50f393row4_col1\" class=\"data row4 col1\" >3</td>\n",
       "                        <td id=\"T_12f0b9e6_cd7a_11ea_8748_88e9fe50f393row4_col2\" class=\"data row4 col2\" >1</td>\n",
       "                        <td id=\"T_12f0b9e6_cd7a_11ea_8748_88e9fe50f393row4_col3\" class=\"data row4 col3\" >1</td>\n",
       "                        <td id=\"T_12f0b9e6_cd7a_11ea_8748_88e9fe50f393row4_col4\" class=\"data row4 col4\" >1</td>\n",
       "                        <td id=\"T_12f0b9e6_cd7a_11ea_8748_88e9fe50f393row4_col5\" class=\"data row4 col5\" >1.0</td>\n",
       "                        <td id=\"T_12f0b9e6_cd7a_11ea_8748_88e9fe50f393row4_col6\" class=\"data row4 col6\" >3.0</td>\n",
       "            </tr>\n",
       "            <tr>\n",
       "                        <th id=\"T_12f0b9e6_cd7a_11ea_8748_88e9fe50f393level0_row5\" class=\"row_heading level0 row5\" >5</th>\n",
       "                        <td id=\"T_12f0b9e6_cd7a_11ea_8748_88e9fe50f393row5_col0\" class=\"data row5 col0\" >Добавить страницу отзывов клиентов о магазине, что позволит увеличить количество заказов</td>\n",
       "                        <td id=\"T_12f0b9e6_cd7a_11ea_8748_88e9fe50f393row5_col1\" class=\"data row5 col1\" >3</td>\n",
       "                        <td id=\"T_12f0b9e6_cd7a_11ea_8748_88e9fe50f393row5_col2\" class=\"data row5 col2\" >2</td>\n",
       "                        <td id=\"T_12f0b9e6_cd7a_11ea_8748_88e9fe50f393row5_col3\" class=\"data row5 col3\" >2</td>\n",
       "                        <td id=\"T_12f0b9e6_cd7a_11ea_8748_88e9fe50f393row5_col4\" class=\"data row5 col4\" >3</td>\n",
       "                        <td id=\"T_12f0b9e6_cd7a_11ea_8748_88e9fe50f393row5_col5\" class=\"data row5 col5\" >1.3</td>\n",
       "                        <td id=\"T_12f0b9e6_cd7a_11ea_8748_88e9fe50f393row5_col6\" class=\"data row5 col6\" >4.0</td>\n",
       "            </tr>\n",
       "            <tr>\n",
       "                        <th id=\"T_12f0b9e6_cd7a_11ea_8748_88e9fe50f393level0_row6\" class=\"row_heading level0 row6\" >6</th>\n",
       "                        <td id=\"T_12f0b9e6_cd7a_11ea_8748_88e9fe50f393row6_col0\" class=\"data row6 col0\" >Показать на главной странице баннеры с актуальными акциями и распродажами, чтобы увеличить конверсию</td>\n",
       "                        <td id=\"T_12f0b9e6_cd7a_11ea_8748_88e9fe50f393row6_col1\" class=\"data row6 col1\" >5</td>\n",
       "                        <td id=\"T_12f0b9e6_cd7a_11ea_8748_88e9fe50f393row6_col2\" class=\"data row6 col2\" >3</td>\n",
       "                        <td id=\"T_12f0b9e6_cd7a_11ea_8748_88e9fe50f393row6_col3\" class=\"data row6 col3\" >8</td>\n",
       "                        <td id=\"T_12f0b9e6_cd7a_11ea_8748_88e9fe50f393row6_col4\" class=\"data row6 col4\" >3</td>\n",
       "                        <td id=\"T_12f0b9e6_cd7a_11ea_8748_88e9fe50f393row6_col5\" class=\"data row6 col5\" >8.0</td>\n",
       "                        <td id=\"T_12f0b9e6_cd7a_11ea_8748_88e9fe50f393row6_col6\" class=\"data row6 col6\" >40.0</td>\n",
       "            </tr>\n",
       "            <tr>\n",
       "                        <th id=\"T_12f0b9e6_cd7a_11ea_8748_88e9fe50f393level0_row7\" class=\"row_heading level0 row7\" >7</th>\n",
       "                        <td id=\"T_12f0b9e6_cd7a_11ea_8748_88e9fe50f393row7_col0\" class=\"data row7 col0\" >Добавить форму подписки на все основные страницы, чтобы собрать базу клиентов для email-рассылок</td>\n",
       "                        <td id=\"T_12f0b9e6_cd7a_11ea_8748_88e9fe50f393row7_col1\" class=\"data row7 col1\" >10</td>\n",
       "                        <td id=\"T_12f0b9e6_cd7a_11ea_8748_88e9fe50f393row7_col2\" class=\"data row7 col2\" >7</td>\n",
       "                        <td id=\"T_12f0b9e6_cd7a_11ea_8748_88e9fe50f393row7_col3\" class=\"data row7 col3\" >8</td>\n",
       "                        <td id=\"T_12f0b9e6_cd7a_11ea_8748_88e9fe50f393row7_col4\" class=\"data row7 col4\" >5</td>\n",
       "                        <td id=\"T_12f0b9e6_cd7a_11ea_8748_88e9fe50f393row7_col5\" class=\"data row7 col5\" >11.2</td>\n",
       "                        <td id=\"T_12f0b9e6_cd7a_11ea_8748_88e9fe50f393row7_col6\" class=\"data row7 col6\" >112.0</td>\n",
       "            </tr>\n",
       "            <tr>\n",
       "                        <th id=\"T_12f0b9e6_cd7a_11ea_8748_88e9fe50f393level0_row8\" class=\"row_heading level0 row8\" >8</th>\n",
       "                        <td id=\"T_12f0b9e6_cd7a_11ea_8748_88e9fe50f393row8_col0\" class=\"data row8 col0\" >Запустить акцию, дающую скидку на товар в день рождения</td>\n",
       "                        <td id=\"T_12f0b9e6_cd7a_11ea_8748_88e9fe50f393row8_col1\" class=\"data row8 col1\" >1</td>\n",
       "                        <td id=\"T_12f0b9e6_cd7a_11ea_8748_88e9fe50f393row8_col2\" class=\"data row8 col2\" >9</td>\n",
       "                        <td id=\"T_12f0b9e6_cd7a_11ea_8748_88e9fe50f393row8_col3\" class=\"data row8 col3\" >9</td>\n",
       "                        <td id=\"T_12f0b9e6_cd7a_11ea_8748_88e9fe50f393row8_col4\" class=\"data row8 col4\" >5</td>\n",
       "                        <td id=\"T_12f0b9e6_cd7a_11ea_8748_88e9fe50f393row8_col5\" class=\"data row8 col5\" >16.2</td>\n",
       "                        <td id=\"T_12f0b9e6_cd7a_11ea_8748_88e9fe50f393row8_col6\" class=\"data row8 col6\" >16.2</td>\n",
       "            </tr>\n",
       "    </tbody></table>"
      ],
      "text/plain": [
       "<pandas.io.formats.style.Styler at 0x1a1e32ba10>"
      ]
     },
     "execution_count": 20,
     "metadata": {},
     "output_type": "execute_result"
    }
   ],
   "source": [
    "# градиентная покраска показателей фреймворков\n",
    "hypothesis_colored = hypothesis.style.background_gradient(\n",
    "    cmap=sns.light_palette(\"green\", as_cmap=True),\n",
    "    subset=['ICE','RICE']\n",
    ")\n",
    "\n",
    "hypothesis_colored.format({'ICE': '{0:.1f}', 'RICE': '{0:.1f}'})"
   ]
  },
  {
   "cell_type": "markdown",
   "metadata": {},
   "source": [
    "Гипотезы 7 и 0 остаются в тройке лидеров независимо от фреймворка:\n",
    "- 0: Добавить два новых канала привлечения трафика, что позволит привлекать на 30% больше пользователей.\n",
    "- 7: Добавить форму подписки на все основные страницы, чтобы собрать базу клиентов для email-рассылок.   \n",
    "\n",
    "Гипотеза 7 имеет больший охват, чем гипотеза 0. Гипотеза 7 требует немного меньше трудозатрат, чем гипотеза 0.\n",
    "Гипотеза 8 (первая по ICE), нацелена на непосредственное увеличение продаж, а 0 и 7 на охват и расширение базы клиентов.\n",
    "\n",
    "В данном проекте далее будет проверятся конверсия и продажи, что косвенно свидетельствует о принятии __гипотезы 8: Запустить акцию, дающую скидку на товар в день рождения__."
   ]
  },
  {
   "cell_type": "markdown",
   "metadata": {},
   "source": [
    "<div class=\"alert alert-block alert-success\">\n",
    "<b>Комментарии от ревьюера:</b>\n",
    "\n",
    "С результатами и выводом согласен\n",
    "</div>\n",
    "    \n",
    "---"
   ]
  },
  {
   "cell_type": "markdown",
   "metadata": {},
   "source": [
    "## Обработка результатов A/B-теста\n",
    "<a id = \"test_results_preparation\"></a>"
   ]
  },
  {
   "cell_type": "markdown",
   "metadata": {},
   "source": [
    "__Подготовка сводного датафрейма__"
   ]
  },
  {
   "cell_type": "code",
   "execution_count": 20,
   "metadata": {},
   "outputs": [],
   "source": [
    "# свод посещений по дням и группам\n",
    "visitorsADaily = visitors[visitors['group'] == 'A'][['date', 'visitors']]\n",
    "visitorsADaily.columns = ['date', 'visitorsPerDateA']\n",
    "\n",
    "visitorsBDaily = visitors[visitors['group']=='B'][['date', 'visitors']]\n",
    "visitorsBDaily.columns = ['date', 'visitorsPerDateB']\n",
    "\n",
    "# посещения по дням и группам нарастающим итогом\n",
    "visitorsACummulative = \\\n",
    "visitorsADaily.apply(lambda x: visitorsADaily[visitorsADaily['date'] <= x['date']]. \\\n",
    "                     agg({'date' : 'max', 'visitorsPerDateA' : 'sum'}), axis=1)\n",
    "visitorsACummulative.columns = ['date', 'visitorsCummulativeA']\n",
    "\n",
    "visitorsBCummulative = \\\n",
    "visitorsBDaily.apply(lambda x: visitorsBDaily[visitorsBDaily['date'] <= x['date']]. \\\n",
    "                     agg({'date' : 'max', 'visitorsPerDateB' : 'sum'}), axis=1)\n",
    "visitorsBCummulative.columns = ['date', 'visitorsCummulativeB']"
   ]
  },
  {
   "cell_type": "code",
   "execution_count": 21,
   "metadata": {},
   "outputs": [],
   "source": [
    "# свод заказов по дням и группам\n",
    "ordersADaily = orders[orders['group']=='A'][['date', 'transactionId', 'visitorId', 'revenue']]\\\n",
    "    .groupby('date', as_index=False)\\\n",
    "    .agg({'transactionId' : pd.Series.nunique, 'revenue' : 'sum'})\n",
    "ordersADaily.columns = ['date', 'ordersPerDateA', 'revenuePerDateA']\n",
    "\n",
    "ordersBDaily = orders[orders['group']=='B'][['date', 'transactionId', 'visitorId', 'revenue']]\\\n",
    "    .groupby('date', as_index=False)\\\n",
    "    .agg({'transactionId' : pd.Series.nunique, 'revenue' : 'sum'})\n",
    "ordersBDaily.columns = ['date', 'ordersPerDateB', 'revenuePerDateB']\n",
    "\n",
    "# свод заказов по дням и группам нарастающим итогом\n",
    "ordersACummulative = ordersADaily.apply(\n",
    "    lambda x: \\\n",
    "        ordersADaily[ordersADaily['date'] <= x['date']]\\\n",
    "            .agg({\n",
    "                'date' : 'max',\n",
    "                'ordersPerDateA' : 'sum',\n",
    "                'revenuePerDateA' : 'sum'}), axis=1).sort_values(by=['date'])\n",
    "ordersACummulative.columns = ['date', 'ordersCummulativeA', 'revenueCummulativeA']\n",
    "\n",
    "ordersBCummulative = ordersBDaily.apply(\n",
    "    lambda x: \\\n",
    "        ordersBDaily[ordersBDaily['date'] <= x['date']]\\\n",
    "            .agg({\n",
    "                'date' : 'max',\n",
    "                'ordersPerDateB' : 'sum',\n",
    "                'revenuePerDateB' : 'sum'}), axis=1).sort_values(by=['date'])\n",
    "ordersBCummulative.columns = ['date', 'ordersCummulativeB', 'revenueCummulativeB']"
   ]
  },
  {
   "cell_type": "code",
   "execution_count": 22,
   "metadata": {},
   "outputs": [
    {
     "data": {
      "text/html": [
       "<div>\n",
       "<style scoped>\n",
       "    .dataframe tbody tr th:only-of-type {\n",
       "        vertical-align: middle;\n",
       "    }\n",
       "\n",
       "    .dataframe tbody tr th {\n",
       "        vertical-align: top;\n",
       "    }\n",
       "\n",
       "    .dataframe thead th {\n",
       "        text-align: right;\n",
       "    }\n",
       "</style>\n",
       "<table border=\"1\" class=\"dataframe\">\n",
       "  <thead>\n",
       "    <tr style=\"text-align: right;\">\n",
       "      <th></th>\n",
       "      <th>date</th>\n",
       "      <th>ordersPerDateA</th>\n",
       "      <th>revenuePerDateA</th>\n",
       "      <th>ordersPerDateB</th>\n",
       "      <th>revenuePerDateB</th>\n",
       "      <th>ordersCummulativeA</th>\n",
       "      <th>revenueCummulativeA</th>\n",
       "      <th>ordersCummulativeB</th>\n",
       "      <th>revenueCummulativeB</th>\n",
       "      <th>visitorsPerDateA</th>\n",
       "      <th>visitorsPerDateB</th>\n",
       "      <th>visitorsCummulativeA</th>\n",
       "      <th>visitorsCummulativeB</th>\n",
       "      <th>order_avgA</th>\n",
       "      <th>order_avgB</th>\n",
       "      <th>conversionCummulativeA</th>\n",
       "      <th>conversionCummulativeB</th>\n",
       "      <th>conversion_trend</th>\n",
       "    </tr>\n",
       "  </thead>\n",
       "  <tbody>\n",
       "    <tr>\n",
       "      <td>0</td>\n",
       "      <td>2019-08-01</td>\n",
       "      <td>24</td>\n",
       "      <td>148579</td>\n",
       "      <td>21</td>\n",
       "      <td>101217</td>\n",
       "      <td>24</td>\n",
       "      <td>148579</td>\n",
       "      <td>21</td>\n",
       "      <td>101217</td>\n",
       "      <td>719</td>\n",
       "      <td>713</td>\n",
       "      <td>719</td>\n",
       "      <td>713</td>\n",
       "      <td>6,190.8</td>\n",
       "      <td>4,819.9</td>\n",
       "      <td>0.0</td>\n",
       "      <td>0.0</td>\n",
       "      <td>-0.1</td>\n",
       "    </tr>\n",
       "    <tr>\n",
       "      <td>1</td>\n",
       "      <td>2019-08-02</td>\n",
       "      <td>20</td>\n",
       "      <td>93822</td>\n",
       "      <td>24</td>\n",
       "      <td>165531</td>\n",
       "      <td>44</td>\n",
       "      <td>242401</td>\n",
       "      <td>45</td>\n",
       "      <td>266748</td>\n",
       "      <td>619</td>\n",
       "      <td>581</td>\n",
       "      <td>1338</td>\n",
       "      <td>1294</td>\n",
       "      <td>5,509.1</td>\n",
       "      <td>5,927.7</td>\n",
       "      <td>0.0</td>\n",
       "      <td>0.0</td>\n",
       "      <td>0.1</td>\n",
       "    </tr>\n",
       "    <tr>\n",
       "      <td>2</td>\n",
       "      <td>2019-08-03</td>\n",
       "      <td>24</td>\n",
       "      <td>112473</td>\n",
       "      <td>16</td>\n",
       "      <td>114248</td>\n",
       "      <td>68</td>\n",
       "      <td>354874</td>\n",
       "      <td>61</td>\n",
       "      <td>380996</td>\n",
       "      <td>507</td>\n",
       "      <td>509</td>\n",
       "      <td>1845</td>\n",
       "      <td>1803</td>\n",
       "      <td>5,218.7</td>\n",
       "      <td>6,245.8</td>\n",
       "      <td>0.0</td>\n",
       "      <td>0.0</td>\n",
       "      <td>-0.1</td>\n",
       "    </tr>\n",
       "    <tr>\n",
       "      <td>3</td>\n",
       "      <td>2019-08-04</td>\n",
       "      <td>16</td>\n",
       "      <td>70825</td>\n",
       "      <td>17</td>\n",
       "      <td>108571</td>\n",
       "      <td>84</td>\n",
       "      <td>425699</td>\n",
       "      <td>78</td>\n",
       "      <td>489567</td>\n",
       "      <td>717</td>\n",
       "      <td>770</td>\n",
       "      <td>2562</td>\n",
       "      <td>2573</td>\n",
       "      <td>5,067.8</td>\n",
       "      <td>6,276.5</td>\n",
       "      <td>0.0</td>\n",
       "      <td>0.0</td>\n",
       "      <td>-0.1</td>\n",
       "    </tr>\n",
       "    <tr>\n",
       "      <td>4</td>\n",
       "      <td>2019-08-05</td>\n",
       "      <td>25</td>\n",
       "      <td>124218</td>\n",
       "      <td>23</td>\n",
       "      <td>92428</td>\n",
       "      <td>109</td>\n",
       "      <td>549917</td>\n",
       "      <td>101</td>\n",
       "      <td>581995</td>\n",
       "      <td>756</td>\n",
       "      <td>707</td>\n",
       "      <td>3318</td>\n",
       "      <td>3280</td>\n",
       "      <td>5,045.1</td>\n",
       "      <td>5,762.3</td>\n",
       "      <td>0.0</td>\n",
       "      <td>0.0</td>\n",
       "      <td>-0.1</td>\n",
       "    </tr>\n",
       "  </tbody>\n",
       "</table>\n",
       "</div>"
      ],
      "text/plain": [
       "        date  ordersPerDateA  revenuePerDateA  ordersPerDateB  \\\n",
       "0 2019-08-01              24           148579              21   \n",
       "1 2019-08-02              20            93822              24   \n",
       "2 2019-08-03              24           112473              16   \n",
       "3 2019-08-04              16            70825              17   \n",
       "4 2019-08-05              25           124218              23   \n",
       "\n",
       "   revenuePerDateB  ordersCummulativeA  revenueCummulativeA  \\\n",
       "0           101217                  24               148579   \n",
       "1           165531                  44               242401   \n",
       "2           114248                  68               354874   \n",
       "3           108571                  84               425699   \n",
       "4            92428                 109               549917   \n",
       "\n",
       "   ordersCummulativeB  revenueCummulativeB  visitorsPerDateA  \\\n",
       "0                  21               101217               719   \n",
       "1                  45               266748               619   \n",
       "2                  61               380996               507   \n",
       "3                  78               489567               717   \n",
       "4                 101               581995               756   \n",
       "\n",
       "   visitorsPerDateB  visitorsCummulativeA  visitorsCummulativeB  order_avgA  \\\n",
       "0               713                   719                   713     6,190.8   \n",
       "1               581                  1338                  1294     5,509.1   \n",
       "2               509                  1845                  1803     5,218.7   \n",
       "3               770                  2562                  2573     5,067.8   \n",
       "4               707                  3318                  3280     5,045.1   \n",
       "\n",
       "   order_avgB  conversionCummulativeA  conversionCummulativeB  \\\n",
       "0     4,819.9                     0.0                     0.0   \n",
       "1     5,927.7                     0.0                     0.0   \n",
       "2     6,245.8                     0.0                     0.0   \n",
       "3     6,276.5                     0.0                     0.0   \n",
       "4     5,762.3                     0.0                     0.0   \n",
       "\n",
       "   conversion_trend  \n",
       "0              -0.1  \n",
       "1               0.1  \n",
       "2              -0.1  \n",
       "3              -0.1  \n",
       "4              -0.1  "
      ]
     },
     "execution_count": 22,
     "metadata": {},
     "output_type": "execute_result"
    }
   ],
   "source": [
    "# сводный датафрейм\n",
    "data = ordersADaily.merge(ordersBDaily, left_on='date', right_on='date', how='left')\\\n",
    "    .merge(ordersACummulative, left_on='date', right_on='date', how='left')\\\n",
    "    .merge(ordersBCummulative, left_on='date', right_on='date', how='left')\\\n",
    "    .merge(visitorsADaily, left_on='date', right_on='date', how='left')\\\n",
    "    .merge(visitorsBDaily, left_on='date', right_on='date', how='left')\\\n",
    "    .merge(visitorsACummulative, left_on='date', right_on='date', how='left')\\\n",
    "    .merge(visitorsBCummulative, left_on='date', right_on='date', how='left')\n",
    "\n",
    "# свод кумулятивного среднего чека по группам\n",
    "data['order_avgA'] = data['revenueCummulativeA'] / data['ordersCummulativeA']\n",
    "data['order_avgB'] = data['revenueCummulativeB'] / data['ordersCummulativeB']\n",
    "\n",
    "# кумулятивная конверсия\n",
    "data['conversionCummulativeA'] = data['ordersCummulativeA'] / data['visitorsCummulativeA']\n",
    "data['conversionCummulativeB'] = data['ordersCummulativeB'] / data['visitorsCummulativeB']\n",
    "\n",
    "# относительное изменение кумулятивной конверсии группы В к А\n",
    "data['conversion_trend'] = (data['conversionCummulativeB'] / data['conversionCummulativeA'] - 1)\n",
    "\n",
    "data.head()"
   ]
  },
  {
   "cell_type": "code",
   "execution_count": 23,
   "metadata": {},
   "outputs": [
    {
     "data": {
      "text/html": [
       "<div>\n",
       "<style scoped>\n",
       "    .dataframe tbody tr th:only-of-type {\n",
       "        vertical-align: middle;\n",
       "    }\n",
       "\n",
       "    .dataframe tbody tr th {\n",
       "        vertical-align: top;\n",
       "    }\n",
       "\n",
       "    .dataframe thead th {\n",
       "        text-align: right;\n",
       "    }\n",
       "</style>\n",
       "<table border=\"1\" class=\"dataframe\">\n",
       "  <thead>\n",
       "    <tr style=\"text-align: right;\">\n",
       "      <th></th>\n",
       "      <th>userId</th>\n",
       "      <th>orders</th>\n",
       "      <th>group</th>\n",
       "    </tr>\n",
       "  </thead>\n",
       "  <tbody>\n",
       "    <tr>\n",
       "      <td>0</td>\n",
       "      <td>5114589</td>\n",
       "      <td>1</td>\n",
       "      <td>B</td>\n",
       "    </tr>\n",
       "    <tr>\n",
       "      <td>1</td>\n",
       "      <td>6958315</td>\n",
       "      <td>1</td>\n",
       "      <td>B</td>\n",
       "    </tr>\n",
       "    <tr>\n",
       "      <td>2</td>\n",
       "      <td>8300375</td>\n",
       "      <td>2</td>\n",
       "      <td>B</td>\n",
       "    </tr>\n",
       "    <tr>\n",
       "      <td>3</td>\n",
       "      <td>11685486</td>\n",
       "      <td>1</td>\n",
       "      <td>A</td>\n",
       "    </tr>\n",
       "    <tr>\n",
       "      <td>4</td>\n",
       "      <td>39475350</td>\n",
       "      <td>1</td>\n",
       "      <td>B</td>\n",
       "    </tr>\n",
       "  </tbody>\n",
       "</table>\n",
       "</div>"
      ],
      "text/plain": [
       "     userId  orders group\n",
       "0   5114589       1     B\n",
       "1   6958315       1     B\n",
       "2   8300375       2     B\n",
       "3  11685486       1     A\n",
       "4  39475350       1     B"
      ]
     },
     "execution_count": 23,
     "metadata": {},
     "output_type": "execute_result"
    }
   ],
   "source": [
    "# свод количества заказов по клиентам и группам\n",
    "ordersByUsers = orders.groupby('visitorId', as_index=False). \\\n",
    "agg({'transactionId': pd.Series.nunique, 'group': 'max'})\n",
    "ordersByUsers.columns = ['userId','orders','group']\n",
    "\n",
    "ordersByUsersA = orders[orders['group']=='A'].groupby('visitorId', as_index=False). \\\n",
    "agg({'transactionId' : pd.Series.nunique})\n",
    "ordersByUsersA.columns = ['userId', 'orders']\n",
    "\n",
    "ordersByUsersB = orders[orders['group']=='B'].groupby('visitorId', as_index=False). \\\n",
    "agg({'transactionId' : pd.Series.nunique})\n",
    "ordersByUsersB.columns = ['userId', 'orders']\n",
    "\n",
    "ordersByUsers.head()"
   ]
  },
  {
   "cell_type": "markdown",
   "metadata": {},
   "source": [
    "<div class=\"alert alert-block alert-success\">\n",
    "<b>Комментарии от ревьюера:</b>\n",
    "\n",
    "Подготовка проведена корректно. Здорово, что оставляешь комментарии к коду и сам стиль довольно аккуратный. Переходим к анализу\n",
    "</div>\n",
    "    \n",
    "---"
   ]
  },
  {
   "cell_type": "markdown",
   "metadata": {},
   "source": [
    "## Анализ A/B-теста\n",
    "<a id = \"test_results_analysis\"></a>"
   ]
  },
  {
   "cell_type": "markdown",
   "metadata": {},
   "source": [
    "### Кумулятивная выручка и средний чек по группам"
   ]
  },
  {
   "cell_type": "markdown",
   "metadata": {},
   "source": [
    "#### Кумулятивная выручка"
   ]
  },
  {
   "cell_type": "code",
   "execution_count": 24,
   "metadata": {},
   "outputs": [
    {
     "data": {
      "image/png": "[encoded data removed]",
      "text/plain": [
       "<Figure size 1152x576 with 1 Axes>"
      ]
     },
     "metadata": {
      "needs_background": "light"
     },
     "output_type": "display_data"
    }
   ],
   "source": [
    "# график кумулятивной выручки по группам\n",
    "plt.plot(data['date'], data['revenueCummulativeA'], label='A')\n",
    "plt.plot(data['date'], data['revenueCummulativeB'], label='B')\n",
    "\n",
    "# подписи данных\n",
    "plt.title('Кумулятивная выручка по группам', **title_font)\n",
    "plt.xlabel('', **axis_font)\n",
    "plt.ylabel('руб.', **axis_font)\n",
    "\n",
    "# границы графика и сетка\n",
    "plt.grid(False)\n",
    "plt.grid(\n",
    "    color='lightgrey',\n",
    "    which='major',\n",
    "    axis='y',\n",
    "    linestyle='--'\n",
    ")\n",
    "plt.gca().spines['top'].set_visible(False)\n",
    "plt.gca().spines['right'].set_visible(False)\n",
    "plt.legend(\n",
    "    title='Группа',\n",
    "    loc='upper left')\n",
    "\n",
    "plt.show()"
   ]
  },
  {
   "cell_type": "markdown",
   "metadata": {},
   "source": [
    "Выручка по группе А почти равномерно увеличивается в течение всего теста.   \n",
    "Выручка по группе В также увеличивается в течение всего теста, но в тренде есть резкий скачок между 2019/08/17 и 2019/08/21. Это похоже на рост числа заказов или на крупный заказ. Их необходимо проанализировать на дальнейших шагах."
   ]
  },
  {
   "cell_type": "markdown",
   "metadata": {},
   "source": [
    "<div class=\"alert alert-block alert-success\">\n",
    "<b>Комментарии от ревьюера:</b>\n",
    "\n",
    "Всё верно. График наглядный\n",
    "</div>\n",
    "    \n",
    "---"
   ]
  },
  {
   "cell_type": "markdown",
   "metadata": {},
   "source": [
    "#### Кумулятивный средний чек "
   ]
  },
  {
   "cell_type": "code",
   "execution_count": 25,
   "metadata": {},
   "outputs": [
    {
     "data": {
      "image/png": "[encoded data removed]",
      "text/plain": [
       "<Figure size 1152x576 with 1 Axes>"
      ]
     },
     "metadata": {
      "needs_background": "light"
     },
     "output_type": "display_data"
    }
   ],
   "source": [
    "# график кумулятивного среднего чека\n",
    "plt.plot(data['date'], data['order_avgA'], label='A')\n",
    "plt.plot(data['date'], data['order_avgB'], label='B')\n",
    "\n",
    "# подписи данных\n",
    "plt.title('Кумулятивный средний чек по группам', **title_font)\n",
    "plt.xlabel('', **axis_font)\n",
    "plt.ylabel('руб./заказ', **axis_font)\n",
    "\n",
    "# границы графика и сетка\n",
    "plt.grid(False)\n",
    "plt.grid(\n",
    "    color='lightgrey',\n",
    "    which='major',\n",
    "    axis='y',\n",
    "    linestyle='--'\n",
    ")\n",
    "plt.gca().spines['top'].set_visible(False)\n",
    "plt.gca().spines['right'].set_visible(False)\n",
    "plt.legend(\n",
    "    title='Группа',\n",
    "    loc='upper left')\n",
    "\n",
    "plt.show()"
   ]
  },
  {
   "cell_type": "markdown",
   "metadata": {},
   "source": [
    "Тренд кумулятивного среднего чека по группе А в первой половине теста падает до 5000 руб., после чего резко растет (вероятно за счет крупных заказов) и продолжает плавный рост ближе к концу теста.   \n",
    "В тренде кумулятивного среднего чека по группе B в первой половине теста попали крупные заказы (локальные горбы на графике). После половины теста в группу В попали крупные заказы (резкий всплеск на графике). Ближе к концу теста тренд по группе продолжает снижаться — приближаться к реальному среднему чеку после скачка."
   ]
  },
  {
   "cell_type": "markdown",
   "metadata": {},
   "source": [
    "#### Относительное изменение кумулятивного среднего чека группы B к группе A"
   ]
  },
  {
   "cell_type": "code",
   "execution_count": 26,
   "metadata": {},
   "outputs": [
    {
     "data": {
      "image/png": "[encoded data removed]",
      "text/plain": [
       "<Figure size 1152x576 with 1 Axes>"
      ]
     },
     "metadata": {
      "needs_background": "light"
     },
     "output_type": "display_data"
    }
   ],
   "source": [
    "# график отношение средних чеков\n",
    "plt.plot(data['date'], data['order_avgB'] / data['order_avgA'] - 1, color='red')\n",
    "\n",
    "plt.axhline(y=0.27, color='black', linestyle='--')\n",
    "\n",
    "# подписи данных\n",
    "plt.title('Относительное изменение кумулятивного среднего чека В к А', **title_font)\n",
    "plt.xlabel('', **axis_font)\n",
    "plt.ylabel('', **axis_font)\n",
    "plt.gca().set_yticklabels(['{:.0f}%'.format(x*100) for x in plt.gca().get_yticks()]) \n",
    "\n",
    "# границы графика и сетка\n",
    "plt.grid(False)\n",
    "plt.grid(\n",
    "    color='lightgrey',\n",
    "    which='major',\n",
    "    axis='y',\n",
    "    linestyle='--'\n",
    ")\n",
    "plt.gca().spines['top'].set_visible(False)\n",
    "plt.gca().spines['right'].set_visible(False)\n",
    "\n",
    "plt.show()"
   ]
  },
  {
   "cell_type": "markdown",
   "metadata": {},
   "source": [
    "Тренд относительного изменения кумулятивного среднего чека группы B к группе A резко проваливается 2019/08/17, после чего резко растет между 2019/08/17 и 2019/08/2 из-за дорогих заказов, которые упомянуты ранее."
   ]
  },
  {
   "cell_type": "markdown",
   "metadata": {},
   "source": [
    "<div class=\"alert alert-block alert-success\">\n",
    "<b>Комментарии от ревьюера:</b>\n",
    "\n",
    "Все расчеты проведены корректно\n",
    "</div>\n",
    "    \n",
    "---"
   ]
  },
  {
   "cell_type": "markdown",
   "metadata": {},
   "source": [
    "### Конверсия"
   ]
  },
  {
   "cell_type": "markdown",
   "metadata": {},
   "source": [
    "#### Кумулятивная конверсия по группам"
   ]
  },
  {
   "cell_type": "code",
   "execution_count": 27,
   "metadata": {},
   "outputs": [
    {
     "data": {
      "image/png": "[encoded data removed]",
      "text/plain": [
       "<Figure size 1152x576 with 1 Axes>"
      ]
     },
     "metadata": {
      "needs_background": "light"
     },
     "output_type": "display_data"
    }
   ],
   "source": [
    "# график кумулятивной конверсии\n",
    "plt.plot(data['date'], data['conversionCummulativeA'], label='A')\n",
    "plt.plot(data['date'], data['conversionCummulativeB'], label='B')\n",
    "\n",
    "\n",
    "plt.axhline(y=0.034, color='black', linestyle='--')\n",
    "plt.axhline(y=0.03, color='black', linestyle='--')\n",
    "# масштаб осей\n",
    "#plt.axis(['2019-08-01', '2019-09-01', 0, 0.04])\n",
    "\n",
    "\n",
    "# подписи данных\n",
    "plt.title('Кумулятивная конверсия по группам', **title_font)\n",
    "plt.xlabel('', **axis_font)\n",
    "plt.ylabel('', **axis_font)\n",
    "plt.gca().set_yticklabels(['{:.1f}%'.format(x*100) for x in plt.gca().get_yticks()]) \n",
    "\n",
    "# границы графика и сетка\n",
    "plt.grid(False)\n",
    "plt.grid(\n",
    "    color='lightgrey',\n",
    "    which='major',\n",
    "    axis='y',\n",
    "    linestyle='--'\n",
    ")\n",
    "plt.gca().spines['top'].set_visible(False)\n",
    "plt.gca().spines['right'].set_visible(False)\n",
    "plt.legend(\n",
    "    title='Группа',\n",
    "   loc='upper left')\n",
    "\n",
    "plt.show()"
   ]
  },
  {
   "cell_type": "markdown",
   "metadata": {},
   "source": [
    "Тренды кумулятивной конверсии по группам в начале теста колеблются. В первую неделю теста группа А показала лучший результат, чем В, которая локально провалилась. После половины теста графики стабилизировались около значений:\n",
    "- А: 3,4%\n",
    "- В: 3,0%"
   ]
  },
  {
   "cell_type": "markdown",
   "metadata": {},
   "source": [
    "<div class=\"alert alert-block alert-success\">\n",
    "<b>Комментарии от ревьюера:</b>\n",
    "\n",
    "Грамотный выбор масштаба графика. С результатами согласен\n",
    "</div>\n",
    "    \n",
    "---"
   ]
  },
  {
   "cell_type": "markdown",
   "metadata": {},
   "source": [
    "#### Относительное изменение кумулятивной конверсии группы B к группе A"
   ]
  },
  {
   "cell_type": "code",
   "execution_count": 28,
   "metadata": {},
   "outputs": [
    {
     "data": {
      "image/png": "[encoded data removed]",
      "text/plain": [
       "<Figure size 1152x576 with 1 Axes>"
      ]
     },
     "metadata": {
      "needs_background": "light"
     },
     "output_type": "display_data"
    }
   ],
   "source": [
    "# график отношение средних чеков\n",
    "plt.plot(data['date'], data['conversion_trend'], color='red')\n",
    "\n",
    "plt.axhline(y=0.1, color='black', linestyle='--')\n",
    "\n",
    "# подписи данных\n",
    "plt.title('Относительное изменение кумулятивной конверсии группы В к А', **title_font)\n",
    "plt.xlabel('', **axis_font)\n",
    "plt.ylabel('', **axis_font)\n",
    "plt.gca().set_yticklabels(['{:.0f}%'.format(x*100) for x in plt.gca().get_yticks()]) \n",
    "\n",
    "# границы графика и сетка\n",
    "plt.grid(False)\n",
    "plt.grid(\n",
    "    color='lightgrey',\n",
    "    which='major',\n",
    "    axis='y',\n",
    "    linestyle='--'\n",
    ")\n",
    "plt.gca().spines['top'].set_visible(False)\n",
    "plt.gca().spines['right'].set_visible(False)\n",
    "\n",
    "plt.show()"
   ]
  },
  {
   "cell_type": "markdown",
   "metadata": {},
   "source": [
    "Тренд относительного изменения кумулятивной конверсии группы B к группе A в начале теста отрицательный. Это произошло из-за локального роста по группе А, который наложился на локальный провал группы В, показанные на гарфике __кумулятивной конверсия по группам__. После половины теста тренд стабилизировался между 10 и 15%."
   ]
  },
  {
   "cell_type": "markdown",
   "metadata": {},
   "source": [
    "<div class=\"alert alert-block alert-success\">\n",
    "<b>Комментарии от ревьюера:</b>\n",
    "\n",
    "И здесь всё хорошо\n",
    "</div>\n",
    "    \n",
    "---"
   ]
  },
  {
   "cell_type": "markdown",
   "metadata": {},
   "source": [
    "### Заказы"
   ]
  },
  {
   "cell_type": "markdown",
   "metadata": {},
   "source": [
    "#### Количество заказов по пользователям"
   ]
  },
  {
   "cell_type": "code",
   "execution_count": 29,
   "metadata": {},
   "outputs": [
    {
     "data": {
      "image/png": "[encoded data removed]",
      "text/plain": [
       "<Figure size 1152x576 with 1 Axes>"
      ]
     },
     "metadata": {
      "needs_background": "light"
     },
     "output_type": "display_data"
    }
   ],
   "source": [
    "# количество заказов по пользователям\n",
    "x_values = pd.Series(range(0,len(ordersByUsers)))\n",
    "plt.scatter(x_values, ordersByUsers['orders'], color='red')\n",
    "\n",
    "# подписи данных\n",
    "plt.title('Количество заказов по пользователям', **title_font)\n",
    "plt.xlabel('Пользователи', **axis_font)\n",
    "plt.ylabel('Количество заказов, шт.', **axis_font)\n",
    "\n",
    "# границы графика и сетка\n",
    "plt.grid(False)\n",
    "plt.grid(\n",
    "    color='lightgrey',\n",
    "    which='major',\n",
    "    axis='y',\n",
    "    linestyle='--'\n",
    ")\n",
    "plt.gca().spines['top'].set_visible(False)\n",
    "plt.gca().spines['right'].set_visible(False)\n",
    "\n",
    "plt.show()"
   ]
  },
  {
   "cell_type": "markdown",
   "metadata": {},
   "source": [
    "Основная часть клиентов сделала только 1 заказ. Необходимо определить долю клиентов с 2-4 заказами. "
   ]
  },
  {
   "cell_type": "markdown",
   "metadata": {},
   "source": [
    "#### Граница аномальных пользователей с большим количеством заказов"
   ]
  },
  {
   "cell_type": "code",
   "execution_count": 30,
   "metadata": {},
   "outputs": [
    {
     "name": "stdout",
     "output_type": "stream",
     "text": [
      "[2. 4.]\n"
     ]
    }
   ],
   "source": [
    "# 95-й и 99-й перцентили количества заказов на пользователя\n",
    "print(np.percentile(ordersByUsers['orders'], [95, 99]))"
   ]
  },
  {
   "cell_type": "markdown",
   "metadata": {},
   "source": [
    "Не более 5% клиентов заказывали более двух раз.   \n",
    "Не более 1% клиентов оформляли больше чем 4 заказов.   \n",
    "Принимаем __2 заказа__ за нижнюю границу чтобы отсеять аномальных пользователей по количеству заказов."
   ]
  },
  {
   "cell_type": "code",
   "execution_count": 31,
   "metadata": {},
   "outputs": [],
   "source": [
    "# граница количества заказов аномальных пользователей\n",
    "order_number_limit = 2"
   ]
  },
  {
   "cell_type": "markdown",
   "metadata": {},
   "source": [
    "#### Стоимость заказов"
   ]
  },
  {
   "cell_type": "code",
   "execution_count": 32,
   "metadata": {},
   "outputs": [
    {
     "data": {
      "image/png": "[encoded data removed]",
      "text/plain": [
       "<Figure size 1152x576 with 1 Axes>"
      ]
     },
     "metadata": {
      "needs_background": "light"
     },
     "output_type": "display_data"
    }
   ],
   "source": [
    "# стоимость заказов \n",
    "x_values = pd.Series(range(0, len(orders['revenue'])))\n",
    "plt.scatter(x_values, orders['revenue'], color='red')\n",
    "\n",
    "# подписи данных\n",
    "plt.title('Стоимость заказов', **title_font)\n",
    "plt.xlabel('Заказы', **axis_font)\n",
    "plt.ylabel('Стоимость, руб.', **axis_font)\n",
    "\n",
    "# границы графика и сетка\n",
    "plt.grid(False)\n",
    "plt.grid(\n",
    "    color='lightgrey',\n",
    "    which='major',\n",
    "    axis='y',\n",
    "    linestyle='--'\n",
    ")\n",
    "plt.gca().spines['top'].set_visible(False)\n",
    "plt.gca().spines['right'].set_visible(False)\n",
    "\n",
    "plt.show()"
   ]
  },
  {
   "cell_type": "markdown",
   "metadata": {},
   "source": [
    "Основная часть заказов стоит до 20 000 руб. сделала только 1 заказ.   \n",
    "Более дорогие заказы — единичны.   \n",
    "Необходимо определить долю клиентов с дорогими заказами."
   ]
  },
  {
   "cell_type": "markdown",
   "metadata": {},
   "source": [
    "#### Граница стоимости аномальных заказов"
   ]
  },
  {
   "cell_type": "code",
   "execution_count": 33,
   "metadata": {},
   "outputs": [
    {
     "name": "stdout",
     "output_type": "stream",
     "text": [
      "[28000.  58233.2]\n"
     ]
    }
   ],
   "source": [
    "# 95-й и 99-й перцентили стоимости заказов\n",
    "print(np.percentile(orders['revenue'], [95, 99]))"
   ]
  },
  {
   "cell_type": "markdown",
   "metadata": {},
   "source": [
    "Не более 5% заказов дороже 28 000 руб. и не более 1% дороже 58 233 рублей.   \n",
    "С учетом того, что по графику основная часть заказов стоит до 20 000 руб., необходимо проверить 90-й перцентиль стоимости заказов."
   ]
  },
  {
   "cell_type": "code",
   "execution_count": 34,
   "metadata": {},
   "outputs": [
    {
     "name": "stdout",
     "output_type": "stream",
     "text": [
      "[18168.]\n"
     ]
    }
   ],
   "source": [
    "# 90-й перцентиль стоимости заказов\n",
    "print(np.percentile(orders['revenue'], [90]))"
   ]
  },
  {
   "cell_type": "markdown",
   "metadata": {},
   "source": [
    "Принимаем __18 200 руб.__ за нижнюю границу чтобы отсеять аномальных пользователей по стоимости заказов."
   ]
  },
  {
   "cell_type": "code",
   "execution_count": 35,
   "metadata": {},
   "outputs": [],
   "source": [
    "# граница стоимости заказов аномальных пользователей\n",
    "order_revenue_limit = 18200"
   ]
  },
  {
   "cell_type": "markdown",
   "metadata": {},
   "source": [
    "### Очистка данных от аномальных клиентов"
   ]
  },
  {
   "cell_type": "code",
   "execution_count": 36,
   "metadata": {},
   "outputs": [
    {
     "data": {
      "text/plain": [
       "568     113298937\n",
       "1099    148427295\n",
       "461     154576532\n",
       "18      199603092\n",
       "928     204675465\n",
       "dtype: int64"
      ]
     },
     "execution_count": 36,
     "metadata": {},
     "output_type": "execute_result"
    }
   ],
   "source": [
    "# выборка клиентов выше границы количества заказов\n",
    "usersWithManyOrders = pd.concat([\n",
    "    ordersByUsersA[ordersByUsersA['orders'] > order_number_limit]['userId'],\n",
    "    ordersByUsersB[ordersByUsersB['orders'] > order_number_limit]['userId']\n",
    "], axis = 0)\n",
    "\n",
    "# выборка клиентов выше границы стоимости заказов\n",
    "usersWithExpensiveOrders = orders[orders['revenue'] > order_revenue_limit]['visitorId']\n",
    "\n",
    "# свод аномальных клиентов\n",
    "abnormalUsers = pd.concat(\n",
    "    [usersWithManyOrders, usersWithExpensiveOrders], \n",
    "    axis = 0\n",
    ").drop_duplicates().sort_values()\n",
    "abnormalUsers.head()"
   ]
  },
  {
   "cell_type": "markdown",
   "metadata": {},
   "source": [
    "<div class=\"alert alert-block alert-success\">\n",
    "<b>Комментарии от ревьюера:</b>\n",
    "\n",
    "На данном этапе всё верно\n",
    "</div>\n",
    "    \n",
    "---"
   ]
  },
  {
   "cell_type": "markdown",
   "metadata": {},
   "source": [
    "## Расчет статистической значимости\n",
    "<a id = \"stat\"></a>"
   ]
  },
  {
   "cell_type": "markdown",
   "metadata": {},
   "source": [
    "Для дальнейших расчетов принимаем уровень статистической значимости 0.05, так как это локальное маркетинговое исследование."
   ]
  },
  {
   "cell_type": "code",
   "execution_count": 38,
   "metadata": {},
   "outputs": [],
   "source": [
    "# критический уровень статистической значимости\n",
    "alpha = .05 "
   ]
  },
  {
   "cell_type": "markdown",
   "metadata": {},
   "source": [
    "___"
   ]
  },
  {
   "cell_type": "markdown",
   "metadata": {},
   "source": [
    "В данных есть выбросы, которые нельзя игнорировать — они существенно влияют на результат при только двух выборках (А и В).   \n",
    "Скорее всего распределение стоимостей заказов не нормально, но необходимо проверить взяты ли выборки из нормально распределённой генеральной совокупности:\n",
    "- Если распределение нормально — проверять статистическую значимость увеличения доли заказов от посещений по сравнению средних двух совокупностей ЦПТ.\n",
    "- Если распределение не нормально — применять непараметрический тест Уилкоксона-Манна-Уитни."
   ]
  },
  {
   "cell_type": "markdown",
   "metadata": {},
   "source": [
    "#### Проверка нормального распределения данных о продажах по критерию Шапиро-Уилка\n",
    "- Нулевая гипотеза: распределение нормально.\n",
    "- Альтернативная гипотеза: распределение не нормально."
   ]
  },
  {
   "cell_type": "code",
   "execution_count": 39,
   "metadata": {},
   "outputs": [
    {
     "name": "stdout",
     "output_type": "stream",
     "text": [
      "p-значение:  0.0\n",
      "Отвергаем нулевую гипотезу: распределение стоимостей не нормально\n"
     ]
    }
   ],
   "source": [
    "# критический уровень статистической значимости\n",
    "alpha = .05\n",
    "\n",
    "# проверка нормального распределения\n",
    "results = st.shapiro(orders['revenue'])\n",
    "p_value = results[1]\n",
    "\n",
    "\n",
    "print('p-значение: ', p_value)\n",
    "if (p_value < alpha):\n",
    "    print(\"Отвергаем нулевую гипотезу: распределение стоимостей не нормально\")\n",
    "else:\n",
    "    print(\"Не получилось отвергнуть нулевую гипотезу: распределение стоимостей нормально\")"
   ]
  },
  {
   "cell_type": "markdown",
   "metadata": {},
   "source": [
    "<div class=\"alert alert-block alert-success\">\n",
    "<b>Комментарии от ревьюера:</b>\n",
    "\n",
    "Формулировка гипотез корректная, результат верный\n",
    "</div>\n",
    "    \n",
    "---"
   ]
  },
  {
   "cell_type": "markdown",
   "metadata": {},
   "source": [
    "Распределение стоимостей покупок в выборке не нормально.    \n",
    "__Далее необходимо применять непараметрический тест Уилкоксона-Манна-Уитни.__"
   ]
  },
  {
   "cell_type": "markdown",
   "metadata": {},
   "source": [
    "### Статистическая значимость различий по «сырым» данным"
   ]
  },
  {
   "cell_type": "code",
   "execution_count": 40,
   "metadata": {},
   "outputs": [],
   "source": [
    "# подготовка выборки к проверке критерием Манна-Уитни - заполнение нулями клиентов без заказаов\n",
    "sampleA = pd.concat(\n",
    "    [ordersByUsersA['orders'],\n",
    "     pd.Series(0, index=np.arange(data['visitorsPerDateA'].sum() - len(ordersByUsersA['orders'])), name='orders')],\n",
    "    axis=0)\n",
    "\n",
    "sampleB = pd.concat(\n",
    "    [ordersByUsersB['orders'],\n",
    "     pd.Series(0, index=np.arange(data['visitorsPerDateB'].sum() - len(ordersByUsersB['orders'])), name='orders')],\n",
    "    axis=0)"
   ]
  },
  {
   "cell_type": "markdown",
   "metadata": {},
   "source": [
    "#### Конверсия"
   ]
  },
  {
   "cell_type": "code",
   "execution_count": 41,
   "metadata": {},
   "outputs": [
    {
     "name": "stdout",
     "output_type": "stream",
     "text": [
      "Относительный прирост конверсии группы В относительно группы А по «сырым» данным: 13.8%\n",
      "p-value: 0.0084\n",
      "Есть статистическое различие. Изменение конверсии скорее возникло из-за нововведений на сайте.\n"
     ]
    }
   ],
   "source": [
    "# относительный прирост конверсии группы В относительно группы А по сырым данным\n",
    "conversion_relative = ((data['ordersPerDateB'].sum() / data['visitorsPerDateB'].sum()) / \n",
    "    (data['ordersPerDateA'].sum()/data['visitorsPerDateA'].sum()) - 1)\n",
    "\n",
    "# статистическая значимость прироста конверсии группы В относительно группы А по сырым данным\n",
    "p_value_conversion = st.mannwhitneyu(sampleA, sampleB)[1]\n",
    "\n",
    "print('Относительный прирост конверсии группы В относительно группы А по «сырым» данным: {0:.1%}'.format(conversion_relative))\n",
    "print('p-value: {0:.4f}'.format(p_value_conversion))\n",
    "\n",
    "if (p_value_conversion < alpha):\n",
    "    print('Есть статистическое различие. Изменение конверсии скорее возникло из-за нововведений на сайте.')\n",
    "else:\n",
    "    print('Нет статистического различия. Изменение конверсии могло возникнуть без учета нововведений на сайте.')"
   ]
  },
  {
   "cell_type": "markdown",
   "metadata": {},
   "source": [
    "- Относительный прирост конверсии группы В к группе А: 13.8%.\n",
    "- p-value меньше 0,05 — между группами есть статистическое различие в конверсии."
   ]
  },
  {
   "cell_type": "markdown",
   "metadata": {},
   "source": [
    "#### Средний чек"
   ]
  },
  {
   "cell_type": "code",
   "execution_count": 43,
   "metadata": {},
   "outputs": [
    {
     "name": "stdout",
     "output_type": "stream",
     "text": [
      "Относительный прирост среднего чека в группе В относительно группы А по «сырым» данным: 25.9%\n",
      "p-value: 0.3646\n",
      "Нет статистического различия. Изменение среднего чека могло возникнуть без учета нововведений на сайте.\n"
     ]
    }
   ],
   "source": [
    "# относительный прирост среднего чека в группе В относительно группы А по сырым данным\n",
    "order_avg_relative = (orders[orders['group']=='B']['revenue'].mean() / \n",
    "                      orders[orders['group']=='A']['revenue'].mean() - 1)\n",
    "\n",
    "# статистическая значимость прироста среднего чека в группе В относительно группы А по сырым данным\n",
    "p_value_order_avg_relative = st.mannwhitneyu(\n",
    "    orders[orders['group']=='A']['revenue'],\n",
    "    orders[orders['group']=='B']['revenue']\n",
    ")[1]\n",
    "\n",
    "print('Относительный прирост среднего чека в группе В относительно группы А \\\n",
    "по «сырым» данным: {0:.1%}'.format(order_avg_relative))\n",
    "print('p-value: {0:.4f}'.format(p_value_order_avg_relative))\n",
    "\n",
    "if (p_value_order_avg_relative < alpha):\n",
    "    print('Есть статистическое различие. Изменение среднего чека скорее возникло из-за нововведений на сайте.')\n",
    "else:\n",
    "    print('Нет статистического различия. Изменение среднего чека могло возникнуть без учета нововведений на сайте.')"
   ]
  },
  {
   "cell_type": "markdown",
   "metadata": {},
   "source": [
    "- Относительный прирост среднего чека в группе В относительно группы А: 25.9%. \n",
    "- При этом, p-value больше 0,05 — по «сырым» данным между группами нет статистического различия в среднем чеку. Рост среднего чека мог произойти не из-за внедрения новой гипотезы.   \n",
    "__Необходимо исключить влияние аномалий и проверить статистическую значимость.__"
   ]
  },
  {
   "cell_type": "markdown",
   "metadata": {},
   "source": [
    "### Статистическая значимость различий по «очищенным» данным"
   ]
  },
  {
   "cell_type": "code",
   "execution_count": 44,
   "metadata": {},
   "outputs": [],
   "source": [
    "# очистка от аномалий и подготовка выборки к проверке критерием Манна-Уитни\n",
    "sampleAFiltered = pd.concat(\n",
    "    [ordersByUsersA[np.logical_not(ordersByUsersA['userId'].isin(abnormalUsers))]['orders'],\n",
    "     pd.Series(0, index=np.arange(data['visitorsPerDateA'].sum() - len(ordersByUsersA['orders'])), name='orders')],\n",
    "    axis=0)\n",
    "\n",
    "sampleBFiltered = pd.concat(\n",
    "    [ordersByUsersB[np.logical_not(ordersByUsersB['userId'].isin(abnormalUsers))]['orders'],\n",
    "     pd.Series(0, index=np.arange(data['visitorsPerDateB'].sum() - len(ordersByUsersB['orders'])), name='orders')],\n",
    "    axis=0)"
   ]
  },
  {
   "cell_type": "markdown",
   "metadata": {},
   "source": [
    "#### Конверсия"
   ]
  },
  {
   "cell_type": "code",
   "execution_count": 45,
   "metadata": {},
   "outputs": [
    {
     "name": "stdout",
     "output_type": "stream",
     "text": [
      "Относительный прирост конверсии группы В относительно группы А по «очищенным» данным: 17.2%\n",
      "p-value: 0.0096\n",
      "Есть статистическое различие. Изменение конверсии скорее возникло из-за нововведений на сайте.\n"
     ]
    }
   ],
   "source": [
    "# относительный прирост конверсии группы В относительно группы А по очищенным данным\n",
    "conversion_relative_filtered = sampleBFiltered.mean() / sampleAFiltered.mean() - 1\n",
    "\n",
    "# статистическая значимость прироста конверсии группы В относительно группы А по очищенным данным\n",
    "p_value_conversion_filtered = st.mannwhitneyu(sampleAFiltered, sampleBFiltered)[1]\n",
    "\n",
    "print('Относительный прирост конверсии группы В относительно группы А \\\n",
    "по «очищенным» данным: {0:.1%}'.format(conversion_relative_filtered))\n",
    "print('p-value: {0:.4f}'.format(p_value_conversion_filtered))\n",
    "\n",
    "if (p_value_conversion_filtered < alpha):\n",
    "    print('Есть статистическое различие. Изменение конверсии скорее возникло из-за нововведений на сайте.')\n",
    "else:\n",
    "    print('Нет статистического различия. Изменение конверсии могло возникнуть без учета нововведений на сайте.')"
   ]
  },
  {
   "cell_type": "markdown",
   "metadata": {},
   "source": [
    "- Относительный прирост конверсии группы В к группе А по «очищенным» данным 17.2 выше, чем по «сырым». Вероятно, исключенные покупатели много раз заходили на сайт перед покупкой и их исключение изменило показатели конверсии.\n",
    "- p-value также меньше 0,05 — между группами есть статистическое различие в конверсии."
   ]
  },
  {
   "cell_type": "markdown",
   "metadata": {},
   "source": [
    "#### Средний чек"
   ]
  },
  {
   "cell_type": "code",
   "execution_count": 46,
   "metadata": {},
   "outputs": [
    {
     "name": "stdout",
     "output_type": "stream",
     "text": [
      "Относительный прирост среднего чека в группе В относительно группы А по «очищенным» данным: -4.9%\n",
      "p-value: 0.3095\n",
      "Нет статистического различия. Изменение среднего чека могло возникнуть без учета нововведений на сайте.\n"
     ]
    }
   ],
   "source": [
    "# относительный прирост среднего чека в группе В относительно группы А по очищенным данным\n",
    "order_avg_relative_filtered = (orders[np.logical_and(\n",
    "        orders['group']=='B',\n",
    "        np.logical_not(orders['visitorId'].isin(abnormalUsers)))]['revenue'].mean() / \n",
    "    orders[np.logical_and(\n",
    "        orders['group']=='A',\n",
    "        np.logical_not(orders['visitorId'].isin(abnormalUsers)))]['revenue'].mean() - 1)\n",
    "\n",
    "# статистическая значимость различия средних чеков после удаления аномальных пользователей\n",
    "p_value_order_avg_relative_filtered = st.mannwhitneyu(\n",
    "    orders[np.logical_and(\n",
    "        orders['group']=='A',\n",
    "        np.logical_not(orders['visitorId'].isin(abnormalUsers)))]['revenue'],\n",
    "    orders[np.logical_and(\n",
    "        orders['group']=='B',\n",
    "        np.logical_not(orders['visitorId'].isin(abnormalUsers)))]['revenue']\n",
    ")[1]\n",
    "\n",
    "print('Относительный прирост среднего чека в группе В относительно группы А \\\n",
    "по «очищенным» данным: {0:.1%}'.format(order_avg_relative_filtered))\n",
    "print('p-value: {0:.4f}'.format(p_value_order_avg_relative_filtered))\n",
    "\n",
    "if (p_value_order_avg_relative_filtered < alpha):\n",
    "    print('Есть статистическое различие. Изменение среднего чека скорее возникло из-за нововведений на сайте.')\n",
    "else:\n",
    "    print('Нет статистического различия. Изменение среднего чека могло возникнуть без учета нововведений на сайте.')"
   ]
  },
  {
   "cell_type": "markdown",
   "metadata": {},
   "source": [
    "- Без исключенных покупателей, результаты группы В оказываются хуже, чем у группы А. Вероятно, как раз за счет аномальных покупателей средний чек группы В оказался больше А, но стремился вниз к своему истинному значению.\n",
    "- При этом, p-value больше 0,05 — по «очищенным» данным между группами нет статистического различия в среднем чеке."
   ]
  },
  {
   "cell_type": "markdown",
   "metadata": {},
   "source": [
    "<div class=\"alert alert-block alert-success\">\n",
    "<b>Комментарии от ревьюера:</b>\n",
    "\n",
    "Проверка гипотез проведена верно. Выводы относительно полученных данных - логичны. Так держать!\n",
    "</div>\n",
    "    \n",
    "---"
   ]
  },
  {
   "cell_type": "markdown",
   "metadata": {},
   "source": [
    "## Решение по результатам теста\n",
    "<a id = \"conclusion\"></a>"
   ]
  },
  {
   "cell_type": "code",
   "execution_count": 47,
   "metadata": {},
   "outputs": [
    {
     "data": {
      "text/plain": [
       "37652"
      ]
     },
     "execution_count": 47,
     "metadata": {},
     "output_type": "execute_result"
    }
   ],
   "source": [
    "# общее количество посещений\n",
    "visitors.groupby('group')['visitors'].sum().sum()"
   ]
  },
  {
   "cell_type": "markdown",
   "metadata": {},
   "source": [
    "- Согласно калькулятору, необходимый размер теста конверсии — 57000 посещений (https://www.optimizely.com/sample-size-calculator/?conversion=3&effect=10&significance=95)\n",
    "- Общее количество посещений в тесте 37652.   \n",
    "__Необходимо корректно выбирать размер теста при проведении последующих тестов.__"
   ]
  },
  {
   "cell_type": "markdown",
   "metadata": {},
   "source": [
    "___"
   ]
  },
  {
   "cell_type": "markdown",
   "metadata": {},
   "source": [
    "__Гипотезы:__   \n",
    "- В общем плане\n",
    "    - Гипотезы 7 и 0 остаются в тройке лидеров независимо от фреймворка ICE или RICE.\n",
    "    - Гипотеза 7 имеет больший охват, чем гипотеза 0. Гипотеза 7 требует немного меньше трудозатрат, чем гипотеза 0.\n",
    "    - Рекомендуется первой проверить гипотезу 7.\n",
    "- В разрезе задания\n",
    "    - В данном проекте далее будет проверятся конверсия и продажи. Это может говорить, что принята гипотеза, нацеленная на увеличение именно этих метрик, а не на охват и расширение базы клиентов (гипотезы 0 и 7).\n",
    "    - Вероятно, что по логике задания была принята гипотеза 8: Запустить акцию, дающую скидку на товар в день рождения.\n",
    "\n",
    "__А/В тест:__\n",
    "- Выручка\n",
    "    - Выручка по группам растет параллельно примерно до середины теста, после чего в группу В попадает аномальный заказ. С ним группа В опережает А по выручке на __ руб.\n",
    "- Средний чек\n",
    "    - Стоимость 90% заказов не превышает 18,2 тыс. руб. \n",
    "    - По сырым данным, средний чек по группам первую половину теста колеблется, после чего по группе А выравнивается около 7000 руб. По группе В после скачка до 10000 руб. за счет аномальной покупки в середине теста, он стремится вниз к своему истиному среднему.\n",
    "    - График различия среднего чека колеблется. К концу теста нельзя сказать, что он установился около какго-то значения.\n",
    "    - __По очищенным данным, средний чек группы В меньше на 5%, чем в группе А.__\n",
    "    - __Нет статистически значимого различия по среднему чеку между группами как по сырым данным, так и по очищенным. Средний чек мог измениться без учета нововведений.__\n",
    "- Конверсия\n",
    "    - Тренды кумулятивной конверсии по группам в начале теста колеблются. После половины теста графики стабилизировались около значений:\n",
    "        - А: 3,4%\n",
    "        - В: 3,0% \n",
    "    - По различию конверсии между группами, результаты группы B лучше группы A. У гурппы В есть рост, который после половины теста фиксируется около среднего значения 10%.\n",
    "    - Есть статистически значимое различие по конверсии между группами как по сырым данным, так и после фильтрации аномалий.\n",
    "\n",
    "\n",
    "__Рекомендации:__\n",
    "- Остановить тест. \n",
    "- Зафиксировать:\n",
    "    - Конверсия - успешный. В группе В посетители совершили больше покупок.\n",
    "    - Средний чек - не успешный. В группе В посетители совершали более дешевые покупки. Но нет статистического различия на это от внедрения гипотезы 8: скидка на ДР.\n",
    "- Перейти к проверке следующей гипотезы.\n",
    "- При необходимости проверить гипотезу по среднему чеку текущий тест продолжать нельзя. Необходимо определить новые параметры и длительность теста и повторить его."
   ]
  },
  {
   "cell_type": "markdown",
   "metadata": {},
   "source": []
  }
 ],
 "metadata": {
  "kernelspec": {
   "display_name": "Python 3",
   "language": "python",
   "name": "python3"
  },
  "language_info": {
   "codemirror_mode": {
    "name": "ipython",
    "version": 3
   },
   "file_extension": ".py",
   "mimetype": "text/x-python",
   "name": "python",
   "nbconvert_exporter": "python",
   "pygments_lexer": "ipython3",
   "version": "3.7.8"
  }
 },
 "nbformat": 4,
 "nbformat_minor": 2
}
