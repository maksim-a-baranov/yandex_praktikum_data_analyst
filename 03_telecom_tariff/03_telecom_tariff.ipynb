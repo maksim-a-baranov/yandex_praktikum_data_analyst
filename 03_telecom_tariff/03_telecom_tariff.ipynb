{
 "cells": [
  {
   "cell_type": "markdown",
   "metadata": {},
   "source": [
    "# Определение перспективного тарифа для телеком компании"
   ]
  },
  {
   "cell_type": "markdown",
   "metadata": {},
   "source": [
    "Компания «Мегалайн» — федеральный оператор сотовой связи.  \n",
    "Клиентам предлагают два тарифных плана: «Смарт» и «Ультра». \n",
    "Чтобы скорректировать рекламный бюджет, коммерческий департамент хочет понять, какой тариф приносит больше денег. Необходимо сделать предварительный анализ тарифов на небольшой выборке клиентов. \n",
    "В распоряжении данные 500 пользователей «Мегалайна»: кто они, откуда, каким тарифом пользуются, сколько звонков и сообщений каждый отправил за 2018 год. \n",
    "Нужно проанализировать поведение клиентов и сделать вывод — какой тариф лучше."
   ]
  },
  {
   "cell_type": "markdown",
   "metadata": {},
   "source": [
    "## Содержание\n",
    "\n",
    "- Описание данных\n",
    "- Импорт библиотек и общая предустановка\n",
    "- Общее изучение данных\n",
    "- Подготовка данных\n",
    "- Анализ данных\n",
    "- Проверка гипотез\n",
    "- Общий вывод"
   ]
  },
  {
   "cell_type": "markdown",
   "metadata": {},
   "source": [
    "## Описание данных"
   ]
  },
  {
   "cell_type": "markdown",
   "metadata": {},
   "source": [
    "__Таблица users (информация о пользователях)__\n",
    "- user_id — уникальный идентификатор пользователя\n",
    "- first_name — имя пользователя\n",
    "- last_name — фамилия пользователя\n",
    "- age — возраст пользователя (годы)\n",
    "- reg_date — дата подключения тарифа (день, месяц, год)\n",
    "- churn_date — дата прекращения пользования тарифом (если значение пропущено, то тариф ещё действовал на момент выгрузки данных)\n",
    "- city — город проживания пользователя\n",
    "- tariff — название тарифного плана\n",
    "\n",
    "__Таблица calls (информация о звонках)__\n",
    "- id — уникальный номер звонка\n",
    "- call_date — дата звонка\n",
    "- duration — длительность звонка в минутах\n",
    "- user_id — идентификатор пользователя, сделавшего звонок\n",
    "\n",
    "__Таблица messages (информация о сообщениях)__\n",
    "- id — уникальный номер сообщения\n",
    "- message_date — дата сообщения\n",
    "- user_id — идентификатор пользователя, отправившего сообщение\n",
    "\n",
    "__Таблица internet (информация об интернет-сессиях)__\n",
    "- id — уникальный номер сессии\n",
    "- mb_used — объём потраченного за сессию интернет-трафика (в мегабайтах)\n",
    "- session_date — дата интернет-сессии\n",
    "- user_id — идентификатор пользователя\n",
    "\n",
    "__Таблица tariffs (информация о тарифах)__\n",
    "- tariff_name — название тарифа\n",
    "- rub_monthly_fee — ежемесячная абонентская плата в рублях\n",
    "- minutes_included — количество минут разговора в месяц, включённых в абонентскую плату\n",
    "- messages_included — количество сообщений в месяц, включённых в абонентскую плату\n",
    "- mb_per_month_included — объём интернет-трафика, включённого в абонентскую плату (в мегабайтах)\n",
    "- rub_per_minute — стоимость минуты разговора сверх тарифного пакета (например, если в тарифе 100 минут разговора в месяц, то со 101 минуты будет взиматься плата)\n",
    "- rub_per_message — стоимость отправки сообщения сверх тарифного пакета\n",
    "- rub_per_gb — стоимость дополнительного гигабайта интернет-трафика сверх тарифного пакета (1 гигабайт = 1024 мегабайта)"
   ]
  },
  {
   "cell_type": "markdown",
   "metadata": {},
   "source": [
    "<font color='green'>Молодец, что в начале работы коротко описываешь наши данные и обрисовываешь цели. Хороший план - уже пол дела. В таком виде работа смотрится цельно и её смогу оценить не только я, но и посторонний человек, в том числе потенциальный работодатель."
   ]
  },
  {
   "cell_type": "markdown",
   "metadata": {},
   "source": [
    "## Импорт библиотек и глобальная предустановка"
   ]
  },
  {
   "cell_type": "code",
   "execution_count": 1,
   "metadata": {},
   "outputs": [],
   "source": [
    "import pandas as pd\n",
    "import numpy as np\n",
    "from scipy import stats as st\n",
    "import matplotlib.pyplot as plt\n",
    "import seaborn as sns\n",
    "import warnings\n",
    "\n",
    "# отключение предупреждений Anaconda\n",
    "warnings.simplefilter('ignore')\n",
    "\n",
    "# размер графиков по умолчанию\n",
    "from pylab import rcParams\n",
    "rcParams['figure.figsize'] = 9, 6\n",
    "\n",
    "# цветовая палитра\n",
    "colors = ['#ff9999','#66b3ff','#99ff99','#ffcc99']\n",
    "\n",
    "# отображение одного знака после запятой\n",
    "pd.options.display.float_format = '{:,.1f}'.format"
   ]
  },
  {
   "cell_type": "markdown",
   "metadata": {},
   "source": [
    "## 1. Общее изучение данных"
   ]
  },
  {
   "cell_type": "code",
   "execution_count": 2,
   "metadata": {},
   "outputs": [],
   "source": [
    "# открытие файлов\n",
    "users = pd.read_csv('/datasets/users.csv')\n",
    "calls = pd.read_csv('/datasets/calls.csv')\n",
    "internet = pd.read_csv('/datasets/internet.csv', index_col=0)\n",
    "messages = pd.read_csv('/datasets/messages.csv')\n",
    "tariffs = pd.read_csv('/datasets/tariffs.csv')"
   ]
  },
  {
   "cell_type": "markdown",
   "metadata": {},
   "source": [
    "___"
   ]
  },
  {
   "cell_type": "code",
   "execution_count": 3,
   "metadata": {
    "scrolled": true
   },
   "outputs": [
    {
     "name": "stdout",
     "output_type": "stream",
     "text": [
      "Проверка состава датафрейма users\n",
      "\n",
      "<class 'pandas.core.frame.DataFrame'>\n",
      "RangeIndex: 500 entries, 0 to 499\n",
      "Data columns (total 8 columns):\n",
      "user_id       500 non-null int64\n",
      "age           500 non-null int64\n",
      "churn_date    38 non-null object\n",
      "city          500 non-null object\n",
      "first_name    500 non-null object\n",
      "last_name     500 non-null object\n",
      "reg_date      500 non-null object\n",
      "tariff        500 non-null object\n",
      "dtypes: int64(2), object(6)\n",
      "memory usage: 31.4+ KB\n",
      "None\n",
      "___________\n",
      "\n",
      "\n",
      "Проверка состава датафрейма calls\n",
      "\n",
      "<class 'pandas.core.frame.DataFrame'>\n",
      "RangeIndex: 202607 entries, 0 to 202606\n",
      "Data columns (total 4 columns):\n",
      "id           202607 non-null object\n",
      "call_date    202607 non-null object\n",
      "duration     202607 non-null float64\n",
      "user_id      202607 non-null int64\n",
      "dtypes: float64(1), int64(1), object(2)\n",
      "memory usage: 6.2+ MB\n",
      "None\n",
      "___________\n",
      "\n",
      "\n",
      "Проверка состава датафрейма internet\n",
      "\n",
      "<class 'pandas.core.frame.DataFrame'>\n",
      "Int64Index: 149396 entries, 0 to 149395\n",
      "Data columns (total 4 columns):\n",
      "id              149396 non-null object\n",
      "mb_used         149396 non-null float64\n",
      "session_date    149396 non-null object\n",
      "user_id         149396 non-null int64\n",
      "dtypes: float64(1), int64(1), object(2)\n",
      "memory usage: 5.7+ MB\n",
      "None\n",
      "___________\n",
      "\n",
      "\n",
      "Проверка состава датафрейма messages\n",
      "\n",
      "<class 'pandas.core.frame.DataFrame'>\n",
      "RangeIndex: 123036 entries, 0 to 123035\n",
      "Data columns (total 3 columns):\n",
      "id              123036 non-null object\n",
      "message_date    123036 non-null object\n",
      "user_id         123036 non-null int64\n",
      "dtypes: int64(1), object(2)\n",
      "memory usage: 2.8+ MB\n",
      "None\n",
      "___________\n",
      "\n",
      "\n",
      "Проверка состава датафрейма tariffs\n",
      "\n",
      "<class 'pandas.core.frame.DataFrame'>\n",
      "RangeIndex: 2 entries, 0 to 1\n",
      "Data columns (total 8 columns):\n",
      "messages_included        2 non-null int64\n",
      "mb_per_month_included    2 non-null int64\n",
      "minutes_included         2 non-null int64\n",
      "rub_monthly_fee          2 non-null int64\n",
      "rub_per_gb               2 non-null int64\n",
      "rub_per_message          2 non-null int64\n",
      "rub_per_minute           2 non-null int64\n",
      "tariff_name              2 non-null object\n",
      "dtypes: int64(7), object(1)\n",
      "memory usage: 256.0+ bytes\n",
      "None\n",
      "___________\n",
      "\n",
      "\n"
     ]
    }
   ],
   "source": [
    "# общая проверка состава датафреймов\n",
    "df_temp = [[users, 'users'],\n",
    "          [calls, 'calls'],\n",
    "          [internet, 'internet'],\n",
    "          [messages, 'messages'],\n",
    "         [tariffs,'tariffs']\n",
    "         ]\n",
    "\n",
    "for df in df_temp:\n",
    "    print('Проверка состава датафрейма', df[1])\n",
    "    print()\n",
    "    print(df[0].info())\n",
    "    print('___________')\n",
    "    print()\n",
    "    print()"
   ]
  },
  {
   "cell_type": "markdown",
   "metadata": {},
   "source": [
    "Большинство датафреймов выгружены без пропусков данных. Пропуски в датафрейме __users__ в колонке __churn_date__ объясняются тем, что записи в принципе не заносятся пока клиент не сменил тариф."
   ]
  },
  {
   "cell_type": "markdown",
   "metadata": {},
   "source": [
    "___"
   ]
  },
  {
   "cell_type": "code",
   "execution_count": 4,
   "metadata": {},
   "outputs": [
    {
     "data": {
      "text/html": [
       "<div>\n",
       "<style scoped>\n",
       "    .dataframe tbody tr th:only-of-type {\n",
       "        vertical-align: middle;\n",
       "    }\n",
       "\n",
       "    .dataframe tbody tr th {\n",
       "        vertical-align: top;\n",
       "    }\n",
       "\n",
       "    .dataframe thead th {\n",
       "        text-align: right;\n",
       "    }\n",
       "</style>\n",
       "<table border=\"1\" class=\"dataframe\">\n",
       "  <thead>\n",
       "    <tr style=\"text-align: right;\">\n",
       "      <th></th>\n",
       "      <th>user_id</th>\n",
       "      <th>age</th>\n",
       "      <th>churn_date</th>\n",
       "      <th>city</th>\n",
       "      <th>first_name</th>\n",
       "      <th>last_name</th>\n",
       "      <th>reg_date</th>\n",
       "      <th>tariff</th>\n",
       "    </tr>\n",
       "  </thead>\n",
       "  <tbody>\n",
       "    <tr>\n",
       "      <td>115</td>\n",
       "      <td>1115</td>\n",
       "      <td>71</td>\n",
       "      <td>NaN</td>\n",
       "      <td>Москва</td>\n",
       "      <td>Рашид</td>\n",
       "      <td>Толкачев</td>\n",
       "      <td>2018-07-28</td>\n",
       "      <td>smart</td>\n",
       "    </tr>\n",
       "    <tr>\n",
       "      <td>221</td>\n",
       "      <td>1221</td>\n",
       "      <td>40</td>\n",
       "      <td>NaN</td>\n",
       "      <td>Белгород</td>\n",
       "      <td>Джемма</td>\n",
       "      <td>Сафонова</td>\n",
       "      <td>2018-06-03</td>\n",
       "      <td>smart</td>\n",
       "    </tr>\n",
       "    <tr>\n",
       "      <td>23</td>\n",
       "      <td>1023</td>\n",
       "      <td>42</td>\n",
       "      <td>NaN</td>\n",
       "      <td>Томск</td>\n",
       "      <td>Людмила</td>\n",
       "      <td>Мельникова</td>\n",
       "      <td>2018-10-22</td>\n",
       "      <td>smart</td>\n",
       "    </tr>\n",
       "    <tr>\n",
       "      <td>263</td>\n",
       "      <td>1263</td>\n",
       "      <td>32</td>\n",
       "      <td>NaN</td>\n",
       "      <td>Балашиха</td>\n",
       "      <td>Ермолай</td>\n",
       "      <td>Зайцев</td>\n",
       "      <td>2018-04-30</td>\n",
       "      <td>smart</td>\n",
       "    </tr>\n",
       "    <tr>\n",
       "      <td>295</td>\n",
       "      <td>1295</td>\n",
       "      <td>19</td>\n",
       "      <td>NaN</td>\n",
       "      <td>Краснодар</td>\n",
       "      <td>Олеся</td>\n",
       "      <td>Зимина</td>\n",
       "      <td>2018-09-19</td>\n",
       "      <td>smart</td>\n",
       "    </tr>\n",
       "  </tbody>\n",
       "</table>\n",
       "</div>"
      ],
      "text/plain": [
       "     user_id  age churn_date       city first_name   last_name    reg_date  \\\n",
       "115     1115   71        NaN     Москва      Рашид    Толкачев  2018-07-28   \n",
       "221     1221   40        NaN   Белгород     Джемма    Сафонова  2018-06-03   \n",
       "23      1023   42        NaN      Томск    Людмила  Мельникова  2018-10-22   \n",
       "263     1263   32        NaN   Балашиха    Ермолай      Зайцев  2018-04-30   \n",
       "295     1295   19        NaN  Краснодар      Олеся      Зимина  2018-09-19   \n",
       "\n",
       "    tariff  \n",
       "115  smart  \n",
       "221  smart  \n",
       "23   smart  \n",
       "263  smart  \n",
       "295  smart  "
      ]
     },
     "execution_count": 4,
     "metadata": {},
     "output_type": "execute_result"
    }
   ],
   "source": [
    "users.sample(5)"
   ]
  },
  {
   "cell_type": "markdown",
   "metadata": {},
   "source": [
    "В датафрейме __users__ в столбцах __churn_date__, __reg_date__ требуется перевести даты в корректный тип данных."
   ]
  },
  {
   "cell_type": "code",
   "execution_count": 5,
   "metadata": {},
   "outputs": [
    {
     "data": {
      "text/html": [
       "<div>\n",
       "<style scoped>\n",
       "    .dataframe tbody tr th:only-of-type {\n",
       "        vertical-align: middle;\n",
       "    }\n",
       "\n",
       "    .dataframe tbody tr th {\n",
       "        vertical-align: top;\n",
       "    }\n",
       "\n",
       "    .dataframe thead th {\n",
       "        text-align: right;\n",
       "    }\n",
       "</style>\n",
       "<table border=\"1\" class=\"dataframe\">\n",
       "  <thead>\n",
       "    <tr style=\"text-align: right;\">\n",
       "      <th></th>\n",
       "      <th>id</th>\n",
       "      <th>call_date</th>\n",
       "      <th>duration</th>\n",
       "      <th>user_id</th>\n",
       "    </tr>\n",
       "  </thead>\n",
       "  <tbody>\n",
       "    <tr>\n",
       "      <td>130830</td>\n",
       "      <td>1335_307</td>\n",
       "      <td>2018-08-25</td>\n",
       "      <td>13.7</td>\n",
       "      <td>1335</td>\n",
       "    </tr>\n",
       "    <tr>\n",
       "      <td>135514</td>\n",
       "      <td>1346_64</td>\n",
       "      <td>2018-11-28</td>\n",
       "      <td>2.2</td>\n",
       "      <td>1346</td>\n",
       "    </tr>\n",
       "    <tr>\n",
       "      <td>89282</td>\n",
       "      <td>1224_199</td>\n",
       "      <td>2018-06-04</td>\n",
       "      <td>0.0</td>\n",
       "      <td>1224</td>\n",
       "    </tr>\n",
       "    <tr>\n",
       "      <td>65524</td>\n",
       "      <td>1168_675</td>\n",
       "      <td>2018-11-25</td>\n",
       "      <td>0.0</td>\n",
       "      <td>1168</td>\n",
       "    </tr>\n",
       "    <tr>\n",
       "      <td>196670</td>\n",
       "      <td>1482_37</td>\n",
       "      <td>2018-11-02</td>\n",
       "      <td>0.0</td>\n",
       "      <td>1482</td>\n",
       "    </tr>\n",
       "  </tbody>\n",
       "</table>\n",
       "</div>"
      ],
      "text/plain": [
       "              id   call_date  duration  user_id\n",
       "130830  1335_307  2018-08-25      13.7     1335\n",
       "135514   1346_64  2018-11-28       2.2     1346\n",
       "89282   1224_199  2018-06-04       0.0     1224\n",
       "65524   1168_675  2018-11-25       0.0     1168\n",
       "196670   1482_37  2018-11-02       0.0     1482"
      ]
     },
     "execution_count": 5,
     "metadata": {},
     "output_type": "execute_result"
    }
   ],
   "source": [
    "calls.sample(5)"
   ]
  },
  {
   "cell_type": "markdown",
   "metadata": {},
   "source": [
    "В столбцах __call_date__ требуется перевести даты в корректный тип данных."
   ]
  },
  {
   "cell_type": "code",
   "execution_count": 6,
   "metadata": {},
   "outputs": [
    {
     "data": {
      "text/html": [
       "<div>\n",
       "<style scoped>\n",
       "    .dataframe tbody tr th:only-of-type {\n",
       "        vertical-align: middle;\n",
       "    }\n",
       "\n",
       "    .dataframe tbody tr th {\n",
       "        vertical-align: top;\n",
       "    }\n",
       "\n",
       "    .dataframe thead th {\n",
       "        text-align: right;\n",
       "    }\n",
       "</style>\n",
       "<table border=\"1\" class=\"dataframe\">\n",
       "  <thead>\n",
       "    <tr style=\"text-align: right;\">\n",
       "      <th></th>\n",
       "      <th>id</th>\n",
       "      <th>mb_used</th>\n",
       "      <th>session_date</th>\n",
       "      <th>user_id</th>\n",
       "    </tr>\n",
       "  </thead>\n",
       "  <tbody>\n",
       "    <tr>\n",
       "      <td>119393</td>\n",
       "      <td>1402_428</td>\n",
       "      <td>890.6</td>\n",
       "      <td>2018-07-17</td>\n",
       "      <td>1402</td>\n",
       "    </tr>\n",
       "    <tr>\n",
       "      <td>128099</td>\n",
       "      <td>1429_257</td>\n",
       "      <td>249.1</td>\n",
       "      <td>2018-05-31</td>\n",
       "      <td>1429</td>\n",
       "    </tr>\n",
       "    <tr>\n",
       "      <td>107919</td>\n",
       "      <td>1368_5</td>\n",
       "      <td>264.2</td>\n",
       "      <td>2018-12-15</td>\n",
       "      <td>1368</td>\n",
       "    </tr>\n",
       "    <tr>\n",
       "      <td>53499</td>\n",
       "      <td>1179_361</td>\n",
       "      <td>14.0</td>\n",
       "      <td>2018-08-15</td>\n",
       "      <td>1179</td>\n",
       "    </tr>\n",
       "    <tr>\n",
       "      <td>12975</td>\n",
       "      <td>1045_151</td>\n",
       "      <td>408.9</td>\n",
       "      <td>2018-08-07</td>\n",
       "      <td>1045</td>\n",
       "    </tr>\n",
       "  </tbody>\n",
       "</table>\n",
       "</div>"
      ],
      "text/plain": [
       "              id  mb_used session_date  user_id\n",
       "119393  1402_428    890.6   2018-07-17     1402\n",
       "128099  1429_257    249.1   2018-05-31     1429\n",
       "107919    1368_5    264.2   2018-12-15     1368\n",
       "53499   1179_361     14.0   2018-08-15     1179\n",
       "12975   1045_151    408.9   2018-08-07     1045"
      ]
     },
     "execution_count": 6,
     "metadata": {},
     "output_type": "execute_result"
    }
   ],
   "source": [
    "internet.sample(5)"
   ]
  },
  {
   "cell_type": "markdown",
   "metadata": {},
   "source": [
    "В столбцах __session_date__ требуется перевести даты в корректный тип данных."
   ]
  },
  {
   "cell_type": "code",
   "execution_count": 7,
   "metadata": {},
   "outputs": [
    {
     "data": {
      "text/html": [
       "<div>\n",
       "<style scoped>\n",
       "    .dataframe tbody tr th:only-of-type {\n",
       "        vertical-align: middle;\n",
       "    }\n",
       "\n",
       "    .dataframe tbody tr th {\n",
       "        vertical-align: top;\n",
       "    }\n",
       "\n",
       "    .dataframe thead th {\n",
       "        text-align: right;\n",
       "    }\n",
       "</style>\n",
       "<table border=\"1\" class=\"dataframe\">\n",
       "  <thead>\n",
       "    <tr style=\"text-align: right;\">\n",
       "      <th></th>\n",
       "      <th>id</th>\n",
       "      <th>message_date</th>\n",
       "      <th>user_id</th>\n",
       "    </tr>\n",
       "  </thead>\n",
       "  <tbody>\n",
       "    <tr>\n",
       "      <td>31316</td>\n",
       "      <td>1137_6</td>\n",
       "      <td>2018-12-04</td>\n",
       "      <td>1137</td>\n",
       "    </tr>\n",
       "    <tr>\n",
       "      <td>70998</td>\n",
       "      <td>1300_750</td>\n",
       "      <td>2018-10-08</td>\n",
       "      <td>1300</td>\n",
       "    </tr>\n",
       "    <tr>\n",
       "      <td>100547</td>\n",
       "      <td>1411_383</td>\n",
       "      <td>2018-09-28</td>\n",
       "      <td>1411</td>\n",
       "    </tr>\n",
       "    <tr>\n",
       "      <td>69410</td>\n",
       "      <td>1296_152</td>\n",
       "      <td>2018-09-14</td>\n",
       "      <td>1296</td>\n",
       "    </tr>\n",
       "    <tr>\n",
       "      <td>96432</td>\n",
       "      <td>1396_83</td>\n",
       "      <td>2018-12-07</td>\n",
       "      <td>1396</td>\n",
       "    </tr>\n",
       "  </tbody>\n",
       "</table>\n",
       "</div>"
      ],
      "text/plain": [
       "              id message_date  user_id\n",
       "31316     1137_6   2018-12-04     1137\n",
       "70998   1300_750   2018-10-08     1300\n",
       "100547  1411_383   2018-09-28     1411\n",
       "69410   1296_152   2018-09-14     1296\n",
       "96432    1396_83   2018-12-07     1396"
      ]
     },
     "execution_count": 7,
     "metadata": {},
     "output_type": "execute_result"
    }
   ],
   "source": [
    "messages.sample(5)"
   ]
  },
  {
   "cell_type": "markdown",
   "metadata": {},
   "source": [
    "В столбцах __message_date__ требуется перевести даты в корректный тип данных.\n"
   ]
  },
  {
   "cell_type": "code",
   "execution_count": 8,
   "metadata": {},
   "outputs": [
    {
     "data": {
      "text/html": [
       "<div>\n",
       "<style scoped>\n",
       "    .dataframe tbody tr th:only-of-type {\n",
       "        vertical-align: middle;\n",
       "    }\n",
       "\n",
       "    .dataframe tbody tr th {\n",
       "        vertical-align: top;\n",
       "    }\n",
       "\n",
       "    .dataframe thead th {\n",
       "        text-align: right;\n",
       "    }\n",
       "</style>\n",
       "<table border=\"1\" class=\"dataframe\">\n",
       "  <thead>\n",
       "    <tr style=\"text-align: right;\">\n",
       "      <th></th>\n",
       "      <th>messages_included</th>\n",
       "      <th>mb_per_month_included</th>\n",
       "      <th>minutes_included</th>\n",
       "      <th>rub_monthly_fee</th>\n",
       "      <th>rub_per_gb</th>\n",
       "      <th>rub_per_message</th>\n",
       "      <th>rub_per_minute</th>\n",
       "      <th>tariff_name</th>\n",
       "    </tr>\n",
       "  </thead>\n",
       "  <tbody>\n",
       "    <tr>\n",
       "      <td>0</td>\n",
       "      <td>50</td>\n",
       "      <td>15360</td>\n",
       "      <td>500</td>\n",
       "      <td>550</td>\n",
       "      <td>200</td>\n",
       "      <td>3</td>\n",
       "      <td>3</td>\n",
       "      <td>smart</td>\n",
       "    </tr>\n",
       "    <tr>\n",
       "      <td>1</td>\n",
       "      <td>1000</td>\n",
       "      <td>30720</td>\n",
       "      <td>3000</td>\n",
       "      <td>1950</td>\n",
       "      <td>150</td>\n",
       "      <td>1</td>\n",
       "      <td>1</td>\n",
       "      <td>ultra</td>\n",
       "    </tr>\n",
       "  </tbody>\n",
       "</table>\n",
       "</div>"
      ],
      "text/plain": [
       "   messages_included  mb_per_month_included  minutes_included  \\\n",
       "0                 50                  15360               500   \n",
       "1               1000                  30720              3000   \n",
       "\n",
       "   rub_monthly_fee  rub_per_gb  rub_per_message  rub_per_minute tariff_name  \n",
       "0              550         200                3               3       smart  \n",
       "1             1950         150                1               1       ultra  "
      ]
     },
     "execution_count": 8,
     "metadata": {},
     "output_type": "execute_result"
    }
   ],
   "source": [
    "tariffs"
   ]
  },
  {
   "cell_type": "markdown",
   "metadata": {},
   "source": [
    "Дополнительные действия по датафрейму не нужны."
   ]
  },
  {
   "cell_type": "markdown",
   "metadata": {},
   "source": [
    "### Вывод\n",
    "- В полученных данных содержится информация о потребленных услугах 500 клиентов оператора сотовой связи в 2018 году.\n",
    "- Требуется преобразование типа данных в столбцах с датой.\n",
    "- Пропуски в датафрейме __users__ в колонке __churn_date__ объясняются тем, что клиент продолжает пользоваться тарифом и запись не заносилась.\n",
    "- Для расчета выручки необходимо округлить длительность звонков и интернет-трафик (детали и предпосылки приведены в разделе ниже). \n",
    "- Столбцы __id__ не несут дополнительной смысловой нагрузки."
   ]
  },
  {
   "cell_type": "markdown",
   "metadata": {},
   "source": [
    "## 2. Подготовка данных"
   ]
  },
  {
   "cell_type": "markdown",
   "metadata": {},
   "source": [
    "### Преобразование дат и формирование столбцов с месяцами"
   ]
  },
  {
   "cell_type": "code",
   "execution_count": 9,
   "metadata": {},
   "outputs": [],
   "source": [
    "# преобразование дат\n",
    "users[['churn_date', 'reg_date']] = users[['churn_date', 'reg_date']].apply(pd.to_datetime, format='%Y-%m-%d')\n",
    "calls['call_date'] = pd.to_datetime(calls['call_date'], format='%Y-%m-%d')\n",
    "internet['session_date'] = pd.to_datetime(internet['session_date'], format='%Y-%m-%d')\n",
    "messages['message_date'] = pd.to_datetime(messages['message_date'], format='%Y-%m-%d')"
   ]
  },
  {
   "cell_type": "code",
   "execution_count": 10,
   "metadata": {},
   "outputs": [],
   "source": [
    "# выделение месяца в отдельный столбец\n",
    "calls['month'] = calls['call_date'].values.astype('datetime64[M]')\n",
    "internet['month'] = internet['session_date'].values.astype('datetime64[M]')\n",
    "messages['month'] = messages['message_date'].values.astype('datetime64[M]')"
   ]
  },
  {
   "cell_type": "markdown",
   "metadata": {},
   "source": [
    "### Проверка данных на ошибки"
   ]
  },
  {
   "cell_type": "markdown",
   "metadata": {},
   "source": [
    "#### Нулевая длительность звонков"
   ]
  },
  {
   "cell_type": "code",
   "execution_count": 11,
   "metadata": {},
   "outputs": [
    {
     "data": {
      "text/plain": [
       "count   202,607.0\n",
       "mean          6.8\n",
       "std           5.8\n",
       "min           0.0\n",
       "25%           1.3\n",
       "50%           6.0\n",
       "75%          10.7\n",
       "max          38.0\n",
       "Name: duration, dtype: float64"
      ]
     },
     "execution_count": 11,
     "metadata": {},
     "output_type": "execute_result"
    }
   ],
   "source": [
    "calls['duration'].describe()"
   ]
  },
  {
   "cell_type": "code",
   "execution_count": 12,
   "metadata": {},
   "outputs": [
    {
     "data": {
      "text/plain": [
       "0.19551644316336553"
      ]
     },
     "execution_count": 12,
     "metadata": {},
     "output_type": "execute_result"
    }
   ],
   "source": [
    "# проверка нулевых значений столбца \n",
    "len(calls.query('duration == 0')) / len(calls)"
   ]
  },
  {
   "cell_type": "code",
   "execution_count": 13,
   "metadata": {},
   "outputs": [
    {
     "data": {
      "text/plain": [
       "0.9996609521035639"
      ]
     },
     "execution_count": 13,
     "metadata": {},
     "output_type": "execute_result"
    }
   ],
   "source": [
    "# проверка корреляции количества звонков с нулевой длительностью с общим количеством звонков в месяц\n",
    "calls_null = calls.query('duration == 0').groupby(by='month')['month'].count()\n",
    "calls_all = calls.groupby(by='month')['month'].count()\n",
    "calls_null.corr(calls_all)"
   ]
  },
  {
   "cell_type": "markdown",
   "metadata": {},
   "source": [
    "Корреляция звонков с нулевой длительностью от общего числа звонков равна почти 1 — эффект системный. Звонки с нулевой длительностью вероятнее всего означают неотвеченные исходящие вызовы. Заполнение не требуется. "
   ]
  },
  {
   "cell_type": "markdown",
   "metadata": {},
   "source": [
    "#### Нулевой объем интернет-сессий"
   ]
  },
  {
   "cell_type": "code",
   "execution_count": 14,
   "metadata": {},
   "outputs": [
    {
     "data": {
      "text/plain": [
       "count   149,396.0\n",
       "mean        370.2\n",
       "std         278.3\n",
       "min           0.0\n",
       "25%         138.2\n",
       "50%         348.0\n",
       "75%         559.6\n",
       "max       1,724.8\n",
       "Name: mb_used, dtype: float64"
      ]
     },
     "execution_count": 14,
     "metadata": {},
     "output_type": "execute_result"
    }
   ],
   "source": [
    "internet['mb_used'].describe()"
   ]
  },
  {
   "cell_type": "code",
   "execution_count": 15,
   "metadata": {},
   "outputs": [
    {
     "data": {
      "text/plain": [
       "0.13118155773916304"
      ]
     },
     "execution_count": 15,
     "metadata": {},
     "output_type": "execute_result"
    }
   ],
   "source": [
    "# проверка нулевых значений столбца \n",
    "len(internet.query('mb_used == 0')) / len(internet)"
   ]
  },
  {
   "cell_type": "code",
   "execution_count": 16,
   "metadata": {},
   "outputs": [
    {
     "data": {
      "text/plain": [
       "0.99953236784443"
      ]
     },
     "execution_count": 16,
     "metadata": {},
     "output_type": "execute_result"
    }
   ],
   "source": [
    "# проверка корреляции количества интернет сессий с нулевым объемом с общим количеством интернет-сессий в месяц\n",
    "internet_null = internet.query('mb_used == 0').groupby(by='month')['month'].count()\n",
    "internet_all = internet.groupby(by='month')['month'].count()\n",
    "internet_null.corr(internet_all)"
   ]
  },
  {
   "cell_type": "markdown",
   "metadata": {},
   "source": [
    "Корреляция интернет-сессий с нулевым объемом от общего числа интернет-сессий в месяц равна почти 1 — эффект системный. Заполнение не требуется. "
   ]
  },
  {
   "cell_type": "markdown",
   "metadata": {},
   "source": [
    "### Округление длительности звонков и интернет-сессий\n",
    "\n",
    "Предпосылки округления:\n",
    "- Тарификация исходящих вызовов поминутная, т.е. округляются в большую сторону до минуты (условие задачи).\n",
    "- Интернет трафик округляется в большую сторону с точностью до 1 Мб (условие задачи)."
   ]
  },
  {
   "cell_type": "code",
   "execution_count": 17,
   "metadata": {},
   "outputs": [],
   "source": [
    "# округление звонков\n",
    "calls['duration_rounded'] = calls['duration'].apply(lambda x: 1 if x == 0 else np.ceil(x)).astype('int')"
   ]
  },
  {
   "cell_type": "code",
   "execution_count": 18,
   "metadata": {},
   "outputs": [],
   "source": [
    "# округление интернет-сессий\n",
    "internet['mb_used_rounded'] = internet['mb_used'].apply(lambda x: 1 if x == 0 else np.ceil(x)).astype('int')"
   ]
  },
  {
   "cell_type": "markdown",
   "metadata": {},
   "source": [
    "### Формирование рабочей таблицы"
   ]
  },
  {
   "cell_type": "code",
   "execution_count": 19,
   "metadata": {},
   "outputs": [],
   "source": [
    "# определение диапазона месяцов\n",
    "min_month = users['reg_date'].min()\n",
    "max_month = users['reg_date'].max()\n",
    "\n",
    "# создание временной таблицы диапазона месяцов для последующего объединения\n",
    "temp_month = pd.DataFrame(pd.date_range(min_month,max_month,freq='MS'))\n",
    "temp_month.columns = ['month']\n",
    "temp_month['key'] = 1"
   ]
  },
  {
   "cell_type": "code",
   "execution_count": 20,
   "metadata": {},
   "outputs": [],
   "source": [
    "# создание временной таблицы клиентов для последующего объединения\n",
    "temp_users = pd.DataFrame(users[['user_id', 'city', 'tariff']])\n",
    "# добавление признака региона\n",
    "temp_users['region'] = temp_users['city'].where(temp_users['city'] == 'Москва', 'не-Москва')\n",
    "temp_users['key'] = 1"
   ]
  },
  {
   "cell_type": "code",
   "execution_count": 21,
   "metadata": {},
   "outputs": [],
   "source": [
    "# объединение таблиц\n",
    "report = temp_users.merge(temp_month,on='key')\n",
    "# удаление временного столбца\n",
    "report = report.drop(['key'], axis=1)"
   ]
  },
  {
   "cell_type": "code",
   "execution_count": 22,
   "metadata": {},
   "outputs": [],
   "source": [
    "# количество сделанных звонков и израсходованных минут разговора по месяцам\n",
    "calls_per_month = calls.groupby(['user_id','month'])['duration_rounded'].agg(['count', 'sum']).reset_index()\n",
    "calls_per_month.columns = ['user_id','month', 'calls_per_month', 'calls_month_duration_minutes']"
   ]
  },
  {
   "cell_type": "code",
   "execution_count": 23,
   "metadata": {},
   "outputs": [],
   "source": [
    "# объединение таблиц\n",
    "report = report.merge(calls_per_month,how='left',on=['user_id','month'])"
   ]
  },
  {
   "cell_type": "code",
   "execution_count": 24,
   "metadata": {},
   "outputs": [],
   "source": [
    "# расчет количества отправленных сообщений по месяцам\n",
    "messages_per_month = messages.groupby(['user_id','month'])['id'].count().reset_index()\n",
    "messages_per_month.columns = ['user_id','month', 'messages_per_month']"
   ]
  },
  {
   "cell_type": "code",
   "execution_count": 25,
   "metadata": {},
   "outputs": [],
   "source": [
    "# объединение таблиц\n",
    "report = report.merge(messages_per_month,how='left',on=['user_id','month'])"
   ]
  },
  {
   "cell_type": "code",
   "execution_count": 26,
   "metadata": {},
   "outputs": [],
   "source": [
    "# объем израсходованного интернет-трафика по месяцам\n",
    "internet_per_month = internet.groupby(['user_id','month'])['mb_used_rounded'].sum().reset_index()\n",
    "internet_per_month.columns = ['user_id','month', 'internet_per_month_mb']"
   ]
  },
  {
   "cell_type": "code",
   "execution_count": 27,
   "metadata": {},
   "outputs": [],
   "source": [
    "# объединение таблиц\n",
    "report = report.merge(internet_per_month,how='left',on=['user_id','month'])"
   ]
  },
  {
   "cell_type": "code",
   "execution_count": 28,
   "metadata": {},
   "outputs": [],
   "source": [
    "# удаление нулевых строк за месяцы, когда клиенты не были абонентами\n",
    "report = report.query('calls_month_duration_minutes.notna() or messages_per_month.notna() or internet_per_month_mb.notna()')"
   ]
  },
  {
   "cell_type": "markdown",
   "metadata": {},
   "source": [
    "### Расчет месячной выручки с каждого пользователя \n",
    "Предпосылки расчета:\n",
    "- Из месячного суммарного количества звонков, сообщений и интернет-трафика вычитается бесплатный лимит.\n",
    "- Остаток умножается на значение из соответствующего тарифного плана.\n",
    "- Добавляется абонентская плата за месяц из соответствующего тарифного плана. Пропущенный или неотвеченный звонок, открытая интернет-сессия являются актами пользования услугами сети и основанием для начисления абонентской платы за месяц (реальные условия тарифных планов МТС)."
   ]
  },
  {
   "cell_type": "code",
   "execution_count": 29,
   "metadata": {},
   "outputs": [
    {
     "data": {
      "text/html": [
       "<div>\n",
       "<style scoped>\n",
       "    .dataframe tbody tr th:only-of-type {\n",
       "        vertical-align: middle;\n",
       "    }\n",
       "\n",
       "    .dataframe tbody tr th {\n",
       "        vertical-align: top;\n",
       "    }\n",
       "\n",
       "    .dataframe thead th {\n",
       "        text-align: right;\n",
       "    }\n",
       "</style>\n",
       "<table border=\"1\" class=\"dataframe\">\n",
       "  <thead>\n",
       "    <tr style=\"text-align: right;\">\n",
       "      <th></th>\n",
       "      <th>user_id</th>\n",
       "      <th>city</th>\n",
       "      <th>tariff</th>\n",
       "      <th>region</th>\n",
       "      <th>month</th>\n",
       "      <th>calls_per_month</th>\n",
       "      <th>calls_month_duration_minutes</th>\n",
       "      <th>messages_per_month</th>\n",
       "      <th>internet_per_month_mb</th>\n",
       "    </tr>\n",
       "  </thead>\n",
       "  <tbody>\n",
       "    <tr>\n",
       "      <td>4</td>\n",
       "      <td>1000</td>\n",
       "      <td>Краснодар</td>\n",
       "      <td>ultra</td>\n",
       "      <td>не-Москва</td>\n",
       "      <td>2018-05-01</td>\n",
       "      <td>22.0</td>\n",
       "      <td>164.0</td>\n",
       "      <td>22.0</td>\n",
       "      <td>2,257.0</td>\n",
       "    </tr>\n",
       "    <tr>\n",
       "      <td>5</td>\n",
       "      <td>1000</td>\n",
       "      <td>Краснодар</td>\n",
       "      <td>ultra</td>\n",
       "      <td>не-Москва</td>\n",
       "      <td>2018-06-01</td>\n",
       "      <td>43.0</td>\n",
       "      <td>187.0</td>\n",
       "      <td>60.0</td>\n",
       "      <td>23,262.0</td>\n",
       "    </tr>\n",
       "    <tr>\n",
       "      <td>6</td>\n",
       "      <td>1000</td>\n",
       "      <td>Краснодар</td>\n",
       "      <td>ultra</td>\n",
       "      <td>не-Москва</td>\n",
       "      <td>2018-07-01</td>\n",
       "      <td>47.0</td>\n",
       "      <td>346.0</td>\n",
       "      <td>75.0</td>\n",
       "      <td>14,017.0</td>\n",
       "    </tr>\n",
       "    <tr>\n",
       "      <td>7</td>\n",
       "      <td>1000</td>\n",
       "      <td>Краснодар</td>\n",
       "      <td>ultra</td>\n",
       "      <td>не-Москва</td>\n",
       "      <td>2018-08-01</td>\n",
       "      <td>52.0</td>\n",
       "      <td>418.0</td>\n",
       "      <td>81.0</td>\n",
       "      <td>14,072.0</td>\n",
       "    </tr>\n",
       "    <tr>\n",
       "      <td>8</td>\n",
       "      <td>1000</td>\n",
       "      <td>Краснодар</td>\n",
       "      <td>ultra</td>\n",
       "      <td>не-Москва</td>\n",
       "      <td>2018-09-01</td>\n",
       "      <td>58.0</td>\n",
       "      <td>478.0</td>\n",
       "      <td>57.0</td>\n",
       "      <td>14,583.0</td>\n",
       "    </tr>\n",
       "    <tr>\n",
       "      <td>...</td>\n",
       "      <td>...</td>\n",
       "      <td>...</td>\n",
       "      <td>...</td>\n",
       "      <td>...</td>\n",
       "      <td>...</td>\n",
       "      <td>...</td>\n",
       "      <td>...</td>\n",
       "      <td>...</td>\n",
       "      <td>...</td>\n",
       "    </tr>\n",
       "    <tr>\n",
       "      <td>5985</td>\n",
       "      <td>1498</td>\n",
       "      <td>Владикавказ</td>\n",
       "      <td>smart</td>\n",
       "      <td>не-Москва</td>\n",
       "      <td>2018-10-01</td>\n",
       "      <td>41.0</td>\n",
       "      <td>258.0</td>\n",
       "      <td>42.0</td>\n",
       "      <td>20,614.0</td>\n",
       "    </tr>\n",
       "    <tr>\n",
       "      <td>5996</td>\n",
       "      <td>1499</td>\n",
       "      <td>Пермь</td>\n",
       "      <td>smart</td>\n",
       "      <td>не-Москва</td>\n",
       "      <td>2018-09-01</td>\n",
       "      <td>9.0</td>\n",
       "      <td>71.0</td>\n",
       "      <td>11.0</td>\n",
       "      <td>1,849.0</td>\n",
       "    </tr>\n",
       "    <tr>\n",
       "      <td>5997</td>\n",
       "      <td>1499</td>\n",
       "      <td>Пермь</td>\n",
       "      <td>smart</td>\n",
       "      <td>не-Москва</td>\n",
       "      <td>2018-10-01</td>\n",
       "      <td>68.0</td>\n",
       "      <td>473.0</td>\n",
       "      <td>48.0</td>\n",
       "      <td>17,824.0</td>\n",
       "    </tr>\n",
       "    <tr>\n",
       "      <td>5998</td>\n",
       "      <td>1499</td>\n",
       "      <td>Пермь</td>\n",
       "      <td>smart</td>\n",
       "      <td>не-Москва</td>\n",
       "      <td>2018-11-01</td>\n",
       "      <td>74.0</td>\n",
       "      <td>624.0</td>\n",
       "      <td>59.0</td>\n",
       "      <td>17,994.0</td>\n",
       "    </tr>\n",
       "    <tr>\n",
       "      <td>5999</td>\n",
       "      <td>1499</td>\n",
       "      <td>Пермь</td>\n",
       "      <td>smart</td>\n",
       "      <td>не-Москва</td>\n",
       "      <td>2018-12-01</td>\n",
       "      <td>69.0</td>\n",
       "      <td>505.0</td>\n",
       "      <td>66.0</td>\n",
       "      <td>13,082.0</td>\n",
       "    </tr>\n",
       "  </tbody>\n",
       "</table>\n",
       "<p>3214 rows × 9 columns</p>\n",
       "</div>"
      ],
      "text/plain": [
       "      user_id         city tariff     region      month  calls_per_month  \\\n",
       "4        1000    Краснодар  ultra  не-Москва 2018-05-01             22.0   \n",
       "5        1000    Краснодар  ultra  не-Москва 2018-06-01             43.0   \n",
       "6        1000    Краснодар  ultra  не-Москва 2018-07-01             47.0   \n",
       "7        1000    Краснодар  ultra  не-Москва 2018-08-01             52.0   \n",
       "8        1000    Краснодар  ultra  не-Москва 2018-09-01             58.0   \n",
       "...       ...          ...    ...        ...        ...              ...   \n",
       "5985     1498  Владикавказ  smart  не-Москва 2018-10-01             41.0   \n",
       "5996     1499        Пермь  smart  не-Москва 2018-09-01              9.0   \n",
       "5997     1499        Пермь  smart  не-Москва 2018-10-01             68.0   \n",
       "5998     1499        Пермь  smart  не-Москва 2018-11-01             74.0   \n",
       "5999     1499        Пермь  smart  не-Москва 2018-12-01             69.0   \n",
       "\n",
       "      calls_month_duration_minutes  messages_per_month  internet_per_month_mb  \n",
       "4                            164.0                22.0                2,257.0  \n",
       "5                            187.0                60.0               23,262.0  \n",
       "6                            346.0                75.0               14,017.0  \n",
       "7                            418.0                81.0               14,072.0  \n",
       "8                            478.0                57.0               14,583.0  \n",
       "...                            ...                 ...                    ...  \n",
       "5985                         258.0                42.0               20,614.0  \n",
       "5996                          71.0                11.0                1,849.0  \n",
       "5997                         473.0                48.0               17,824.0  \n",
       "5998                         624.0                59.0               17,994.0  \n",
       "5999                         505.0                66.0               13,082.0  \n",
       "\n",
       "[3214 rows x 9 columns]"
      ]
     },
     "execution_count": 29,
     "metadata": {},
     "output_type": "execute_result"
    }
   ],
   "source": [
    "report"
   ]
  },
  {
   "cell_type": "code",
   "execution_count": 30,
   "metadata": {},
   "outputs": [],
   "source": [
    "# создание функции расчета месячной выручки от звонков\n",
    "def revenue_calls(tariff, calls_month_duration_minutes):\n",
    "    \n",
    "    # минуты звонков к оплате\n",
    "    minutes_to_pay = max(0,\n",
    "                         (calls_month_duration_minutes - \n",
    "                          tariffs.loc[tariffs['tariff_name'] == tariff, 'minutes_included'].values[0])\n",
    "                        )\n",
    "    \n",
    "    # тариф на звонки\n",
    "    rub_per_minute = tariffs.loc[tariffs['tariff_name'] == tariff, 'rub_per_minute'].values[0]      \n",
    "    \n",
    "    return minutes_to_pay * rub_per_minute  \n",
    "\n",
    "\n",
    "# расчет месячной выручки от звонков\n",
    "report['revenue_calls'] = report.apply(lambda x: revenue_calls(x.tariff,\n",
    "                                                        x.calls_month_duration_minutes), \n",
    "                                 axis=1)"
   ]
  },
  {
   "cell_type": "code",
   "execution_count": 31,
   "metadata": {},
   "outputs": [],
   "source": [
    "# создание функции расчета месячной выручки от сообщений\n",
    "def revenue_messages(tariff, messages_per_month):\n",
    "    \n",
    "    # количество сообщений к оплате\n",
    "    messages_to_pay = max(0,\n",
    "                          (messages_per_month - \n",
    "                           tariffs.loc[tariffs['tariff_name'] == tariff, 'messages_included'].values[0])\n",
    "                         )\n",
    "    \n",
    "    # тариф на сообщения\n",
    "    rub_per_message = tariffs.loc[tariffs['tariff_name'] == tariff, 'rub_per_message'].values[0]    \n",
    "    \n",
    "    return messages_to_pay * rub_per_message  \n",
    "\n",
    "\n",
    "# расчет месячной выручки от сообщений\n",
    "report['revenue_messages'] = report.apply(lambda x: revenue_messages(x.tariff,\n",
    "                                                                     x.messages_per_month),\n",
    "                                          axis=1)"
   ]
  },
  {
   "cell_type": "code",
   "execution_count": 32,
   "metadata": {},
   "outputs": [],
   "source": [
    "# создание функции расчета месячной выручки от интернет-трафика\n",
    "def revenue_internet(tariff, internet_per_month_mb):\n",
    "    \n",
    "    # объем интернет-трафика к оплате (1 Гб = 1024 Мб)\n",
    "    gb_to_pay = max(0,\n",
    "                    np.ceil((internet_per_month_mb - \n",
    "                     tariffs.loc[tariffs['tariff_name'] == tariff, 'mb_per_month_included'].values[0]) / 1024)\n",
    "                   )\n",
    "    \n",
    "    # тариф на интернет-трафик\n",
    "    rub_per_gb = tariffs.loc[tariffs['tariff_name'] == tariff, 'rub_per_gb'].values[0]  \n",
    "    \n",
    "    return gb_to_pay * rub_per_gb  \n",
    "\n",
    "\n",
    "# расчет месячной выручки от сообщений\n",
    "report['revenue_internet'] = report.apply(lambda x: revenue_internet(x.tariff,\n",
    "                                                                                 x.internet_per_month_mb),\n",
    "                                                axis=1)"
   ]
  },
  {
   "cell_type": "code",
   "execution_count": 33,
   "metadata": {},
   "outputs": [],
   "source": [
    "# создание функции расчета месячной выручки от абонентской платы\n",
    "def revenue_month_fee(tariff, \n",
    "                 calls_month_duration_minutes,\n",
    "                 messages_per_month,\n",
    "                 internet_per_month_mb):\n",
    "\n",
    "    if pd.notna(calls_month_duration_minutes) or pd.notna(messages_per_month) or pd.notna(internet_per_month_mb):\n",
    "        rub_monthly_fee = tariffs.loc[tariffs['tariff_name'] == tariff, 'rub_monthly_fee'].values[0]\n",
    "    else:\n",
    "        rub_monthly_fee = 0\n",
    "    \n",
    "    return rub_monthly_fee * 1.0  \n",
    "\n",
    "\n",
    "# расчет месячной выручки от абонентской платы\n",
    "report['revenue_month_fee'] = report.apply(lambda x: revenue_month_fee(x.tariff,\n",
    "                                                        x.calls_month_duration_minutes,\n",
    "                                                        x.messages_per_month, \n",
    "                                                        x.internet_per_month_mb), \n",
    "                                 axis=1)"
   ]
  },
  {
   "cell_type": "code",
   "execution_count": 34,
   "metadata": {},
   "outputs": [],
   "source": [
    "# расчет месячной выручки\n",
    "report['revenue'] = (report['revenue_calls']+\n",
    "                     report['revenue_messages']+\n",
    "                     report['revenue_internet']+\n",
    "                     report['revenue_month_fee']) * 1.0"
   ]
  },
  {
   "cell_type": "code",
   "execution_count": 35,
   "metadata": {},
   "outputs": [
    {
     "data": {
      "text/html": [
       "<div>\n",
       "<style scoped>\n",
       "    .dataframe tbody tr th:only-of-type {\n",
       "        vertical-align: middle;\n",
       "    }\n",
       "\n",
       "    .dataframe tbody tr th {\n",
       "        vertical-align: top;\n",
       "    }\n",
       "\n",
       "    .dataframe thead th {\n",
       "        text-align: right;\n",
       "    }\n",
       "</style>\n",
       "<table border=\"1\" class=\"dataframe\">\n",
       "  <thead>\n",
       "    <tr style=\"text-align: right;\">\n",
       "      <th></th>\n",
       "      <th>user_id</th>\n",
       "      <th>city</th>\n",
       "      <th>tariff</th>\n",
       "      <th>region</th>\n",
       "      <th>month</th>\n",
       "      <th>calls_per_month</th>\n",
       "      <th>calls_month_duration_minutes</th>\n",
       "      <th>messages_per_month</th>\n",
       "      <th>internet_per_month_mb</th>\n",
       "      <th>revenue_calls</th>\n",
       "      <th>revenue_messages</th>\n",
       "      <th>revenue_internet</th>\n",
       "      <th>revenue_month_fee</th>\n",
       "      <th>revenue</th>\n",
       "    </tr>\n",
       "  </thead>\n",
       "  <tbody>\n",
       "    <tr>\n",
       "      <td>4</td>\n",
       "      <td>1000</td>\n",
       "      <td>Краснодар</td>\n",
       "      <td>ultra</td>\n",
       "      <td>не-Москва</td>\n",
       "      <td>2018-05-01</td>\n",
       "      <td>22.0</td>\n",
       "      <td>164.0</td>\n",
       "      <td>22.0</td>\n",
       "      <td>2,257.0</td>\n",
       "      <td>0.0</td>\n",
       "      <td>0.0</td>\n",
       "      <td>0.0</td>\n",
       "      <td>1,950.0</td>\n",
       "      <td>1,950.0</td>\n",
       "    </tr>\n",
       "    <tr>\n",
       "      <td>5</td>\n",
       "      <td>1000</td>\n",
       "      <td>Краснодар</td>\n",
       "      <td>ultra</td>\n",
       "      <td>не-Москва</td>\n",
       "      <td>2018-06-01</td>\n",
       "      <td>43.0</td>\n",
       "      <td>187.0</td>\n",
       "      <td>60.0</td>\n",
       "      <td>23,262.0</td>\n",
       "      <td>0.0</td>\n",
       "      <td>0.0</td>\n",
       "      <td>0.0</td>\n",
       "      <td>1,950.0</td>\n",
       "      <td>1,950.0</td>\n",
       "    </tr>\n",
       "    <tr>\n",
       "      <td>6</td>\n",
       "      <td>1000</td>\n",
       "      <td>Краснодар</td>\n",
       "      <td>ultra</td>\n",
       "      <td>не-Москва</td>\n",
       "      <td>2018-07-01</td>\n",
       "      <td>47.0</td>\n",
       "      <td>346.0</td>\n",
       "      <td>75.0</td>\n",
       "      <td>14,017.0</td>\n",
       "      <td>0.0</td>\n",
       "      <td>0.0</td>\n",
       "      <td>0.0</td>\n",
       "      <td>1,950.0</td>\n",
       "      <td>1,950.0</td>\n",
       "    </tr>\n",
       "    <tr>\n",
       "      <td>7</td>\n",
       "      <td>1000</td>\n",
       "      <td>Краснодар</td>\n",
       "      <td>ultra</td>\n",
       "      <td>не-Москва</td>\n",
       "      <td>2018-08-01</td>\n",
       "      <td>52.0</td>\n",
       "      <td>418.0</td>\n",
       "      <td>81.0</td>\n",
       "      <td>14,072.0</td>\n",
       "      <td>0.0</td>\n",
       "      <td>0.0</td>\n",
       "      <td>0.0</td>\n",
       "      <td>1,950.0</td>\n",
       "      <td>1,950.0</td>\n",
       "    </tr>\n",
       "    <tr>\n",
       "      <td>8</td>\n",
       "      <td>1000</td>\n",
       "      <td>Краснодар</td>\n",
       "      <td>ultra</td>\n",
       "      <td>не-Москва</td>\n",
       "      <td>2018-09-01</td>\n",
       "      <td>58.0</td>\n",
       "      <td>478.0</td>\n",
       "      <td>57.0</td>\n",
       "      <td>14,583.0</td>\n",
       "      <td>0.0</td>\n",
       "      <td>0.0</td>\n",
       "      <td>0.0</td>\n",
       "      <td>1,950.0</td>\n",
       "      <td>1,950.0</td>\n",
       "    </tr>\n",
       "    <tr>\n",
       "      <td>...</td>\n",
       "      <td>...</td>\n",
       "      <td>...</td>\n",
       "      <td>...</td>\n",
       "      <td>...</td>\n",
       "      <td>...</td>\n",
       "      <td>...</td>\n",
       "      <td>...</td>\n",
       "      <td>...</td>\n",
       "      <td>...</td>\n",
       "      <td>...</td>\n",
       "      <td>...</td>\n",
       "      <td>...</td>\n",
       "      <td>...</td>\n",
       "      <td>...</td>\n",
       "    </tr>\n",
       "    <tr>\n",
       "      <td>5985</td>\n",
       "      <td>1498</td>\n",
       "      <td>Владикавказ</td>\n",
       "      <td>smart</td>\n",
       "      <td>не-Москва</td>\n",
       "      <td>2018-10-01</td>\n",
       "      <td>41.0</td>\n",
       "      <td>258.0</td>\n",
       "      <td>42.0</td>\n",
       "      <td>20,614.0</td>\n",
       "      <td>0.0</td>\n",
       "      <td>0.0</td>\n",
       "      <td>1,200.0</td>\n",
       "      <td>550.0</td>\n",
       "      <td>1,750.0</td>\n",
       "    </tr>\n",
       "    <tr>\n",
       "      <td>5996</td>\n",
       "      <td>1499</td>\n",
       "      <td>Пермь</td>\n",
       "      <td>smart</td>\n",
       "      <td>не-Москва</td>\n",
       "      <td>2018-09-01</td>\n",
       "      <td>9.0</td>\n",
       "      <td>71.0</td>\n",
       "      <td>11.0</td>\n",
       "      <td>1,849.0</td>\n",
       "      <td>0.0</td>\n",
       "      <td>0.0</td>\n",
       "      <td>0.0</td>\n",
       "      <td>550.0</td>\n",
       "      <td>550.0</td>\n",
       "    </tr>\n",
       "    <tr>\n",
       "      <td>5997</td>\n",
       "      <td>1499</td>\n",
       "      <td>Пермь</td>\n",
       "      <td>smart</td>\n",
       "      <td>не-Москва</td>\n",
       "      <td>2018-10-01</td>\n",
       "      <td>68.0</td>\n",
       "      <td>473.0</td>\n",
       "      <td>48.0</td>\n",
       "      <td>17,824.0</td>\n",
       "      <td>0.0</td>\n",
       "      <td>0.0</td>\n",
       "      <td>600.0</td>\n",
       "      <td>550.0</td>\n",
       "      <td>1,150.0</td>\n",
       "    </tr>\n",
       "    <tr>\n",
       "      <td>5998</td>\n",
       "      <td>1499</td>\n",
       "      <td>Пермь</td>\n",
       "      <td>smart</td>\n",
       "      <td>не-Москва</td>\n",
       "      <td>2018-11-01</td>\n",
       "      <td>74.0</td>\n",
       "      <td>624.0</td>\n",
       "      <td>59.0</td>\n",
       "      <td>17,994.0</td>\n",
       "      <td>372.0</td>\n",
       "      <td>27.0</td>\n",
       "      <td>600.0</td>\n",
       "      <td>550.0</td>\n",
       "      <td>1,549.0</td>\n",
       "    </tr>\n",
       "    <tr>\n",
       "      <td>5999</td>\n",
       "      <td>1499</td>\n",
       "      <td>Пермь</td>\n",
       "      <td>smart</td>\n",
       "      <td>не-Москва</td>\n",
       "      <td>2018-12-01</td>\n",
       "      <td>69.0</td>\n",
       "      <td>505.0</td>\n",
       "      <td>66.0</td>\n",
       "      <td>13,082.0</td>\n",
       "      <td>15.0</td>\n",
       "      <td>48.0</td>\n",
       "      <td>0.0</td>\n",
       "      <td>550.0</td>\n",
       "      <td>613.0</td>\n",
       "    </tr>\n",
       "  </tbody>\n",
       "</table>\n",
       "<p>3214 rows × 14 columns</p>\n",
       "</div>"
      ],
      "text/plain": [
       "      user_id         city tariff     region      month  calls_per_month  \\\n",
       "4        1000    Краснодар  ultra  не-Москва 2018-05-01             22.0   \n",
       "5        1000    Краснодар  ultra  не-Москва 2018-06-01             43.0   \n",
       "6        1000    Краснодар  ultra  не-Москва 2018-07-01             47.0   \n",
       "7        1000    Краснодар  ultra  не-Москва 2018-08-01             52.0   \n",
       "8        1000    Краснодар  ultra  не-Москва 2018-09-01             58.0   \n",
       "...       ...          ...    ...        ...        ...              ...   \n",
       "5985     1498  Владикавказ  smart  не-Москва 2018-10-01             41.0   \n",
       "5996     1499        Пермь  smart  не-Москва 2018-09-01              9.0   \n",
       "5997     1499        Пермь  smart  не-Москва 2018-10-01             68.0   \n",
       "5998     1499        Пермь  smart  не-Москва 2018-11-01             74.0   \n",
       "5999     1499        Пермь  smart  не-Москва 2018-12-01             69.0   \n",
       "\n",
       "      calls_month_duration_minutes  messages_per_month  internet_per_month_mb  \\\n",
       "4                            164.0                22.0                2,257.0   \n",
       "5                            187.0                60.0               23,262.0   \n",
       "6                            346.0                75.0               14,017.0   \n",
       "7                            418.0                81.0               14,072.0   \n",
       "8                            478.0                57.0               14,583.0   \n",
       "...                            ...                 ...                    ...   \n",
       "5985                         258.0                42.0               20,614.0   \n",
       "5996                          71.0                11.0                1,849.0   \n",
       "5997                         473.0                48.0               17,824.0   \n",
       "5998                         624.0                59.0               17,994.0   \n",
       "5999                         505.0                66.0               13,082.0   \n",
       "\n",
       "      revenue_calls  revenue_messages  revenue_internet  revenue_month_fee  \\\n",
       "4               0.0               0.0               0.0            1,950.0   \n",
       "5               0.0               0.0               0.0            1,950.0   \n",
       "6               0.0               0.0               0.0            1,950.0   \n",
       "7               0.0               0.0               0.0            1,950.0   \n",
       "8               0.0               0.0               0.0            1,950.0   \n",
       "...             ...               ...               ...                ...   \n",
       "5985            0.0               0.0           1,200.0              550.0   \n",
       "5996            0.0               0.0               0.0              550.0   \n",
       "5997            0.0               0.0             600.0              550.0   \n",
       "5998          372.0              27.0             600.0              550.0   \n",
       "5999           15.0              48.0               0.0              550.0   \n",
       "\n",
       "      revenue  \n",
       "4     1,950.0  \n",
       "5     1,950.0  \n",
       "6     1,950.0  \n",
       "7     1,950.0  \n",
       "8     1,950.0  \n",
       "...       ...  \n",
       "5985  1,750.0  \n",
       "5996    550.0  \n",
       "5997  1,150.0  \n",
       "5998  1,549.0  \n",
       "5999    613.0  \n",
       "\n",
       "[3214 rows x 14 columns]"
      ]
     },
     "execution_count": 35,
     "metadata": {},
     "output_type": "execute_result"
    }
   ],
   "source": [
    "report"
   ]
  },
  {
   "cell_type": "markdown",
   "metadata": {},
   "source": [
    "### Вывод\n",
    "- Типы данных в столбцах с датой изменены.\n",
    "- Заполнение нулевых значений длительности звонков и обема интернет-сессий не требуется.\n",
    "- Заполнение пропущенных значений в датафрейме __report__ нецелесообразно, т.к. они не влияют на расчет.\n",
    "- Таблица, необходимая для дальнейшего анализа сформирована."
   ]
  },
  {
   "cell_type": "markdown",
   "metadata": {},
   "source": [
    "## 3. Анализ данных"
   ]
  },
  {
   "cell_type": "code",
   "execution_count": 36,
   "metadata": {},
   "outputs": [],
   "source": [
    "# распределение клиентов по тарифам\n",
    "users_number = users.groupby(by='tariff')['tariff'].count()"
   ]
  },
  {
   "cell_type": "code",
   "execution_count": 37,
   "metadata": {},
   "outputs": [
    {
     "data": {
      "image/png": "[encoded data removed]",
      "text/plain": [
       "<Figure size 648x432 with 1 Axes>"
      ]
     },
     "metadata": {},
     "output_type": "display_data"
    }
   ],
   "source": [
    "# график распределения пользователей по тарифам\n",
    "fig1, ax1 = plt.subplots()\n",
    "patches, texts, autotexts = ax1.pie(users_number, colors = colors, autopct='%1.0f%%', startangle=90)\n",
    "for autotext in autotexts:\n",
    "    autotext.set_color('white')\n",
    "plt.tight_layout()\n",
    "plt.title('Распределение клиентов по тарифам')\n",
    "plt.legend(users_number.index, loc='upper right')\n",
    "plt.show()"
   ]
  },
  {
   "cell_type": "markdown",
   "metadata": {},
   "source": [
    "Распределение клиентов выборки по тарифам: smart — 70 %, ultra — 30 %."
   ]
  },
  {
   "cell_type": "markdown",
   "metadata": {},
   "source": [
    "___"
   ]
  },
  {
   "cell_type": "code",
   "execution_count": 38,
   "metadata": {},
   "outputs": [],
   "source": [
    "# параметры для анализа поведения клиентов оператора\n",
    "parameters = [['calls_per_month', 'Количество исходящих звонков в месяц', 'Звонки, шт.'],\n",
    "              ['calls_month_duration_minutes','Продолжительность исходящих звонков в месяц', 'Продолжительность, мин.'],\n",
    "              ['messages_per_month', 'Количество отправленных сообщений в месяц', 'Сообщения, шт.'],\n",
    "              ['internet_per_month_mb','Объем интернет-трафика в месяц', 'Объем, Гб']\n",
    "             ]\n",
    "\n",
    "# порядок анализа тарифов\n",
    "tariffs_order = ['smart','ultra']"
   ]
  },
  {
   "cell_type": "code",
   "execution_count": 39,
   "metadata": {
    "scrolled": false
   },
   "outputs": [
    {
     "name": "stdout",
     "output_type": "stream",
     "text": [
      "Параметр: Количество исходящих звонков в месяц\n"
     ]
    },
    {
     "data": {
      "image/png": "[encoded data removed]",
      "text/plain": [
       "<Figure size 648x432 with 1 Axes>"
      ]
     },
     "metadata": {
      "needs_background": "light"
     },
     "output_type": "display_data"
    },
    {
     "name": "stdout",
     "output_type": "stream",
     "text": [
      "\n"
     ]
    },
    {
     "data": {
      "image/png": "[encoded data removed]",
      "text/plain": [
       "<Figure size 648x432 with 1 Axes>"
      ]
     },
     "metadata": {
      "needs_background": "light"
     },
     "output_type": "display_data"
    },
    {
     "name": "stdout",
     "output_type": "stream",
     "text": [
      "\n",
      "Тариф: \"smart\"\n",
      "Параметр: Количество исходящих звонков в месяц\n",
      "\n",
      "Среднее значение: 58.6\n",
      "Дисперсия: 665.1\n",
      "Стандартное отклонение: 25.8\n",
      "\n",
      "count   2,223.0\n",
      "mean       58.6\n",
      "std        25.8\n",
      "min         1.0\n",
      "25%        40.0\n",
      "50%        60.0\n",
      "75%        76.0\n",
      "max       198.0\n",
      "Name: calls_per_month, dtype: float64\n",
      "\n",
      "\n",
      "Тариф: \"ultra\"\n",
      "Параметр: Количество исходящих звонков в месяц\n",
      "\n",
      "Среднее значение: 76.0\n",
      "Дисперсия: 1796.2\n",
      "Стандартное отклонение: 42.4\n",
      "\n",
      "count   951.0\n",
      "mean     76.0\n",
      "std      42.4\n",
      "min       1.0\n",
      "25%      43.0\n",
      "50%      75.0\n",
      "75%     105.0\n",
      "max     244.0\n",
      "Name: calls_per_month, dtype: float64\n",
      "\n",
      "\n",
      "--------------------\n",
      "\n",
      "\n",
      "Параметр: Продолжительность исходящих звонков в месяц\n"
     ]
    },
    {
     "data": {
      "image/png": "[encoded data removed]",
      "text/plain": [
       "<Figure size 648x432 with 1 Axes>"
      ]
     },
     "metadata": {
      "needs_background": "light"
     },
     "output_type": "display_data"
    },
    {
     "name": "stdout",
     "output_type": "stream",
     "text": [
      "\n"
     ]
    },
    {
     "data": {
      "image/png": "[encoded data removed]",
      "text/plain": [
       "<Figure size 648x432 with 1 Axes>"
      ]
     },
     "metadata": {
      "needs_background": "light"
     },
     "output_type": "display_data"
    },
    {
     "name": "stdout",
     "output_type": "stream",
     "text": [
      "\n",
      "Тариф: \"smart\"\n",
      "Параметр: Продолжительность исходящих звонков в месяц\n",
      "\n",
      "Среднее значение: 430.6\n",
      "Дисперсия: 37561.1\n",
      "Стандартное отклонение: 193.8\n",
      "\n",
      "count   2,223.0\n",
      "mean      430.6\n",
      "std       193.9\n",
      "min         1.0\n",
      "25%       292.0\n",
      "50%       435.0\n",
      "75%       561.0\n",
      "max     1,471.0\n",
      "Name: calls_month_duration_minutes, dtype: float64\n",
      "\n",
      "\n",
      "Тариф: \"ultra\"\n",
      "Параметр: Продолжительность исходящих звонков в месяц\n",
      "\n",
      "Среднее значение: 560.1\n",
      "Дисперсия: 98958.5\n",
      "Стандартное отклонение: 314.6\n",
      "\n",
      "count     951.0\n",
      "mean      560.1\n",
      "std       314.7\n",
      "min         1.0\n",
      "25%       318.0\n",
      "50%       544.0\n",
      "75%       776.5\n",
      "max     1,727.0\n",
      "Name: calls_month_duration_minutes, dtype: float64\n",
      "\n",
      "\n",
      "--------------------\n",
      "\n",
      "\n",
      "Параметр: Количество отправленных сообщений в месяц\n"
     ]
    },
    {
     "data": {
      "image/png": "[encoded data removed]",
      "text/plain": [
       "<Figure size 648x432 with 1 Axes>"
      ]
     },
     "metadata": {
      "needs_background": "light"
     },
     "output_type": "display_data"
    },
    {
     "name": "stdout",
     "output_type": "stream",
     "text": [
      "\n"
     ]
    },
    {
     "data": {
      "image/png": "[encoded data removed]",
      "text/plain": [
       "<Figure size 648x432 with 1 Axes>"
      ]
     },
     "metadata": {
      "needs_background": "light"
     },
     "output_type": "display_data"
    },
    {
     "name": "stdout",
     "output_type": "stream",
     "text": [
      "\n",
      "Тариф: \"smart\"\n",
      "Параметр: Количество отправленных сообщений в месяц\n",
      "\n",
      "Среднее значение: 38.7\n",
      "Дисперсия: 717.2\n",
      "Стандартное отклонение: 26.8\n",
      "\n",
      "count   1,922.0\n",
      "mean       38.7\n",
      "std        26.8\n",
      "min         1.0\n",
      "25%        17.0\n",
      "50%        34.0\n",
      "75%        55.0\n",
      "max       143.0\n",
      "Name: messages_per_month, dtype: float64\n",
      "\n",
      "\n",
      "Тариф: \"ultra\"\n",
      "Параметр: Количество отправленных сообщений в месяц\n",
      "\n",
      "Среднее значение: 61.2\n",
      "Дисперсия: 2107.0\n",
      "Стандартное отклонение: 45.9\n",
      "\n",
      "count   795.0\n",
      "mean     61.2\n",
      "std      45.9\n",
      "min       1.0\n",
      "25%      24.0\n",
      "50%      51.0\n",
      "75%      87.5\n",
      "max     224.0\n",
      "Name: messages_per_month, dtype: float64\n",
      "\n",
      "\n",
      "--------------------\n",
      "\n",
      "\n",
      "Параметр: Объем интернет-трафика в месяц\n"
     ]
    },
    {
     "data": {
      "image/png": "[encoded data removed]",
      "text/plain": [
       "<Figure size 648x432 with 1 Axes>"
      ]
     },
     "metadata": {
      "needs_background": "light"
     },
     "output_type": "display_data"
    },
    {
     "name": "stdout",
     "output_type": "stream",
     "text": [
      "\n"
     ]
    },
    {
     "data": {
      "image/png": "[encoded data removed]",
      "text/plain": [
       "<Figure size 648x432 with 1 Axes>"
      ]
     },
     "metadata": {
      "needs_background": "light"
     },
     "output_type": "display_data"
    },
    {
     "name": "stdout",
     "output_type": "stream",
     "text": [
      "\n",
      "Тариф: \"smart\"\n",
      "Параметр: Объем интернет-трафика в месяц\n",
      "\n",
      "Среднее значение: 16244.5\n",
      "Дисперсия: 34453604.9\n",
      "Стандартное отклонение: 5869.7\n",
      "\n",
      "count    2,228.0\n",
      "mean    16,244.5\n",
      "std      5,871.0\n",
      "min          1.0\n",
      "25%     12,673.2\n",
      "50%     16,541.5\n",
      "75%     20,078.8\n",
      "max     38,627.0\n",
      "Name: internet_per_month_mb, dtype: float64\n",
      "\n",
      "\n",
      "Тариф: \"ultra\"\n",
      "Параметр: Объем интернет-трафика в месяц\n",
      "\n",
      "Среднее значение: 19688.6\n",
      "Дисперсия: 98957235.8\n",
      "Стандартное отклонение: 9947.7\n",
      "\n",
      "count      975.0\n",
      "mean    19,688.6\n",
      "std      9,952.8\n",
      "min          1.0\n",
      "25%     12,022.0\n",
      "50%     19,416.0\n",
      "75%     26,921.5\n",
      "max     49,793.0\n",
      "Name: internet_per_month_mb, dtype: float64\n",
      "\n",
      "\n",
      "--------------------\n",
      "\n",
      "\n"
     ]
    }
   ],
   "source": [
    "# анализ поведения клиентов оператора\n",
    "for parameter in parameters:\n",
    "    print('Параметр: {}'.format(parameter[1]))\n",
    "\n",
    "    # построение графика boxplot\n",
    "    sns.boxplot(x=\"tariff\", \n",
    "                y=parameter[0],\n",
    "                data=report,\n",
    "                palette=colors,\n",
    "                order = tariffs_order\n",
    "               )\n",
    "    plt.title(parameter[1])\n",
    "    plt.xlabel('Тариф')\n",
    "    plt.ylabel(parameter[2])\n",
    "    plt.tight_layout()\n",
    "    plt.show()\n",
    "    print()\n",
    "    \n",
    "\n",
    "    # построение гистограмм\n",
    "    bins = 50\n",
    "    plt.hist(\n",
    "        report.query('tariff == \"smart\"')[parameter[0]],\n",
    "        bins,\n",
    "        alpha=0.8,\n",
    "        label=('smart'),\n",
    "        color=colors[0]\n",
    "    )\n",
    "    plt.hist(\n",
    "        report.query('tariff == \"ultra\"')[parameter[0]],\n",
    "        bins,\n",
    "        alpha=0.8,\n",
    "        label=('ultra'),\n",
    "        color=colors[1]\n",
    "    )\n",
    "    plt.title(parameter[1])\n",
    "    plt.ylabel(parameter[2])\n",
    "    plt.tight_layout()\n",
    "    plt.legend(loc='upper right')\n",
    "    plt.show()  \n",
    "    print()\n",
    "    \n",
    "    # расчет среднего количества, дисперсии и стандартного отклонения\n",
    "    for tariff_temp in tariffs_order:\n",
    "        print('Тариф: \"{}\"'.format(tariff_temp))\n",
    "        print('Параметр: {}'.format(parameter[1]))\n",
    "        print() \n",
    "        \n",
    "\n",
    "        # среднее \n",
    "        mean_temp = np.mean(report.query('tariff == @tariff_temp')[parameter[0]])\n",
    "        print('Среднее значение: {:.1f}'.format(mean_temp))\n",
    "        # дисперсия\n",
    "        variance_temp = np.var(report.query('tariff == @tariff_temp')[parameter[0]])\n",
    "        print('Дисперсия: {:.1f}'.format(variance_temp))\n",
    "        # стандартное отклонение\n",
    "        standard_deviation_temp = np.std(report.query('tariff == @tariff_temp')[parameter[0]])\n",
    "        print('Стандартное отклонение: {:.1f}'.format(standard_deviation_temp))\n",
    "        \n",
    "        \n",
    "        print()      \n",
    "        print(report.query('tariff == @tariff_temp')[parameter[0]].describe())\n",
    "        print()\n",
    "        print() \n",
    "    print('--------------------')\n",
    "    print()\n",
    "    print() "
   ]
  },
  {
   "cell_type": "code",
   "execution_count": 40,
   "metadata": {},
   "outputs": [
    {
     "data": {
      "text/html": [
       "<div>\n",
       "<style scoped>\n",
       "    .dataframe tbody tr th:only-of-type {\n",
       "        vertical-align: middle;\n",
       "    }\n",
       "\n",
       "    .dataframe tbody tr th {\n",
       "        vertical-align: top;\n",
       "    }\n",
       "\n",
       "    .dataframe thead tr th {\n",
       "        text-align: left;\n",
       "    }\n",
       "\n",
       "    .dataframe thead tr:last-of-type th {\n",
       "        text-align: right;\n",
       "    }\n",
       "</style>\n",
       "<table border=\"1\" class=\"dataframe\">\n",
       "  <thead>\n",
       "    <tr>\n",
       "      <th></th>\n",
       "      <th colspan=\"3\" halign=\"left\">calls_month_duration_minutes</th>\n",
       "      <th colspan=\"3\" halign=\"left\">calls_per_month</th>\n",
       "      <th colspan=\"3\" halign=\"left\">internet_per_month_mb</th>\n",
       "      <th colspan=\"3\" halign=\"left\">messages_per_month</th>\n",
       "    </tr>\n",
       "    <tr>\n",
       "      <th></th>\n",
       "      <th>mean</th>\n",
       "      <th>std</th>\n",
       "      <th>var</th>\n",
       "      <th>mean</th>\n",
       "      <th>std</th>\n",
       "      <th>var</th>\n",
       "      <th>mean</th>\n",
       "      <th>std</th>\n",
       "      <th>var</th>\n",
       "      <th>mean</th>\n",
       "      <th>std</th>\n",
       "      <th>var</th>\n",
       "    </tr>\n",
       "    <tr>\n",
       "      <th>tariff</th>\n",
       "      <th></th>\n",
       "      <th></th>\n",
       "      <th></th>\n",
       "      <th></th>\n",
       "      <th></th>\n",
       "      <th></th>\n",
       "      <th></th>\n",
       "      <th></th>\n",
       "      <th></th>\n",
       "      <th></th>\n",
       "      <th></th>\n",
       "      <th></th>\n",
       "    </tr>\n",
       "  </thead>\n",
       "  <tbody>\n",
       "    <tr>\n",
       "      <td>smart</td>\n",
       "      <td>430.6</td>\n",
       "      <td>193.9</td>\n",
       "      <td>37,578.0</td>\n",
       "      <td>58.6</td>\n",
       "      <td>25.8</td>\n",
       "      <td>665.4</td>\n",
       "      <td>16,244.5</td>\n",
       "      <td>5,871.0</td>\n",
       "      <td>34,469,075.7</td>\n",
       "      <td>38.7</td>\n",
       "      <td>26.8</td>\n",
       "      <td>717.6</td>\n",
       "    </tr>\n",
       "    <tr>\n",
       "      <td>ultra</td>\n",
       "      <td>560.1</td>\n",
       "      <td>314.7</td>\n",
       "      <td>99,062.6</td>\n",
       "      <td>76.0</td>\n",
       "      <td>42.4</td>\n",
       "      <td>1,798.0</td>\n",
       "      <td>19,688.6</td>\n",
       "      <td>9,952.8</td>\n",
       "      <td>99,058,834.6</td>\n",
       "      <td>61.2</td>\n",
       "      <td>45.9</td>\n",
       "      <td>2,109.7</td>\n",
       "    </tr>\n",
       "  </tbody>\n",
       "</table>\n",
       "</div>"
      ],
      "text/plain": [
       "       calls_month_duration_minutes                calls_per_month       \\\n",
       "                               mean   std      var            mean  std   \n",
       "tariff                                                                    \n",
       "smart                         430.6 193.9 37,578.0            58.6 25.8   \n",
       "ultra                         560.1 314.7 99,062.6            76.0 42.4   \n",
       "\n",
       "               internet_per_month_mb                      messages_per_month  \\\n",
       "           var                  mean     std          var               mean   \n",
       "tariff                                                                         \n",
       "smart    665.4              16,244.5 5,871.0 34,469,075.7               38.7   \n",
       "ultra  1,798.0              19,688.6 9,952.8 99,058,834.6               61.2   \n",
       "\n",
       "                     \n",
       "        std     var  \n",
       "tariff               \n",
       "smart  26.8   717.6  \n",
       "ultra  45.9 2,109.7  "
      ]
     },
     "execution_count": 40,
     "metadata": {},
     "output_type": "execute_result"
    }
   ],
   "source": [
    "statistics = report.pivot_table(index=['tariff'],\n",
    "                                values=['calls_per_month',\n",
    "                                        'calls_month_duration_minutes',\n",
    "                                        'messages_per_month',\n",
    "                                        'internet_per_month_mb'],\n",
    "                                \n",
    "                                aggfunc={'calls_per_month': [np.mean, np.var, np.std],\n",
    "                                        'calls_month_duration_minutes': [np.mean, np.var, np.std],\n",
    "                                        'messages_per_month': [np.mean, np.var, np.std],\n",
    "                                        'internet_per_month_mb': [np.mean, np.var, np.std]}\n",
    "                               )\n",
    "statistics"
   ]
  },
  {
   "cell_type": "markdown",
   "metadata": {},
   "source": [
    "___"
   ]
  },
  {
   "cell_type": "code",
   "execution_count": 41,
   "metadata": {},
   "outputs": [],
   "source": [
    "# распределение выручки по тарифам\n",
    "revenue_total = report.groupby(by='tariff')['revenue'].sum()"
   ]
  },
  {
   "cell_type": "code",
   "execution_count": 42,
   "metadata": {},
   "outputs": [
    {
     "data": {
      "image/png": "[encoded data removed]",
      "text/plain": [
       "<Figure size 648x432 with 1 Axes>"
      ]
     },
     "metadata": {},
     "output_type": "display_data"
    }
   ],
   "source": [
    "# график распределения выручки по тарифам\n",
    "fig1, ax1 = plt.subplots()\n",
    "patches, texts, autotexts = ax1.pie(revenue_total, colors = colors, autopct='%1.0f%%', startangle=90)\n",
    "for autotext in autotexts:\n",
    "    autotext.set_color('white')\n",
    "plt.tight_layout()\n",
    "plt.title('Распределение выручки по тарифам')\n",
    "plt.legend(revenue_total.index, loc='upper right')\n",
    "plt.show()"
   ]
  },
  {
   "cell_type": "markdown",
   "metadata": {},
   "source": [
    "Распределение выручки выборки по тарифам: smart — 57 %, ultra — 43 %."
   ]
  },
  {
   "cell_type": "code",
   "execution_count": 43,
   "metadata": {},
   "outputs": [],
   "source": [
    "revenue = report.groupby(by='tariff')[['revenue_calls',\n",
    "                                       'revenue_messages',\n",
    "                                       'revenue_internet',\n",
    "                                       'revenue_month_fee']].sum()\n",
    "#.reset_index()"
   ]
  },
  {
   "cell_type": "code",
   "execution_count": 44,
   "metadata": {},
   "outputs": [
    {
     "data": {
      "image/png": "[encoded data removed]",
      "text/plain": [
       "<Figure size 648x432 with 1 Axes>"
      ]
     },
     "metadata": {
      "needs_background": "light"
     },
     "output_type": "display_data"
    }
   ],
   "source": [
    "# формирование оси X\n",
    "xticks=tariffs_order\n",
    "x=range(len(xticks))\n",
    "\n",
    "ax = revenue.plot(kind=\"bar\", \n",
    "                  colors = colors, \n",
    "                  stacked=True\n",
    "                                          )\n",
    "plt.tight_layout()\n",
    "plt.legend(loc='upper right')\n",
    "plt.title('Источники выручки')\n",
    "\n",
    "#plt.axis('off')\n",
    "plt.xticks(x, xticks, rotation = 0)\n",
    "plt.show()"
   ]
  },
  {
   "cell_type": "code",
   "execution_count": 45,
   "metadata": {},
   "outputs": [
    {
     "name": "stdout",
     "output_type": "stream",
     "text": [
      "Доля клиентов на тарифе smart, потребляющих услуги сверх пакета 75%\n",
      "Доля клиентов на тарифе ultra, потребляющих услуги сверх пакета 14%\n"
     ]
    }
   ],
   "source": [
    "# доля клиентов, потребляющих услуги сверх пакета\n",
    "for tariff in tariffs_order:\n",
    "    extra_count = report.query('tariff == @tariff and (revenue_calls > 0 or revenue_messages > 0 or revenue_internet > 0)')['tariff'].count()\n",
    "    tariff_count = report.query('tariff == @tariff')['tariff'].count()\n",
    "    print('Доля клиентов на тарифе {}, потребляющих услуги сверх пакета {:.0%}'. format(tariff, extra_count / tariff_count))"
   ]
  },
  {
   "cell_type": "markdown",
   "metadata": {},
   "source": [
    "### Вывод\n",
    "- Распределение клиентов выборки по тарифам: \n",
    "    - smart — 70 %;\n",
    "    - ultra — 30 %.\n",
    "- В среднем клиенты на тарифе smart звонят 59 раз в месяц, а на тарифе ultra — 76. \n",
    "- Средняя продолжительность звонков на тарифе smart 431 мин. в месяц, а на тарифе ultra — 560.\n",
    "- В среднем клиенты на тарифе smart отправляют 39 сообщений в месяц, а на тарифе ultra — 61. \n",
    "- В среднем клиенты на тарифе smart потребляют 16 Гб в месяц, а на тарифе ultra — 19. \n",
    "- Распределение выручки выборки по тарифам:\n",
    "    - smart — 59 %, \n",
    "    - ultra — 41 %.\n",
    "- Основной объем выручки формируется:\n",
    "    - на тарифе smart формируется от оплаты интернета сверх пакета и абонентской платы.\n",
    "    - на тарифе ultra формируется от абонентской платы."
   ]
  },
  {
   "cell_type": "markdown",
   "metadata": {},
   "source": [
    "## 4. Проверка гипотез"
   ]
  },
  {
   "cell_type": "markdown",
   "metadata": {},
   "source": [
    "### Cредняя выручка клиентов по тарифам"
   ]
  },
  {
   "cell_type": "markdown",
   "metadata": {},
   "source": [
    "Формулировка согласно заданию:  \n",
    "> Проверьте гипотезы:  \n",
    "средняя выручка пользователей тарифов «Ультра» и «Смарт» различается\n",
    "___\n",
    "Так как в задании предлагается сравнить средние значения двух выборок, то необходимо формулировать и проверять гипотезу о равенстве средних двух генеральных совокупностей.\n",
    "\n",
    "__Нулевая гипотеза:__ средние выручки клиентов тарифов «Ультра» и «Смарт» равны.  \n",
    "__Альтернативная гипотеза:__ средние выручки клиентов тарифов «Ультра» и «Смарт» отличаются.  \n",
    "Критический уровень статистической значимости — 1 %. Высокий порог статистической значимости задан с учетом важности и стоимости задачи."
   ]
  },
  {
   "cell_type": "code",
   "execution_count": 46,
   "metadata": {},
   "outputs": [
    {
     "name": "stdout",
     "output_type": "stream",
     "text": [
      "p-значение: 1.2496710269965528e-233\n",
      "Отвергаем нулевую гипотезу\n"
     ]
    }
   ],
   "source": [
    "# критический уровень статистической значимости\n",
    "alpha = .01\n",
    "\n",
    "results = st.ttest_ind(\n",
    "    report.query('tariff == \"smart\"')['revenue'], \n",
    "    report.query('tariff == \"ultra\"')['revenue'], \n",
    "    equal_var=False)\n",
    "\n",
    "print('p-значение:', results.pvalue)\n",
    "\n",
    "if (results.pvalue < alpha):\n",
    "    print(\"Отвергаем нулевую гипотезу\")\n",
    "else:\n",
    "    print(\"Не получилось отвергнуть нулевую гипотезу\")"
   ]
  },
  {
   "cell_type": "markdown",
   "metadata": {},
   "source": [
    "Полученное значение p-value говорит о том, что с вероятностью близкой к 100 % средние выручки клиентов тарифов «Ультра» и «Смарт» __не равны__."
   ]
  },
  {
   "cell_type": "code",
   "execution_count": 47,
   "metadata": {},
   "outputs": [
    {
     "data": {
      "text/html": [
       "<div>\n",
       "<style scoped>\n",
       "    .dataframe tbody tr th:only-of-type {\n",
       "        vertical-align: middle;\n",
       "    }\n",
       "\n",
       "    .dataframe tbody tr th {\n",
       "        vertical-align: top;\n",
       "    }\n",
       "\n",
       "    .dataframe thead tr th {\n",
       "        text-align: left;\n",
       "    }\n",
       "\n",
       "    .dataframe thead tr:last-of-type th {\n",
       "        text-align: right;\n",
       "    }\n",
       "</style>\n",
       "<table border=\"1\" class=\"dataframe\">\n",
       "  <thead>\n",
       "    <tr>\n",
       "      <th></th>\n",
       "      <th colspan=\"3\" halign=\"left\">revenue</th>\n",
       "      <th colspan=\"3\" halign=\"left\">revenue_calls</th>\n",
       "      <th colspan=\"3\" halign=\"left\">revenue_internet</th>\n",
       "      <th colspan=\"3\" halign=\"left\">revenue_messages</th>\n",
       "    </tr>\n",
       "    <tr>\n",
       "      <th></th>\n",
       "      <th>mean</th>\n",
       "      <th>std</th>\n",
       "      <th>var</th>\n",
       "      <th>mean</th>\n",
       "      <th>std</th>\n",
       "      <th>var</th>\n",
       "      <th>mean</th>\n",
       "      <th>std</th>\n",
       "      <th>var</th>\n",
       "      <th>mean</th>\n",
       "      <th>std</th>\n",
       "      <th>var</th>\n",
       "    </tr>\n",
       "    <tr>\n",
       "      <th>tariff</th>\n",
       "      <th></th>\n",
       "      <th></th>\n",
       "      <th></th>\n",
       "      <th></th>\n",
       "      <th></th>\n",
       "      <th></th>\n",
       "      <th></th>\n",
       "      <th></th>\n",
       "      <th></th>\n",
       "      <th></th>\n",
       "      <th></th>\n",
       "      <th></th>\n",
       "    </tr>\n",
       "  </thead>\n",
       "  <tbody>\n",
       "    <tr>\n",
       "      <td>smart</td>\n",
       "      <td>1,312.5</td>\n",
       "      <td>830.9</td>\n",
       "      <td>690,458.2</td>\n",
       "      <td>141.8</td>\n",
       "      <td>272.8</td>\n",
       "      <td>74,394.7</td>\n",
       "      <td>603.3</td>\n",
       "      <td>740.5</td>\n",
       "      <td>548,373.2</td>\n",
       "      <td>17.4</td>\n",
       "      <td>40.3</td>\n",
       "      <td>1,626.3</td>\n",
       "    </tr>\n",
       "    <tr>\n",
       "      <td>ultra</td>\n",
       "      <td>2,071.1</td>\n",
       "      <td>378.8</td>\n",
       "      <td>143,491.2</td>\n",
       "      <td>0.0</td>\n",
       "      <td>0.0</td>\n",
       "      <td>0.0</td>\n",
       "      <td>121.1</td>\n",
       "      <td>378.8</td>\n",
       "      <td>143,491.2</td>\n",
       "      <td>0.0</td>\n",
       "      <td>0.0</td>\n",
       "      <td>0.0</td>\n",
       "    </tr>\n",
       "  </tbody>\n",
       "</table>\n",
       "</div>"
      ],
      "text/plain": [
       "       revenue                 revenue_calls                revenue_internet  \\\n",
       "          mean   std       var          mean   std      var             mean   \n",
       "tariff                                                                         \n",
       "smart  1,312.5 830.9 690,458.2         141.8 272.8 74,394.7            603.3   \n",
       "ultra  2,071.1 378.8 143,491.2           0.0   0.0      0.0            121.1   \n",
       "\n",
       "                       revenue_messages               \n",
       "         std       var             mean  std     var  \n",
       "tariff                                                \n",
       "smart  740.5 548,373.2             17.4 40.3 1,626.3  \n",
       "ultra  378.8 143,491.2              0.0  0.0     0.0  "
      ]
     },
     "execution_count": 47,
     "metadata": {},
     "output_type": "execute_result"
    }
   ],
   "source": [
    "# проверка выводов\n",
    "revenue_stat_general = report.query('revenue > 0').pivot_table(index=['tariff'],\n",
    "                                values=['revenue_calls',\n",
    "                                        'revenue_messages',\n",
    "                                        'revenue_internet',\n",
    "                                        'revenue'],\n",
    "                                \n",
    "                                aggfunc={'revenue_calls': [np.mean, np.var, np.std],\n",
    "                                        'revenue_messages': [np.mean, np.var, np.std],\n",
    "                                        'revenue_internet': [np.mean, np.var, np.std],\n",
    "                                        'revenue': [np.mean, np.var, np.std]}\n",
    "                               )\n",
    "revenue_stat_general"
   ]
  },
  {
   "cell_type": "markdown",
   "metadata": {},
   "source": [
    "### Cредняя выручка клиентов по городам"
   ]
  },
  {
   "cell_type": "markdown",
   "metadata": {},
   "source": [
    "Формулировка согласно заданию:  \n",
    "> Проверьте гипотезы:  \n",
    "средняя выручка пользователей из Москвы отличается от выручки пользователей из других регионов;\n",
    "___\n",
    "Так как в задании предлагается сравнить средние значения двух выборок, то необходимо формулировать и проверять гипотезу о равенстве средних двух генеральных совокупностей.\n",
    "\n",
    "__Нулевая гипотеза:__ средняя выручка клиентов из Москвы и других регионов равны.  \n",
    "__Альтернативная гипотеза:__ средняя выручка клиентов из Москвы и других регионов отличаются.\n",
    "Критический уровень статистической значимости — 1 %. Высокий порог статистической значимости задан с учетом важности и стоимости задачи."
   ]
  },
  {
   "cell_type": "code",
   "execution_count": 48,
   "metadata": {},
   "outputs": [
    {
     "name": "stdout",
     "output_type": "stream",
     "text": [
      "p-значение: 0.560259602740345\n",
      "Не получилось отвергнуть нулевую гипотезу\n"
     ]
    }
   ],
   "source": [
    "# критический уровень статистической значимости\n",
    "alpha = .01\n",
    "\n",
    "results = st.ttest_ind(\n",
    "    report.query('region == \"Москва\"')['revenue'], \n",
    "    report.query('region != \"Москва\"')['revenue'], \n",
    "    equal_var=False)\n",
    "\n",
    "print('p-значение:', results.pvalue)\n",
    "\n",
    "if (results.pvalue < alpha):\n",
    "    print(\"Отвергаем нулевую гипотезу\")\n",
    "else:\n",
    "    print(\"Не получилось отвергнуть нулевую гипотезу\")"
   ]
  },
  {
   "cell_type": "markdown",
   "metadata": {},
   "source": [
    "Полученное значение p-value говорит о том, что с вероятностью 56 % средние выручки клиентов из Москвы и других регионов __равны__."
   ]
  },
  {
   "cell_type": "code",
   "execution_count": 49,
   "metadata": {},
   "outputs": [
    {
     "data": {
      "text/html": [
       "<div>\n",
       "<style scoped>\n",
       "    .dataframe tbody tr th:only-of-type {\n",
       "        vertical-align: middle;\n",
       "    }\n",
       "\n",
       "    .dataframe tbody tr th {\n",
       "        vertical-align: top;\n",
       "    }\n",
       "\n",
       "    .dataframe thead tr th {\n",
       "        text-align: left;\n",
       "    }\n",
       "\n",
       "    .dataframe thead tr:last-of-type th {\n",
       "        text-align: right;\n",
       "    }\n",
       "</style>\n",
       "<table border=\"1\" class=\"dataframe\">\n",
       "  <thead>\n",
       "    <tr>\n",
       "      <th></th>\n",
       "      <th colspan=\"3\" halign=\"left\">revenue</th>\n",
       "      <th colspan=\"3\" halign=\"left\">revenue_calls</th>\n",
       "      <th colspan=\"3\" halign=\"left\">revenue_internet</th>\n",
       "      <th colspan=\"3\" halign=\"left\">revenue_messages</th>\n",
       "    </tr>\n",
       "    <tr>\n",
       "      <th></th>\n",
       "      <th>mean</th>\n",
       "      <th>std</th>\n",
       "      <th>var</th>\n",
       "      <th>mean</th>\n",
       "      <th>std</th>\n",
       "      <th>var</th>\n",
       "      <th>mean</th>\n",
       "      <th>std</th>\n",
       "      <th>var</th>\n",
       "      <th>mean</th>\n",
       "      <th>std</th>\n",
       "      <th>var</th>\n",
       "    </tr>\n",
       "    <tr>\n",
       "      <th>region</th>\n",
       "      <th></th>\n",
       "      <th></th>\n",
       "      <th></th>\n",
       "      <th></th>\n",
       "      <th></th>\n",
       "      <th></th>\n",
       "      <th></th>\n",
       "      <th></th>\n",
       "      <th></th>\n",
       "      <th></th>\n",
       "      <th></th>\n",
       "      <th></th>\n",
       "    </tr>\n",
       "  </thead>\n",
       "  <tbody>\n",
       "    <tr>\n",
       "      <td>Москва</td>\n",
       "      <td>1,561.2</td>\n",
       "      <td>753.2</td>\n",
       "      <td>567,332.1</td>\n",
       "      <td>84.5</td>\n",
       "      <td>208.7</td>\n",
       "      <td>43,545.2</td>\n",
       "      <td>403.6</td>\n",
       "      <td>627.6</td>\n",
       "      <td>393,847.7</td>\n",
       "      <td>7.5</td>\n",
       "      <td>25.9</td>\n",
       "      <td>668.7</td>\n",
       "    </tr>\n",
       "    <tr>\n",
       "      <td>не-Москва</td>\n",
       "      <td>1,541.2</td>\n",
       "      <td>814.5</td>\n",
       "      <td>663,465.7</td>\n",
       "      <td>101.6</td>\n",
       "      <td>242.3</td>\n",
       "      <td>58,716.2</td>\n",
       "      <td>467.7</td>\n",
       "      <td>701.3</td>\n",
       "      <td>491,761.6</td>\n",
       "      <td>13.1</td>\n",
       "      <td>36.2</td>\n",
       "      <td>1,309.3</td>\n",
       "    </tr>\n",
       "  </tbody>\n",
       "</table>\n",
       "</div>"
      ],
      "text/plain": [
       "          revenue                 revenue_calls                 \\\n",
       "             mean   std       var          mean   std      var   \n",
       "region                                                           \n",
       "Москва    1,561.2 753.2 567,332.1          84.5 208.7 43,545.2   \n",
       "не-Москва 1,541.2 814.5 663,465.7         101.6 242.3 58,716.2   \n",
       "\n",
       "          revenue_internet                 revenue_messages               \n",
       "                      mean   std       var             mean  std     var  \n",
       "region                                                                    \n",
       "Москва               403.6 627.6 393,847.7              7.5 25.9   668.7  \n",
       "не-Москва            467.7 701.3 491,761.6             13.1 36.2 1,309.3  "
      ]
     },
     "execution_count": 49,
     "metadata": {},
     "output_type": "execute_result"
    }
   ],
   "source": [
    "# проверка выводов\n",
    "revenue_stat_region = report.query('revenue > 0').pivot_table(index=['region'],\n",
    "                                values=['revenue_calls',\n",
    "                                        'revenue_messages',\n",
    "                                        'revenue_internet',\n",
    "                                        'revenue'],\n",
    "                                \n",
    "                                aggfunc={'revenue_calls': [np.mean, np.var, np.std],\n",
    "                                        'revenue_messages': [np.mean, np.var, np.std],\n",
    "                                        'revenue_internet': [np.mean, np.var, np.std],\n",
    "                                        'revenue': [np.mean, np.var, np.std]}\n",
    "                               )\n",
    "revenue_stat_region"
   ]
  },
  {
   "cell_type": "markdown",
   "metadata": {},
   "source": [
    "### Вывод\n",
    "- Нулевая гипотеза (средние выручки клиентов тарифов «Ультра» и «Смарт» равны) отвергнута. Верна альтернативная гипотеза — средние выручки клиентов тарифов «Ультра» и «Смарт» отличаются с вероятностью почти более 99 %.\n",
    "- Нулевая гипотеза (средняя выручка клиентов из Москвы и других регионов равны) верна с вероятностью почти 56 %.  "
   ]
  },
  {
   "cell_type": "markdown",
   "metadata": {},
   "source": [
    "## 5. Общий вывод"
   ]
  },
  {
   "cell_type": "markdown",
   "metadata": {},
   "source": [
    "__Наиболее перспективный тариф — «Смарт»:__  \n",
    "- От тарифа «Смарт» формируется __59 % выручки.__\n",
    "- Средняя выручка от тарифа «Смарт» __1 313 руб./мес. с клиента__.\n",
    "- Тарифом «Смарт» пользуются __70 % клиентов.__\n",
    "- На тарифе «Смарт» __75 % клиентов__ потребляют услуги сверх пакета. \n",
    "- Потребление услуг сверх пакета формирует __54 % выручки__ на тарифе «Смарт».\n",
    "- Сверх пакета на тарифе «Смарт» потребляются все услуги. 46 % выручки на тарифе приносит интернет и 10 % — звонки.\n",
    "\n",
    "Тариф «Ультра» менее перспективный:\n",
    "- От тарифа «Ультра» формируется 41 % выручки. \n",
    "- Средняя выручка от тарифа «Ультра» 2 071 руб./мес. с клиента.\n",
    "- Тарифом «Ультра» пользуются 30 % клиентов.\n",
    "- Только 14 % клиентов на тарифе «Ультра» потребляет услуги сверх пакета 14 % (только интернет) и это формирует всего 5 % выручки от тарифа.  \n",
    "\n",
    "\n",
    "\n",
    "Средние выручки от тарифов отличаются с вероятностью (p-value) около <99,99 %.\n",
    "   \n",
    "Средние выручки по городам почти равны с вероятностью (p-value) около 56 %:\n",
    "- Москва 1 561 руб./мес. с клиента,\n",
    "- не-Москва 1 541 руб./мес. с клиента.     \n",
    "___\n",
    "- Количественные показатели:\n",
    "    - Количество звонков, шт./мес.:\n",
    "        - «Смарт» — 59,\n",
    "        - «Ультра» — 76. \n",
    "    - Средняя продолжительность звонков, мин. в месяц:\n",
    "        - «Смарт» — 431, \n",
    "        - «Ультра» — 560.\n",
    "    - Отправленные сообщения, шт./мес.:\n",
    "        - «Смарт» — 39,\n",
    "        - «Ультра» — 61. \n",
    "    - Потребление интернет-трафика, Гб/мес.:\n",
    "        - «Смарт» — 16,\n",
    "        - «Ультра» — 19. "
   ]
  }
 ],
 "metadata": {
  "kernelspec": {
   "display_name": "Python 3",
   "language": "python",
   "name": "python3"
  },
  "language_info": {
   "codemirror_mode": {
    "name": "ipython",
    "version": 3
   },
   "file_extension": ".py",
   "mimetype": "text/x-python",
   "name": "python",
   "nbconvert_exporter": "python",
   "pygments_lexer": "ipython3",
   "version": "3.7.7"
  }
 },
 "nbformat": 4,
 "nbformat_minor": 2
}
